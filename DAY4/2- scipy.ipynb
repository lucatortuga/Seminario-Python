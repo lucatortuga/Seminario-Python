{
 "cells": [
  {
   "cell_type": "markdown",
   "metadata": {},
   "source": [
    "# `SciPy`\n",
    "## [scipy.org](https://scipy.org/)"
   ]
  },
  {
   "cell_type": "markdown",
   "metadata": {},
   "source": [
    "Il pacchetto scipy fornisce un ambiente di calcolo scientifico _general purpose_ dedicato ai più comuni problemi del _scientific computing_ . I suoi differenti sotto moduli di fatto corrispondono a differenti applicazioni quali interpolazione, integrazione, ottimizzazione, elaborazione immagini, statistica, etc.  \n",
    "`scipy` può essere paragonato ad altri strumenti o librerie standard per l'elaborazione scientifica quali per esempio i _toolbox_ di MatLab. In Python è sicuramente il \"core package\" per le routin di calcolo scientifico; è pensato e concepito per operare efficientemente con gli array numpy!  \n",
    "E' buona norma verificare se l'algoritmo necessario non è già sviluppato in Scipy. I programmatori non professionisti(es. ricercatori), sono spesso portati a \"reinventare la ruota\" ottenenedo principalmente codice non ottimizzato, fallato, difficile da condividere o mantenere. Da contro le routine di Scipy sono già ottimizzate e testate!"
   ]
  },
  {
   "cell_type": "markdown",
   "metadata": {},
   "source": [
    "### Scipy è di fatto una collezione enorme di sottopacchetti"
   ]
  },
  {
   "cell_type": "code",
   "execution_count": null,
   "metadata": {},
   "outputs": [],
   "source": [
    "import scipy\n",
    "\n",
    "scipy.info(scipy)"
   ]
  },
  {
   "cell_type": "markdown",
   "metadata": {},
   "source": [
    "Fornisce inoltre:\n",
    "\n",
    "- costanti matematiche e fisiche **`scipy.constants`**\n",
    "- funzioni in uso in fisica matematica (ellittiche, Bessel, ipergeometriche) **`scipy.special**\n",
    "- metodi di integrazione numerica (trapezoidale, Simpson), integrazione di equazioni differenziali **`scipy.integrate`**\n",
    "- metodi di ottimizzazione (minimi quadrati, gradiente, simulated annealing) **`scipy.optimize`**\n",
    "- estensione di numpy.linalg; soluzione di sistemi lineari, calcolo matriciale, decomposizione, fattorizzazione **`scipy.linalg`**\n",
    "- gestione di matrici sparse **`scipy.sparse`**\n",
    "- metodi per l'interpolazione lineare e non di dati **`scipy.interpolate`**\n",
    "- Trasformazione di Fourier **`scipy.fftpack`**\n",
    "- metodi di signal processing (filtraggio, correlazione, convoluzione, smoothing) **`scipy.signal`**\n",
    "- distribuzioni di probabilità continue e discrete, calcolo dei momenti, calcolo cumulative, statistica descrittiva, test **`scipy.stats`**"
   ]
  },
  {
   "cell_type": "markdown",
   "metadata": {},
   "source": [
    "## Solo la curiosità e l'esigenza di ottimizzare e migliorare i vostri studi vi spingerà alla scoperta di questi nuovi strumenti ;-)  "
   ]
  },
  {
   "cell_type": "code",
   "execution_count": null,
   "metadata": {},
   "outputs": [],
   "source": []
  }
 ],
 "metadata": {
  "kernelspec": {
   "display_name": "Python 3",
   "language": "python",
   "name": "python3"
  },
  "language_info": {
   "codemirror_mode": {
    "name": "ipython",
    "version": 3
   },
   "file_extension": ".py",
   "mimetype": "text/x-python",
   "name": "python",
   "nbconvert_exporter": "python",
   "pygments_lexer": "ipython3",
   "version": "3.7.5"
  }
 },
 "nbformat": 4,
 "nbformat_minor": 4
}

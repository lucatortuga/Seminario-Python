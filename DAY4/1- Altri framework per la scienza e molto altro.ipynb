{
 "cells": [
  {
   "cell_type": "markdown",
   "metadata": {},
   "source": [
    "# Altri framework per la scienza...and more"
   ]
  },
  {
   "cell_type": "markdown",
   "metadata": {},
   "source": [
    "**[Scipy](http://scipy.org)**\n",
    "SciPy è un ecosistema di software Open Source basato su Python,per la matematica, scienze ed ingegneria. Contiene diversi tool utili in diverse applicazioni quali per esempio interpolazioni, integrazioni, ottimizzazioni, elaborazioni d'immagini, statistiche, etc.\n",
    "In particolare vediamo prima la libreria [scipy](./2-%20scipy.ipynb)  \n",
    "\n",
    "**Altri pacchetti per il data science** :\n",
    "- [SymPy](https://www.sympy.org/en/index.html), per la matematica simbolica e la computer algebra(vedere elenco progetti).\n",
    "- [scikit-image](https://scikit-image.org/) collezione di algoritmi per elaborazione d'immagini. Lavora con array _numpy_\n",
    "- [scikit-learn](https://scikit-learn.org/stable/) collezione di tool ed algoritmi per la scienza del 'machine-learning'.\n",
    "- [h5py](https://www.h5py.org/) and [PyTables](https://www.pytables.org/) entrambi i pacchetti sono interfacce per accedere al formato [HDF5](https://www.hdfgroup.org/). Questo formato binario permette di memorizzare grandi quantità numeriche di dati, tipiche di applicazioni scientifiche(astronomia, Computational Fluid Dynamics, Earth Observation, ingegneria, finanza, medicina, etc.). _h5py_ gestisce con facilità l'accesso ai dati trattandoli attraverso le funzioni di _numpy_ ."
   ]
  },
  {
   "cell_type": "markdown",
   "metadata": {},
   "source": [
    "Degni di nota sono anche:\n",
    "- [numpy.f2py](https://numpy.org/doc/1.18/f2py/index.html). Scopo di F2PY –Fortran to Python interface generator– è fornire una connessione tra Python ed i linguaggi Fortran. F2PY è parte del pacchetto NumPy (`numpy.f2py`) ed anche disponibile come _tool_ da linea di comando `f2py` (previa installazione di numpy); modalità quest'ultima per semplificare la creazione e costruzione di moduli ed estensioni Python C/API che rendano possibile:\n",
    " - richiamare subroutine esterne Fortran 77/90/95 e Fortran 90/95 così come funzioni C;\n",
    " - accedere a blocchi Fortran 77 COMMON e moduli dati Fortran 90/95, inclusi \"allocatable arrays\"\n",
    "- [Cython](https://cython.org/) Il linguaggio di programmazione Cython arricchisce Python con la tipizzazione statica di tipo C, la capacità di chiamare direttamente funzioni C e molte altre funzionalità. Ciò consente di raggiungere prestazioni a livello C pur utilizzando una sintassi simile a Python.\n",
    "- [Jython](https://www.jython.org/) è un'implementazione Java di Python.\n",
    " E' complementare a Java e specialmente adatto per:\n",
    "  - Embedded scripting - i programmatori Java possono aggiungere le librerie Jython al loro sistema per permettere agli utenti finali di scrivere più o meno complicati _script_ che aggiungano funzionalità all'applicazione.\n",
    "  - Interactive experimentation - Jython fornisce un interprete interattivo che può essere usato dai programmatori per interagire con i pacchetti o applicazioni Java. Questo consente di sperimentare e/o correggere codice Java usando Jython.\n",
    "  - Rapid application development - I programmi Python sono generalmente dalle 2 alle 10 volte più corti degli equivalenti in Java. Questo si traduce direttamente in una maggior produttività dei programmatori; una continua interazione fra Python e Java permette ad essi di _mixare_ liberamente i due linguaggi, sia in fase di sviluppo che durante la distribuzione del prodotto finale.\n",
    "- [CircuitPython](https://circuitpython.org/) E' una versione sviluppata per rendere più semplice l'apprendimento e la programmazione dei microcontrollori tipo Arduino."
   ]
  },
  {
   "cell_type": "markdown",
   "metadata": {},
   "source": [
    "**Game Development**\n",
    "- [Pygame](http://www.pygame.org/)  \n",
    "\n",
    "**Web Development**\n",
    "Un'area dove Python 'brilla' è appunto lo sviluppo web. Python offre molti _frameworks_ tra i quali scegliere per cimentarsi con la creazione di siti e applicazioni web interattive e non:\n",
    "- [Flask](https://palletsprojects.com/p/flask/)\n",
    "- [CherryPy](https://cherrypy.org/)\n",
    "- [Django](https://www.djangoproject.com/)\n",
    "- etc.\n",
    "\n",
    "Alcuni di questi sono stati usati per realizzare portali tipo: Spotify, Mozilla, Reddit, Washington Post, Yelp, etc."
   ]
  },
  {
   "cell_type": "markdown",
   "metadata": {},
   "source": [
    "***"
   ]
  },
  {
   "cell_type": "markdown",
   "metadata": {},
   "source": [
    "# Elenco non esaustivo delle principali risorse sulla rete"
   ]
  },
  {
   "cell_type": "markdown",
   "metadata": {},
   "source": [
    "- [https://www.python.org/about/](https://www.python.org/about/)\n",
    "- [https://docs.python.org/3.7/](https://docs.python.org/3.7/) Documentazione ufficiale Python 3.7\n",
    "- [https://docs.python.org/3.7/tutorial/](https://docs.python.org/3.7/tutorial/) Tutorial ufficiale\n",
    "- [http://www.reddit.com/r/learnpython] (http://www.reddit.com/r/learnpython) Risorse Python su Reddit\n",
    "- [https://stackoverflow.com/questions/tagged/python](https://stackoverflow.com/questions/tagged/python) Python su Stackoverflow\n",
    "- [https://python-graph-gallery.com/](https://python-graph-gallery.com/) Python Graph Gallery\n",
    "- [https://realpython.com/](https://realpython.com/) RealPython.com contiene molti tutorial(alcuni a pagamento altri liberi)\n",
    "- [https://github.com/donnemartin/data-science-ipython-notebooks](https://github.com/donnemartin/data-science-ipython-notebooks) Collezione di Data Science Ipython notebooks\n",
    "- [https://github.com/rougier/matplotlib-tutorial]\n",
    "(https://github.com/rougier/matplotlib-tutorial) Tutorial matplotlib\n",
    "- [https://amitness.com/2019/08/math-for-programmers/](https://amitness.com/2019/08/math-for-programmers/) math in Python\n",
    "- [https://realpython.com/quizzes/](https://realpython.com/quizzes/) serie di test con risposta\n",
    "- [https://jakevdp.github.io/PythonDataScienceHandbook/](https://jakevdp.github.io/PythonDataScienceHandbook/) Libro della O'REILLY disponibile online\n",
    "- [https://pyvideo.org/](https://pyvideo.org/) Indice di diversi _Talk_ e _video session_ (molti anche in italiano per i più pigri)\n",
    "- [http://www.python.it/](http://www.python.it/)"
   ]
  },
  {
   "cell_type": "code",
   "execution_count": null,
   "metadata": {},
   "outputs": [],
   "source": []
  }
 ],
 "metadata": {
  "kernelspec": {
   "display_name": "Python 3",
   "language": "python",
   "name": "python3"
  },
  "language_info": {
   "codemirror_mode": {
    "name": "ipython",
    "version": 3
   },
   "file_extension": ".py",
   "mimetype": "text/x-python",
   "name": "python",
   "nbconvert_exporter": "python",
   "pygments_lexer": "ipython3",
   "version": "3.7.5"
  }
 },
 "nbformat": 4,
 "nbformat_minor": 4
}

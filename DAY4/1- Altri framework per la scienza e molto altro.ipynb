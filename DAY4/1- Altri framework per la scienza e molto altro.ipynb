{
 "cells": [
  {
   "cell_type": "markdown",
   "metadata": {},
   "source": [
    "# Altri framework per la scienza...and more"
   ]
  },
  {
   "cell_type": "markdown",
   "metadata": {},
   "source": [
    "**[Scipy](http://scipy.org)**\n",
    "SciPy è un ecosistema di software Open Source basato su Python,per la matematica, scienze ed ingegneria. Contiene diversi tool utili in diverse applicazioni quali per esempio interpolazioni, integrazioni, ottimizzazioni, elaborazioni d'immagini, statistiche, etc.\n",
    "\n",
    "**Altri pacchetti per il data science** :\n",
    "- [SymPy](https://www.sympy.org/en/index.html), per la matematica simbolica e la computer algebra.\n",
    "- [scikit-image](https://scikit-image.org/) collezione di algoritmi per elaborazione d'immagini.\n",
    "- [scikit-learn](https://scikit-learn.org/stable/) collezione di tool ed algoritmi per la scienza del 'machine-learning'.\n",
    "- [h5py](https://www.h5py.org/) and [PyTables](https://www.pytables.org/) entrambi i pacchetti sono utili per accedere ai formati gerarchici di dati."
   ]
  },
  {
   "cell_type": "markdown",
   "metadata": {},
   "source": [
    "**Game Development**\n",
    "- [Pygame](http://www.pygame.org/)  \n",
    "\n",
    "**Web Development**\n",
    "Un'area dove Python 'brilla' è appunto lo sviluppo web. Python offre molti _frameworks_ tra i quali scegliere per cimentarsi con la creazione di siti e applicazioni web interattive e non:\n",
    "- [Flask](https://palletsprojects.com/p/flask/)\n",
    "- [CherryPy](https://cherrypy.org/)\n",
    "- [Django](https://www.djangoproject.com/)\n",
    "- etc.\n",
    "\n",
    "Alcuni di questi sono stati usati per realizzare portali tipo: Spotify, Mozilla, Reddit, Washington Post, Yelp, etc."
   ]
  }
 ],
 "metadata": {
  "kernelspec": {
   "display_name": "Python 3",
   "language": "python",
   "name": "python3"
  },
  "language_info": {
   "codemirror_mode": {
    "name": "ipython",
    "version": 3
   },
   "file_extension": ".py",
   "mimetype": "text/x-python",
   "name": "python",
   "nbconvert_exporter": "python",
   "pygments_lexer": "ipython3",
   "version": "3.7.5"
  }
 },
 "nbformat": 4,
 "nbformat_minor": 4
}

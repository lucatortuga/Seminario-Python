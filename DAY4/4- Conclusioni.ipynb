{
 "cells": [
  {
   "cell_type": "markdown",
   "metadata": {},
   "source": [
    "# Conclusioni"
   ]
  },
  {
   "cell_type": "markdown",
   "metadata": {},
   "source": [
    "- **Questa mini serie di appuntamenti non è stata esaustiva dell'universo Python.**\n",
    "- **Spero di aver stimolato la curiosità per questo linguaggio.**\n",
    "- **il consiglio che vi lascio è:**\n",
    "\n",
    "<center> \n",
    "    <h1>Dategli una `Chance`</h1>\n",
    "</center>"
   ]
  }
 ],
 "metadata": {
  "kernelspec": {
   "display_name": "Python 3",
   "language": "python",
   "name": "python3"
  },
  "language_info": {
   "codemirror_mode": {
    "name": "ipython",
    "version": 3
   },
   "file_extension": ".py",
   "mimetype": "text/x-python",
   "name": "python",
   "nbconvert_exporter": "python",
   "pygments_lexer": "ipython3",
   "version": "3.7.5"
  }
 },
 "nbformat": 4,
 "nbformat_minor": 4
}

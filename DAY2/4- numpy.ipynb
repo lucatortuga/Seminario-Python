{
 "cells": [
  {
   "cell_type": "markdown",
   "metadata": {},
   "source": [
    "# `NumPy`\n",
    "### [numpy.org](https://numpy.org/)\n",
    "<sub>(https://people.unica.it/giulianoarmano/files/2013/06/numpy.pdf  \n",
    "https://www.math.unipd.it/~aiolli/corsi/1819/aa/PyA8--python_scientific.pdf  \n",
    "https://stackoverflow.com/questions/tagged/numpy )</sub>\n",
    "\n"
   ]
  },
  {
   "cell_type": "markdown",
   "metadata": {},
   "source": [
    "Numpy rappresenta un po' la _\"core library\"_ per il calcolo scientifico in Python. Fornisce oggetti computazionali ad alte prestazioni per vettori e matrici multidimensionali e tutti gli strumenti necessari per lavorare con questi:  \n",
    "\n",
    "- funzioni matematiche di alto livello con cui operare(algebra lineare, trasformate di Fourier, etc.)\n",
    "- array multidimensionali\n",
    "- funzioni per numeri casuali\n",
    "\n",
    "Se si ha un po' di confidenza con MATLAB, [qui](https://docs.scipy.org/doc/numpy/user/numpy-for-matlab-users.html) potete trovare una comparazione utile per iniziare poi ad usare Numpy."
   ]
  },
  {
   "cell_type": "markdown",
   "metadata": {},
   "source": [
    "Per usare Numpy, dobbiamo innanzitutto importare il modulo **`numpy`**:\n",
    "\n",
    "```import numpy as np```"
   ]
  },
  {
   "cell_type": "code",
   "execution_count": 1,
   "metadata": {},
   "outputs": [],
   "source": [
    "import numpy as np"
   ]
  },
  {
   "cell_type": "markdown",
   "metadata": {},
   "source": [
    "### Array"
   ]
  },
  {
   "cell_type": "markdown",
   "metadata": {},
   "source": [
    "L'oggetto più importate del pacchetto è l'_array_.  \n",
    "Un _array_ `numpy` è:\n",
    "\n",
    "- un vettore di valori **tutti dello stesso tipo**. (principale differenza con le liste). Il tipo è generalmente un `int` o `float`\n",
    "- è caratterizzato da un **_rank_** e da una **_shape_**\n",
    " - il **rank** indica il numero di dimensioni dell'array\n",
    " - la **shape** è una tupla che indica la lunghezza lungo la singola dimensione.\n",
    "- risulta molto efficiente sulle grandi dimensioni."
   ]
  },
  {
   "cell_type": "markdown",
   "metadata": {},
   "source": [
    "Si può inizializzare un _array_ con il metodo costruttore **`array()`** e poi accedere agli elementi usando le parentesi quadre:"
   ]
  },
  {
   "cell_type": "code",
   "execution_count": 2,
   "metadata": {},
   "outputs": [
    {
     "name": "stdout",
     "output_type": "stream",
     "text": [
      "<class 'numpy.ndarray'> (3,) 1 2 3\n",
      "[5 2 3]\n"
     ]
    }
   ],
   "source": [
    "a = np.array([1, 2, 3])  # Crea un array ad 1 dimensione(rank)\n",
    "print(type(a), a.shape, a[0], a[1], a[2])\n",
    "a[0] = 5                 # Cambio l'elemento di indice 0 dell'array\n",
    "print(a)                  "
   ]
  },
  {
   "cell_type": "code",
   "execution_count": 3,
   "metadata": {},
   "outputs": [
    {
     "name": "stdout",
     "output_type": "stream",
     "text": [
      "[[1 2 3]\n",
      " [4 5 6]]\n"
     ]
    }
   ],
   "source": [
    "b = np.array([[1,2,3],[4,5,6]])   # rank 2 array: 2 righe 3 colonne\n",
    "print(b)"
   ]
  },
  {
   "cell_type": "code",
   "execution_count": 4,
   "metadata": {},
   "outputs": [
    {
     "name": "stdout",
     "output_type": "stream",
     "text": [
      "(2, 3)\n",
      "1 2 4\n"
     ]
    }
   ],
   "source": [
    "print(b.shape)                   \n",
    "print(b[0, 0], b[0, 1], b[1, 0])"
   ]
  },
  {
   "cell_type": "markdown",
   "metadata": {},
   "source": [
    "Il metodo `.array()` prende 2 argomenti:\n",
    "\n",
    "- una lista contentente i valori\n",
    "- la specifica del tipo di dato(argomento opzionale)\n",
    "\n",
    "La manipolazione degli array è identica a quella già vista per le liste:"
   ]
  },
  {
   "cell_type": "code",
   "execution_count": 5,
   "metadata": {},
   "outputs": [
    {
     "name": "stdout",
     "output_type": "stream",
     "text": [
      "[[1 2 3]]\n",
      "5\n",
      "10\n",
      "[[ 1  2  3]\n",
      " [ 4  5 10]]\n"
     ]
    }
   ],
   "source": [
    "print(b[:1]) # slicing tutto il contenuto della prima riga\n",
    "print(b[1,1]) # accesso al singolo elemento\n",
    "b[1,2] = 10 # modifica\n",
    "print(b[1,2])\n",
    "print(b[:])"
   ]
  },
  {
   "cell_type": "markdown",
   "metadata": {},
   "source": [
    "#### SLICING"
   ]
  },
  {
   "cell_type": "markdown",
   "metadata": {},
   "source": [
    "Poichè gli array possono essere multidimensionali, nello _slicing_ bisogna specificare una 'slice'(fetta)per ogni dimensione dell'array. \n",
    "\n",
    "**FACCIAMO UN PO' DI CHIAREZZA** e partiamo creando questo:  \n",
    "![slicing1](img/slicing_0.png)"
   ]
  },
  {
   "cell_type": "markdown",
   "metadata": {},
   "source": [
    "**Creo due array di rank 1 con shape (6)**  \n",
    "\n",
    "` [0, 1, 2, 3, 4, 5]\n",
    " [0, 10, 20, 30, 40, 50]`"
   ]
  },
  {
   "cell_type": "code",
   "execution_count": 6,
   "metadata": {
    "scrolled": true
   },
   "outputs": [
    {
     "name": "stdout",
     "output_type": "stream",
     "text": [
      "[0 1 2 3 4 5]\n",
      "[ 0 10 20 30 40 50]\n"
     ]
    }
   ],
   "source": [
    "import numpy as np\n",
    "\n",
    "x = np.array([0,1,2,3,4,5])\n",
    "print(x)\n",
    "y = np.array([0,10,20,30,40,50])\n",
    "print(y)"
   ]
  },
  {
   "cell_type": "markdown",
   "metadata": {},
   "source": [
    "**quindi inizializzo un array di rank 2 con shape 6 per entrambe le dimensioni**"
   ]
  },
  {
   "cell_type": "code",
   "execution_count": 7,
   "metadata": {},
   "outputs": [
    {
     "name": "stdout",
     "output_type": "stream",
     "text": [
      "[[0 0 0 0 0 0]\n",
      " [0 0 0 0 0 0]\n",
      " [0 0 0 0 0 0]\n",
      " [0 0 0 0 0 0]\n",
      " [0 0 0 0 0 0]\n",
      " [0 0 0 0 0 0]]\n"
     ]
    }
   ],
   "source": [
    "new =np.zeros([6,6], int) \n",
    "\n",
    "print(new)"
   ]
  },
  {
   "cell_type": "markdown",
   "metadata": {},
   "source": [
    "**ora riempio l'array con i valori** (dopo vedremo come semplificare la somma con le funzioni standard)"
   ]
  },
  {
   "cell_type": "code",
   "execution_count": 8,
   "metadata": {},
   "outputs": [
    {
     "name": "stdout",
     "output_type": "stream",
     "text": [
      "[[ 0  1  2  3  4  5]\n",
      " [10 11 12 13 14 15]\n",
      " [20 21 22 23 24 25]\n",
      " [30 31 32 33 34 35]\n",
      " [40 41 42 43 44 45]\n",
      " [50 51 52 53 54 55]]\n"
     ]
    }
   ],
   "source": [
    "for i in range(len(x)): \n",
    "    ...:     for j in range(len(y)): \n",
    "    ...:         new[j,i] = y[j] + x[i]\n",
    "print(new)"
   ]
  },
  {
   "cell_type": "markdown",
   "metadata": {},
   "source": [
    "Vediamo degli esempi di **_slicing_**(ricordiamoci sempre che l'indice finale è escluso)\n",
    "\n",
    "`>>>new[0,3:5]`  \n",
    "`array([3, 4])`\n",
    "![slicing1](img/slicing_1.png)"
   ]
  },
  {
   "cell_type": "markdown",
   "metadata": {},
   "source": [
    "***"
   ]
  },
  {
   "cell_type": "markdown",
   "metadata": {},
   "source": [
    "`>>>new[0,3:5]`  \n",
    "`array([3, 4])`\n",
    "![slicing2](img/slicing_2.png)\n",
    "`>>>new[4:,4:]`  \n",
    "`array([44,45],[54,55])`"
   ]
  },
  {
   "cell_type": "markdown",
   "metadata": {},
   "source": [
    "***"
   ]
  },
  {
   "cell_type": "markdown",
   "metadata": {},
   "source": [
    "`>>>new[0,3:5]\n",
    "array([3, 4])`  \n",
    "`>>>new[4:,4:]\n",
    "array([44,45],[54,55])`\n",
    "![slicing3](img/slicing_3.png)  \n",
    "`>>>new[:,2]\n",
    "array([ 2, 12, 22, 32, 42, 52])`  \n"
   ]
  },
  {
   "cell_type": "markdown",
   "metadata": {},
   "source": [
    "***"
   ]
  },
  {
   "cell_type": "markdown",
   "metadata": {},
   "source": [
    "`>>>new[0,3:5]`  \n",
    "`array([3, 4])`  \n",
    "`>>>new[4:,4:]`  \n",
    "`array([44,45],[54,55])`  \n",
    "`>>>new[:,2]`  \n",
    "`array([ 2, 12, 22, 32, 42, 52])`\n",
    "![slicing4](img/slicing_4.png)\n",
    "`>>>new[2::2,::2]`  \n",
    "`array([[20, 22, 24],\n",
    "       [40, 42, 44]])`"
   ]
  },
  {
   "cell_type": "markdown",
   "metadata": {},
   "source": [
    "in questo ultimo esempio la sintassi è: `[start_pos::step]`  \n",
    "`[start:end:step]`"
   ]
  },
  {
   "cell_type": "markdown",
   "metadata": {},
   "source": [
    "Lo _slicing_ crea dei riferimenti all'array originale:"
   ]
  },
  {
   "cell_type": "code",
   "execution_count": 9,
   "metadata": {},
   "outputs": [
    {
     "name": "stdout",
     "output_type": "stream",
     "text": [
      "[ 2 12 22 32 42 52]\n"
     ]
    }
   ],
   "source": [
    "rif_a_new = new[:,2]\n",
    "print(rif_a_new)"
   ]
  },
  {
   "cell_type": "markdown",
   "metadata": {},
   "source": [
    "Se modifichiamo l'array `rif_a_new` modifichiamo anche l'array `new`:"
   ]
  },
  {
   "cell_type": "code",
   "execution_count": 10,
   "metadata": {},
   "outputs": [
    {
     "name": "stdout",
     "output_type": "stream",
     "text": [
      "Questo è il riferimento:  [62 12 22 32 42 52] \n",
      "\n",
      "[[ 0  1 62  3  4  5]\n",
      " [10 11 12 13 14 15]\n",
      " [20 21 22 23 24 25]\n",
      " [30 31 32 33 34 35]\n",
      " [40 41 42 43 44 45]\n",
      " [50 51 52 53 54 55]]\n"
     ]
    }
   ],
   "source": [
    "rif_a_new[0] = 62\n",
    "print('Questo è il riferimento: ', rif_a_new, '\\n')\n",
    "print(new)"
   ]
  },
  {
   "cell_type": "markdown",
   "metadata": {},
   "source": [
    "E' possibile mixare l'indirizzamento agli elementi con indici interi e _slicing_. Però attenzione che così facendo si otterrà un array di _rank_ inferiore all'array originale:"
   ]
  },
  {
   "cell_type": "code",
   "execution_count": 11,
   "metadata": {},
   "outputs": [
    {
     "name": "stdout",
     "output_type": "stream",
     "text": [
      "[[ 1  2  3  4]\n",
      " [ 5  6  7  8]\n",
      " [ 9 10 11 12]]\n"
     ]
    }
   ],
   "source": [
    "# Crea rank 2 array con shape (3, 4)\n",
    "a = np.array([[1,2,3,4], [5,6,7,8], [9,10,11,12]])\n",
    "print(a)"
   ]
  },
  {
   "cell_type": "markdown",
   "metadata": {},
   "source": [
    "Di seguito 2 modi per indirizzare la riga di mezzo.\n",
    "\n",
    "- indici interi e slice produce un array di rank inferiore;\n",
    "- con solo slice si mantiene lo stesso rank dell'array originale"
   ]
  },
  {
   "cell_type": "code",
   "execution_count": 12,
   "metadata": {},
   "outputs": [
    {
     "name": "stdout",
     "output_type": "stream",
     "text": [
      "[5 6 7 8] (4,)\n",
      "[[5 6 7 8]] (1, 4)\n",
      "[[5 6 7 8]] (1, 4)\n"
     ]
    }
   ],
   "source": [
    "row_r1 = a[1, :]    # Rank 1 seconda riga di a  \n",
    "row_r2 = a[1:2, :]  # Rank 2 seconda riga di a\n",
    "row_r3 = a[[1], :]  # Rank 2 seconda riga di a\n",
    "print(row_r1, row_r1.shape) \n",
    "print(row_r2, row_r2.shape)\n",
    "print(row_r3, row_r3.shape)"
   ]
  },
  {
   "cell_type": "code",
   "execution_count": 13,
   "metadata": {},
   "outputs": [
    {
     "name": "stdout",
     "output_type": "stream",
     "text": [
      "[ 2  6 10] (3,)\n",
      "\n",
      "[[ 2]\n",
      " [ 6]\n",
      " [10]] (3, 1)\n"
     ]
    }
   ],
   "source": [
    "# Possiamo usare la stesse tecniche per le colonne di un array:\n",
    "a = np.array([[1,2,3,4], [5,6,7,8], [9,10,11,12]])\n",
    "\n",
    "col_r1 = a[:, 1]\n",
    "col_r2 = a[:, 1:2]\n",
    "print(col_r1, col_r1.shape)\n",
    "print()\n",
    "print(col_r2, col_r2.shape)"
   ]
  },
  {
   "cell_type": "markdown",
   "metadata": {},
   "source": [
    "***"
   ]
  },
  {
   "cell_type": "markdown",
   "metadata": {},
   "source": [
    "#### Numpy fornisce diverse funzioni per inizializzare array:"
   ]
  },
  {
   "cell_type": "code",
   "execution_count": 14,
   "metadata": {},
   "outputs": [
    {
     "name": "stdout",
     "output_type": "stream",
     "text": [
      "[[0. 0.]\n",
      " [0. 0.]]\n"
     ]
    }
   ],
   "source": [
    "a = np.zeros((2,2))  # Crea un array di tutti zeri\n",
    "print(a)"
   ]
  },
  {
   "cell_type": "code",
   "execution_count": 15,
   "metadata": {},
   "outputs": [
    {
     "name": "stdout",
     "output_type": "stream",
     "text": [
      "[[1. 1.]]\n"
     ]
    }
   ],
   "source": [
    "b = np.ones((1,2))   # Crea un array di tutti uno\n",
    "print(b)"
   ]
  },
  {
   "cell_type": "code",
   "execution_count": 16,
   "metadata": {},
   "outputs": [
    {
     "name": "stdout",
     "output_type": "stream",
     "text": [
      "[[7 7]\n",
      " [7 7]]\n"
     ]
    }
   ],
   "source": [
    "c = np.full((2,2), 7) # Crea un array con una costante\n",
    "print(c) "
   ]
  },
  {
   "cell_type": "code",
   "execution_count": 17,
   "metadata": {},
   "outputs": [
    {
     "name": "stdout",
     "output_type": "stream",
     "text": [
      "[[1. 0. 0. 0.]\n",
      " [0. 1. 0. 0.]\n",
      " [0. 0. 1. 0.]\n",
      " [0. 0. 0. 1.]]\n"
     ]
    }
   ],
   "source": [
    "d1 = np.identity(4) # Crea una matrice identità\n",
    "print(d1)"
   ]
  },
  {
   "cell_type": "code",
   "execution_count": 18,
   "metadata": {},
   "outputs": [
    {
     "name": "stdout",
     "output_type": "stream",
     "text": [
      "[[0. 0. 1. 0. 0. 0.]\n",
      " [0. 0. 0. 1. 0. 0.]\n",
      " [0. 0. 0. 0. 1. 0.]\n",
      " [0. 0. 0. 0. 0. 1.]\n",
      " [0. 0. 0. 0. 0. 0.]\n",
      " [0. 0. 0. 0. 0. 0.]]\n"
     ]
    }
   ],
   "source": [
    "d = np.eye(6, k=2) # Crea una matrice identità 2x2 sulla diagonale k-ma\n",
    "print(d)"
   ]
  },
  {
   "cell_type": "code",
   "execution_count": 19,
   "metadata": {},
   "outputs": [
    {
     "name": "stdout",
     "output_type": "stream",
     "text": [
      "[[0.8664505  0.55241203]\n",
      " [0.25074755 0.33975131]]\n"
     ]
    }
   ],
   "source": [
    "e = np.random.random((2,2)) # Crea un array riempito con valori random\n",
    "print(e)"
   ]
  },
  {
   "cell_type": "markdown",
   "metadata": {},
   "source": [
    "oppure si può inizializzare un array con il metodo **`range()`** o con il metodo **`arange()`**:"
   ]
  },
  {
   "cell_type": "code",
   "execution_count": 20,
   "metadata": {},
   "outputs": [
    {
     "name": "stdout",
     "output_type": "stream",
     "text": [
      "[[0. 1. 2.]\n",
      " [3. 4. 5.]]\n",
      "[0. 1. 2. 3. 4.]\n"
     ]
    }
   ],
   "source": [
    "a = np.array(range(6), float).reshape((2,3))\n",
    "b = np.arange(5, dtype=float) #dtype crea un oggetto 'data type'\n",
    "print(a)\n",
    "print(b)"
   ]
  },
  {
   "cell_type": "markdown",
   "metadata": {},
   "source": [
    "Qui sopra abbiamo anche usato il metodo **`reshape()`** per modificare le dimensione dell'array `a`"
   ]
  },
  {
   "cell_type": "markdown",
   "metadata": {},
   "source": [
    "### Proprietà degli array\n",
    "\n",
    "- `shape` abbiamo visto ritorna la tupla con le dimensioni dell'array\n",
    "- `dtype` ritorna il tipo di dato memorizzato nell'array"
   ]
  },
  {
   "cell_type": "code",
   "execution_count": 21,
   "metadata": {},
   "outputs": [
    {
     "data": {
      "text/plain": [
       "dtype('float64')"
      ]
     },
     "execution_count": 21,
     "metadata": {},
     "output_type": "execute_result"
    }
   ],
   "source": [
    "a.dtype"
   ]
  },
  {
   "cell_type": "markdown",
   "metadata": {},
   "source": [
    "## Copia di array\n",
    "Se serve si può anche copiare un array tramite il metodo **`copy()`**"
   ]
  },
  {
   "cell_type": "code",
   "execution_count": 22,
   "metadata": {},
   "outputs": [
    {
     "name": "stdout",
     "output_type": "stream",
     "text": [
      "[0. 2. 3.]\n",
      "[0. 2. 3.]\n",
      "[1. 2. 3.]\n"
     ]
    }
   ],
   "source": [
    "a = np.array([1, 2, 3], float)\n",
    "b = a # b è una variabile che punta allo stesso dato\n",
    "c = a.copy() # metodo copy() crea un nuovo array\n",
    "a[0] = 0\n",
    "print(a)\n",
    "print(b)\n",
    "print(c)"
   ]
  },
  {
   "cell_type": "markdown",
   "metadata": {},
   "source": [
    "Gli elementi di un array sono **ordinabili** con il metodo **`sort()`**"
   ]
  },
  {
   "cell_type": "code",
   "execution_count": 23,
   "metadata": {},
   "outputs": [
    {
     "name": "stdout",
     "output_type": "stream",
     "text": [
      "[-1.  0.  2.  5.  6.]\n"
     ]
    }
   ],
   "source": [
    "a = np.array([6, 2, 5, -1, 0], float)\n",
    "a.sort()\n",
    "print(a)"
   ]
  },
  {
   "cell_type": "markdown",
   "metadata": {},
   "source": [
    "Con il metodo **`clip()`** posso filtrare gli elementi esterni ad un certo intervallo dell'array:"
   ]
  },
  {
   "cell_type": "code",
   "execution_count": 24,
   "metadata": {},
   "outputs": [
    {
     "data": {
      "text/plain": [
       "array([2., 2., 2., 2., 5., 6., 3.])"
      ]
     },
     "execution_count": 24,
     "metadata": {},
     "output_type": "execute_result"
    }
   ],
   "source": [
    "a = np.array([0, 1, 2, -1, 5, 6, 3], float)\n",
    "a.clip(2,6)"
   ]
  },
  {
   "cell_type": "markdown",
   "metadata": {},
   "source": [
    "## Conversione\n",
    "Un Numpy array può all'occorenza essere trasformato in una lista con il metodo **`tolist()`**"
   ]
  },
  {
   "cell_type": "code",
   "execution_count": 25,
   "metadata": {},
   "outputs": [
    {
     "data": {
      "text/plain": [
       "[1.0, 2.0, 3.0]"
      ]
     },
     "execution_count": 25,
     "metadata": {},
     "output_type": "execute_result"
    }
   ],
   "source": [
    "a = np.array([1, 2, 3], float)\n",
    "a.tolist()\n",
    "# oppure con il casting \n",
    "#list(a)"
   ]
  },
  {
   "cell_type": "markdown",
   "metadata": {},
   "source": [
    "Conversione **da/in** formato stringa con i metodi **`tostring()`** e **`fromstring`**"
   ]
  },
  {
   "cell_type": "code",
   "execution_count": 26,
   "metadata": {},
   "outputs": [
    {
     "name": "stdout",
     "output_type": "stream",
     "text": [
      "b'\\x00\\x00\\x00\\x00\\x00\\x00\\xf0?\\x00\\x00\\x00\\x00\\x00\\x00\\x00@\\x00\\x00\\x00\\x00\\x00\\x00\\x08@'\n"
     ]
    }
   ],
   "source": [
    "a = np.array([1, 2, 3], float)\n",
    "s = a.tostring()\n",
    "print(s) # produce una stringa di bytes"
   ]
  },
  {
   "cell_type": "markdown",
   "metadata": {},
   "source": [
    "## Generazione di matrice trasposta\n",
    "\n",
    "Si usa il metodo **`transpose()`** per trasporre un array multidimensionale"
   ]
  },
  {
   "cell_type": "code",
   "execution_count": 27,
   "metadata": {},
   "outputs": [
    {
     "data": {
      "text/plain": [
       "array([[0., 1., 2.],\n",
       "       [3., 4., 5.]])"
      ]
     },
     "execution_count": 27,
     "metadata": {},
     "output_type": "execute_result"
    }
   ],
   "source": [
    "a = np.array([[0., 1., 2.], [3., 4., 5.]], dtype=float)\n",
    "a"
   ]
  },
  {
   "cell_type": "code",
   "execution_count": 28,
   "metadata": {},
   "outputs": [
    {
     "data": {
      "text/plain": [
       "array([[0., 3.],\n",
       "       [1., 4.],\n",
       "       [2., 5.]])"
      ]
     },
     "execution_count": 28,
     "metadata": {},
     "output_type": "execute_result"
    }
   ],
   "source": [
    "a.transpose()"
   ]
  },
  {
   "cell_type": "markdown",
   "metadata": {},
   "source": [
    "## Trasformazione da n-D a 1-D\n",
    "\n",
    "Si può rendere monodimensionale un array a più dimensioni con il metodo **`flatten()`**"
   ]
  },
  {
   "cell_type": "code",
   "execution_count": 29,
   "metadata": {},
   "outputs": [
    {
     "name": "stdout",
     "output_type": "stream",
     "text": [
      "[0. 1. 2. 3. 4. 5.]\n"
     ]
    }
   ],
   "source": [
    "piatto = a.flatten()\n",
    "print(piatto)"
   ]
  },
  {
   "cell_type": "markdown",
   "metadata": {},
   "source": [
    "## Aritmetica di base sugli Array"
   ]
  },
  {
   "cell_type": "markdown",
   "metadata": {},
   "source": [
    "Le operazioni di somma, sottrazione, moltiplicazione, divisione, elevamento a potenza, sono definibili sia con gli operatori relativi che con le funzioni del modulo numpy:"
   ]
  },
  {
   "cell_type": "markdown",
   "metadata": {},
   "source": [
    "**Gli operatori aritmetici vengono applicati elemento per elemento.**"
   ]
  },
  {
   "cell_type": "markdown",
   "metadata": {},
   "source": [
    "**SOMMA**"
   ]
  },
  {
   "cell_type": "code",
   "execution_count": 30,
   "metadata": {},
   "outputs": [
    {
     "name": "stdout",
     "output_type": "stream",
     "text": [
      "[[1. 2.]\n",
      " [3. 4.]]\n",
      "[[5. 6.]\n",
      " [7. 8.]]\n",
      "\n",
      "\n",
      "[[ 6.  8.]\n",
      " [10. 12.]]\n",
      "[[ 6.  8.]\n",
      " [10. 12.]]\n"
     ]
    }
   ],
   "source": [
    "x = np.array([[1,2],[3,4]], dtype=np.float64)\n",
    "y = np.array([[5,6],[7,8]], dtype=np.float64)\n",
    "print(x)\n",
    "print(y)\n",
    "print('\\n')\n",
    "#SOMMA\n",
    "print(x + y)  # somma con operatore\n",
    "print(np.add(x, y)) #somma con funzione"
   ]
  },
  {
   "cell_type": "markdown",
   "metadata": {},
   "source": [
    "**SOTTRAZIONE**"
   ]
  },
  {
   "cell_type": "code",
   "execution_count": 31,
   "metadata": {},
   "outputs": [
    {
     "name": "stdout",
     "output_type": "stream",
     "text": [
      "[[-4. -4.]\n",
      " [-4. -4.]]\n",
      "[[-4. -4.]\n",
      " [-4. -4.]]\n"
     ]
    }
   ],
   "source": [
    "# SOTTRAZIONE\n",
    "print(x - y)\n",
    "print(np.subtract(x, y))"
   ]
  },
  {
   "cell_type": "markdown",
   "metadata": {},
   "source": [
    "**PRODOTTO**"
   ]
  },
  {
   "cell_type": "code",
   "execution_count": 32,
   "metadata": {},
   "outputs": [
    {
     "name": "stdout",
     "output_type": "stream",
     "text": [
      "[[ 5. 12.]\n",
      " [21. 32.]]\n",
      "[[ 5. 12.]\n",
      " [21. 32.]]\n"
     ]
    }
   ],
   "source": [
    "# PRODOTTO\n",
    "print(x * y)\n",
    "print(np.multiply(x, y))"
   ]
  },
  {
   "cell_type": "markdown",
   "metadata": {},
   "source": [
    "**DIVISIONE**"
   ]
  },
  {
   "cell_type": "code",
   "execution_count": 33,
   "metadata": {},
   "outputs": [
    {
     "name": "stdout",
     "output_type": "stream",
     "text": [
      "[[0.2        0.33333333]\n",
      " [0.42857143 0.5       ]]\n",
      "[[0.2        0.33333333]\n",
      " [0.42857143 0.5       ]]\n"
     ]
    }
   ],
   "source": [
    "# DIVISIONE\n",
    "# [[ 0.2         0.33333333]\n",
    "#  [ 0.42857143  0.5       ]]\n",
    "print(x / y)\n",
    "print(np.divide(x, y))"
   ]
  },
  {
   "cell_type": "markdown",
   "metadata": {},
   "source": [
    "**RADICE QUADRATA**"
   ]
  },
  {
   "cell_type": "code",
   "execution_count": 34,
   "metadata": {},
   "outputs": [
    {
     "name": "stdout",
     "output_type": "stream",
     "text": [
      "[[1.         1.41421356]\n",
      " [1.73205081 2.        ]]\n"
     ]
    }
   ],
   "source": [
    "# RADICE QUADRATA\n",
    "# [[ 1.          1.41421356]\n",
    "#  [ 1.73205081  2.        ]]\n",
    "print(np.sqrt(x))"
   ]
  },
  {
   "cell_type": "markdown",
   "metadata": {},
   "source": [
    "Notare che a differenza di MATLAB, `*` moltiplica il singolo elemento, non è una moltiplicazione matriciale! Per quest'ultima dovremo usare il tipo di dato `matrix`(però in parte deprecato a favore del metodo seguente).  \n",
    "Per effettuare **prodotto scalare o vettoriale** bisogna usare la funzione **`dot()`**:"
   ]
  },
  {
   "cell_type": "code",
   "execution_count": 35,
   "metadata": {},
   "outputs": [
    {
     "name": "stdout",
     "output_type": "stream",
     "text": [
      "219\n",
      "219\n"
     ]
    }
   ],
   "source": [
    "x = np.array([[1,2],[3,4]])\n",
    "y = np.array([[5,6],[7,8]])\n",
    "\n",
    "v = np.array([9,10])\n",
    "w = np.array([11, 12])\n",
    "\n",
    "# prodotto vettoriale; produce 219\n",
    "print(v.dot(w)) # dot() metodo di istanza \n",
    "print(np.dot(v, w)) # dot funzione del modulo np "
   ]
  },
  {
   "cell_type": "code",
   "execution_count": 36,
   "metadata": {},
   "outputs": [
    {
     "name": "stdout",
     "output_type": "stream",
     "text": [
      "[29 67]\n",
      "[29 67]\n"
     ]
    }
   ],
   "source": [
    "# Prodotto Matrice vettore; produce rank 1 array [29 67]\n",
    "print(x.dot(v))\n",
    "print(np.dot(x, v))"
   ]
  },
  {
   "cell_type": "code",
   "execution_count": 37,
   "metadata": {},
   "outputs": [
    {
     "name": "stdout",
     "output_type": "stream",
     "text": [
      "[[19 22]\n",
      " [43 50]]\n",
      "[[19 22]\n",
      " [43 50]]\n"
     ]
    }
   ],
   "source": [
    "# Prodotto matrice matrice; produce rank 2 array\n",
    "# [[19 22]\n",
    "#  [43 50]]\n",
    "print(x.dot(y))\n",
    "print(np.dot(x, y))"
   ]
  },
  {
   "cell_type": "markdown",
   "metadata": {},
   "source": [
    "Numpy fornisce molte funzioni standard per operare sugli array:  \n",
    "`abs()`, `sign()`, `sqrt()`, `log()`, `log10()`, `exp()`, `sin()`,\n",
    "`cos()`, `tan()`, `arcsin()`, `arccos()`, `arctan()`, `sinh()`,\n",
    "`cosh()`, `tanh()`, `arcsinh()`, `arccosh()`, `arctanh()`"
   ]
  },
  {
   "cell_type": "markdown",
   "metadata": {},
   "source": [
    "**Arrotondamento verso il valore più piccolo**:\n",
    "`floor()`"
   ]
  },
  {
   "cell_type": "code",
   "execution_count": 38,
   "metadata": {},
   "outputs": [
    {
     "name": "stdout",
     "output_type": "stream",
     "text": [
      "[1. 1. 1.]\n"
     ]
    }
   ],
   "source": [
    "a = np.array([1.1, 1.5, 1.9], float)\n",
    "print(np.floor(a))\n",
    "#array([ 1., 1., 1.])"
   ]
  },
  {
   "cell_type": "markdown",
   "metadata": {},
   "source": [
    "**Arrotondamento verso il valore più grande**:\n",
    "`ceil()`"
   ]
  },
  {
   "cell_type": "markdown",
   "metadata": {},
   "source": [
    "**Arrotondamento verso il valore più vicino**:  \n",
    "`rint()`"
   ]
  },
  {
   "cell_type": "code",
   "execution_count": 39,
   "metadata": {},
   "outputs": [
    {
     "name": "stdout",
     "output_type": "stream",
     "text": [
      "[1. 2. 2.]\n"
     ]
    }
   ],
   "source": [
    "print(np.rint(a))"
   ]
  },
  {
   "cell_type": "markdown",
   "metadata": {},
   "source": [
    "Una delle funzioni più usate è certamente la **`sum()`**"
   ]
  },
  {
   "cell_type": "code",
   "execution_count": 40,
   "metadata": {},
   "outputs": [
    {
     "name": "stdout",
     "output_type": "stream",
     "text": [
      "10\n",
      "[4 6]\n",
      "[3 7]\n"
     ]
    }
   ],
   "source": [
    "x = np.array([[1,2],[3,4]])\n",
    "\n",
    "print(np.sum(x))  # Calcola la somma di tutti gli elementi; prints \"10\"\n",
    "print(np.sum(x, axis=0))  # Calcola la somma per ogni colonna; prints \"[4 6]\"\n",
    "print(np.sum(x, axis=1))  # Calcola la somma per ogni riga; prints \"[3 7]\""
   ]
  },
  {
   "cell_type": "markdown",
   "metadata": {},
   "source": [
    "ma esistono anche la **`prod()`**, **`mean()`**, **`var()`**, **`std()`**, **`min()`**, **`max()`** ..."
   ]
  },
  {
   "cell_type": "code",
   "execution_count": 41,
   "metadata": {},
   "outputs": [
    {
     "name": "stdout",
     "output_type": "stream",
     "text": [
      "2.5\n",
      "1\n",
      "4\n"
     ]
    }
   ],
   "source": [
    "print(x.mean())\n",
    "print(x.min())\n",
    "print(x.max())"
   ]
  },
  {
   "cell_type": "markdown",
   "metadata": {},
   "source": [
    "Per una lista completa di tutte le funzioni matematiche disponibili in numpy si può consultare la [documentazione](https://numpy.org/doc/stable/reference/index.html).\n",
    "\n",
    "Oltre alle funzioni e operazioni matematiche sugli array, spesso abbiamo bisogno anche di ridimensionare o manipolare i dati negli array. L'esempio più semplice è quello di trasporre una matrice che come abbiamo già visto si può fare con la funzione`transpose()`, ma ancora più semplice è usando l'attributo **`T`** degli oggetti array:"
   ]
  },
  {
   "cell_type": "code",
   "execution_count": 42,
   "metadata": {},
   "outputs": [
    {
     "name": "stdout",
     "output_type": "stream",
     "text": [
      "[[1 2]\n",
      " [3 4]]\n",
      "[[1 3]\n",
      " [2 4]]\n"
     ]
    }
   ],
   "source": [
    "print(x)\n",
    "print(x.T)"
   ]
  },
  {
   "cell_type": "code",
   "execution_count": 43,
   "metadata": {},
   "outputs": [
    {
     "name": "stdout",
     "output_type": "stream",
     "text": [
      "[[1 2 3]]\n",
      "[[1]\n",
      " [2]\n",
      " [3]]\n"
     ]
    }
   ],
   "source": [
    "v = np.array([[1,2,3]])\n",
    "print(v) \n",
    "print(v.T)"
   ]
  },
  {
   "cell_type": "markdown",
   "metadata": {},
   "source": [
    "***"
   ]
  },
  {
   "cell_type": "markdown",
   "metadata": {},
   "source": [
    "## Operatori di confronto\n",
    "- Gli operatori booleani di confronto sono definiti sugli array di uguale dimensione\n",
    "- Il risultato del confronto è un array di valori booleani"
   ]
  },
  {
   "cell_type": "code",
   "execution_count": 44,
   "metadata": {},
   "outputs": [
    {
     "name": "stdout",
     "output_type": "stream",
     "text": [
      "[ True False False]\n"
     ]
    }
   ],
   "source": [
    "a = np.array([1, 3, 0], float)\n",
    "b = np.array([0, 3, 2], float)\n",
    "print(a > b)"
   ]
  },
  {
   "cell_type": "code",
   "execution_count": 45,
   "metadata": {},
   "outputs": [
    {
     "name": "stdout",
     "output_type": "stream",
     "text": [
      "[False  True False]\n"
     ]
    }
   ],
   "source": [
    "print(a == b)"
   ]
  },
  {
   "cell_type": "code",
   "execution_count": 46,
   "metadata": {},
   "outputs": [
    {
     "name": "stdout",
     "output_type": "stream",
     "text": [
      "[False  True False]\n"
     ]
    }
   ],
   "source": [
    "print(a > 2)"
   ]
  },
  {
   "cell_type": "markdown",
   "metadata": {},
   "source": [
    "Ulteriori operatori di confronto si possono approfondire nella [documentazione](https://docs.scipy.org/doc/numpy/reference/routines.logic.html)"
   ]
  },
  {
   "cell_type": "markdown",
   "metadata": {},
   "source": [
    "## Broadcasting"
   ]
  },
  {
   "cell_type": "markdown",
   "metadata": {},
   "source": [
    "Broadcasting è un potente meccanismo che consente di operare su array con diverse dimensioni. Spesso capita di avere un array più piccolo ed uno più grande tra i quali effetture delle operazioni.\n",
    "  \n",
    "Se possibile tutti gli array vengono convertiti in elementi aventi la stessa dimensione.\n",
    "\n",
    "Per esempio supponiamo di voler aggiungere un vettore costante per ogni riga di una data matrice:"
   ]
  },
  {
   "cell_type": "code",
   "execution_count": 47,
   "metadata": {},
   "outputs": [
    {
     "name": "stdout",
     "output_type": "stream",
     "text": [
      "[[ 2  2  4]\n",
      " [ 5  5  7]\n",
      " [ 8  8 10]\n",
      " [11 11 13]]\n"
     ]
    }
   ],
   "source": [
    "# Aggiungo il vettore v ad ogni riga della matrice x,\n",
    "# memorizzo il risultato nella matrice y\n",
    "x = np.array([[1,2,3], [4,5,6], [7,8,9], [10, 11, 12]]) #4 righe 3 colonne\n",
    "v = np.array([1, 0, 1])\n",
    "y = np.empty_like(x)   # Crea una matrice vuota con la stessa lunghezza di x\n",
    "\n",
    "# Aggiungo il vettore v\n",
    "for i in range(4):\n",
    "    y[i, :] = x[i, :] + v\n",
    "\n",
    "print(y)"
   ]
  },
  {
   "cell_type": "markdown",
   "metadata": {},
   "source": [
    "FIn qui nessun problema, ma se la matrice fosse molto grande, allora il _loop_ in Python diventerebbe molto pesante e lento. \n",
    "Notare che aggiungere il vettore `v` ad ogni riga di `x` equivale a creare una nuova matrice `vv` con incolonnate verticalmente più copie di `v`; quindi effettuando un somma elemento per elemento tra `x` e `vv`:"
   ]
  },
  {
   "cell_type": "code",
   "execution_count": 48,
   "metadata": {},
   "outputs": [
    {
     "name": "stdout",
     "output_type": "stream",
     "text": [
      "[[1 0 1]\n",
      " [1 0 1]\n",
      " [1 0 1]\n",
      " [1 0 1]]\n"
     ]
    }
   ],
   "source": [
    "vv = np.tile(v, (4, 1))  # incollonno 4 copie di v\n",
    "print(vv)                 # Print \"[[1 0 1]\n",
    "                         #          [1 0 1]\n",
    "                         #          [1 0 1]\n",
    "                         #          [1 0 1]]\""
   ]
  },
  {
   "cell_type": "code",
   "execution_count": 49,
   "metadata": {},
   "outputs": [
    {
     "name": "stdout",
     "output_type": "stream",
     "text": [
      "[[ 2  2  4]\n",
      " [ 5  5  7]\n",
      " [ 8  8 10]\n",
      " [11 11 13]]\n"
     ]
    }
   ],
   "source": [
    "y = x + vv  # Sommo x e vv\n",
    "print(y)"
   ]
  },
  {
   "cell_type": "markdown",
   "metadata": {},
   "source": [
    "Numpy _broadcasting_ consente di effettuare questa operazione senza creare le copie multiple di `v` come nell'esempio sopra:"
   ]
  },
  {
   "cell_type": "code",
   "execution_count": 50,
   "metadata": {},
   "outputs": [
    {
     "name": "stdout",
     "output_type": "stream",
     "text": [
      "[[ 2  2  4]\n",
      " [ 5  5  7]\n",
      " [ 8  8 10]\n",
      " [11 11 13]]\n"
     ]
    }
   ],
   "source": [
    "import numpy as np\n",
    "\n",
    "x = np.array([[1,2,3], [4,5,6], [7,8,9], [10, 11, 12]])\n",
    "v = np.array([1, 0, 1])\n",
    "y = x + v  # broadcasting\n",
    "print(y)"
   ]
  },
  {
   "cell_type": "markdown",
   "metadata": {},
   "source": [
    "La linea `y = x + v` funziona anche con `x` di shape `(4, 3)` e `v` con shape `(3,)` grazie al broadcasting; questa funziona come se effettivamente `v` avesse shape `(4, 3)`, dove ogni riga fosse una copia di `v`, e la somma fosse fatta elemento per elemento.\n",
    "\n",
    "**Il broadcasting è possibile se il numero di colonne del\n",
    "primo è uguale al numero di righe del secondo,\n",
    "altrimenti l'interprete Python restituisce l'eccezione**\n",
    "`“ValueError: frames are not aligned”`\n",
    "\n",
    "Le funzioni che supportano il broadcasting sono conosciute come _universal functions_ `ufunc`. Più informazioni nella [documentazione](https://numpy.org/doc/stable/reference/ufuncs.html#available-ufuncs).\n",
    "\n",
    "Di seguito alcune altre applicazioni del broadcasting:"
   ]
  },
  {
   "cell_type": "code",
   "execution_count": null,
   "metadata": {},
   "outputs": [],
   "source": [
    "# Calcolo prodotto esterno di vettori\n",
    "v = np.array([1,2,3])  # v shape (3,)\n",
    "w = np.array([4,5])    # w shape (2,)\n",
    "# Per calcolare il prodotto esterno, dobbiamo prima ridimensionare v per essere un vettore di\n",
    "# colonna di shape (3, 1); quindi possiamo fare il broadcast di questo con w per produrre\n",
    "# un output di shape (3, 2), che sarà il prodotto esterno di v e w:\n",
    "\n",
    "print(np.reshape(v, (3, 1)) * w)"
   ]
  },
  {
   "cell_type": "code",
   "execution_count": 52,
   "metadata": {},
   "outputs": [
    {
     "name": "stdout",
     "output_type": "stream",
     "text": [
      "[[88. 88. 88.]\n",
      " [11. 11. 11.]]\n"
     ]
    }
   ],
   "source": [
    "# Add a vector to each column of a matrix\n",
    "# x has shape (2, 3) and w has shape (2,).\n",
    "# If we transpose x then it has shape (3, 2) and can be broadcast\n",
    "# against w to yield a result of shape (3, 2); transposing this result\n",
    "# yields the final result of shape (2, 3) which is the matrix x with\n",
    "# the vector w added to each column. Gives the following matrix:\n",
    "x = np.ones(shape=(2,3)) \n",
    "w = np.random.randint(100, size=(2,))\n",
    "\n",
    "print((x.T + w).T)"
   ]
  },
  {
   "cell_type": "code",
   "execution_count": 53,
   "metadata": {},
   "outputs": [
    {
     "name": "stdout",
     "output_type": "stream",
     "text": [
      "[[88. 88. 88.]\n",
      " [11. 11. 11.]]\n"
     ]
    }
   ],
   "source": [
    "# Another solution is to reshape w to be a row vector of shape (2, 1);\n",
    "# we can then broadcast it directly against x to produce the same\n",
    "# output.\n",
    "print(x + np.reshape(w, (2, 1)))"
   ]
  },
  {
   "cell_type": "code",
   "execution_count": 54,
   "metadata": {},
   "outputs": [
    {
     "name": "stdout",
     "output_type": "stream",
     "text": [
      "[[2. 2. 2.]\n",
      " [2. 2. 2.]]\n"
     ]
    }
   ],
   "source": [
    "# Multiply a matrix by a constant:\n",
    "# x has shape (2, 3). Numpy treats scalars as arrays of shape ();\n",
    "# these can be broadcast together to shape (2, 3), producing the\n",
    "# following array:\n",
    "print(x * 2)"
   ]
  },
  {
   "cell_type": "markdown",
   "metadata": {},
   "source": [
    "Possiamo dire che il **Broadcasting** in genere rende il codice più coinciso e veloce."
   ]
  },
  {
   "cell_type": "markdown",
   "metadata": {},
   "source": [
    "***"
   ]
  },
  {
   "cell_type": "markdown",
   "metadata": {},
   "source": [
    "## Algebra lineare: il pacchetto linalg\n",
    "Il sotto-pacchetto **`np.linalg`** fornisce gli strumenti di base per l'algebra lineare, basandosi su BLAS e LAPACK fornisce implementazioni di basso livello degli algoritmi di algebra lineare.  \n",
    "\n",
    "- Abbiamo il metodo **`det()`** per calcolare il determinante di una matrice;\n",
    "- La funzione **`eig()`** ritorna una tupla con gli autovalori e gli autovettori della matrice;\n",
    "- La funzione **`inv()`** ritorna l'inversa di una matrice\n",
    "- e molti altri...\n",
    "\n",
    "Per dettagli ed esempi vi rimando alla [documentazione](https://docs.scipy.org/doc/numpy/reference/routines.linalg.html)"
   ]
  },
  {
   "cell_type": "markdown",
   "metadata": {},
   "source": [
    "***"
   ]
  },
  {
   "cell_type": "markdown",
   "metadata": {},
   "source": [
    "## Calcolo Polinomiale\n",
    "\n",
    "Numpy fornisce un modulo per calcoli polinomiali, contentente diverse funzioni per lavorare appunto con i polinomi. Di seguito ne elenco solo alcuni:\n",
    "\n",
    "- Il metodo **`polyint()`** accetta un array contenente i coefficienti di un polinomio e ritorna un array con i coefficienti del polinomio integrato [documentazione](https://numpy.org/doc/stable/reference/generated/numpy.polyint.html#numpy.polyint)\n",
    "- Il metodo **`polyder()`** accetta un array contenente i coefficienti del polinomio e ritorna un array con i coefficienti del polinomio derivato [documentazione](https://numpy.org/doc/stable/reference/generated/numpy.polyder.html#numpy.polyder)\n",
    "\n",
    "Sono disponibili tutte le funzioni di somma, sottrazione, moltiplicazione, divisione fra polinomi:\n",
    "\n",
    "- **`polyadd()`**, **`polysub()`**, **`polymul()`**, **`polydiv()`**\n",
    "\n",
    "La lista completa di tutte le funzione del pacchetto `Polinomial` si trova nella [documentazione](https://numpy.org/doc/stable/reference/routines.polynomials.html)"
   ]
  },
  {
   "cell_type": "markdown",
   "metadata": {},
   "source": [
    "***"
   ]
  },
  {
   "cell_type": "markdown",
   "metadata": {},
   "source": [
    "## Generazione di numeri casuali\n",
    "Il sotto-pacchetto **`np.random`** mette a disposizione strumenti per la generazione di numeri casuali con seme arbitrario\n",
    "\n",
    "- **`np.random.seed()`** Imposta il seme. \n",
    "- Generazione di un singolo numero casuale uniforme compreso fra 0.0 e 1.0 con la funzione **`np.random.random()`**\n",
    "- Generazione di un singolo numero casuale intero uniforme in un intervallo (a, b) con la funzione **` np.random.randint(x, y)`** dove _x_ e _y_ sono 2 numeri interi"
   ]
  },
  {
   "cell_type": "code",
   "execution_count": 55,
   "metadata": {},
   "outputs": [
    {
     "name": "stdout",
     "output_type": "stream",
     "text": [
      "a: 0.5837379036003874 è un numero casuale nell'intervallo 0.0 e 1.0\n",
      "b: 5 è un numero casuale nell'intervallo 1 - 20\n"
     ]
    }
   ],
   "source": [
    "np.random.seed(3765) #il seme può essere un qualsiasi numero intero\n",
    "a = np.random.random()\n",
    "print(f'a: {a} è un numero casuale nell\\'intervallo 0.0 e 1.0')\n",
    "b = np.random.randint(1,20)\n",
    "print(f'b: {b} è un numero casuale nell\\'intervallo 1 - 20')"
   ]
  },
  {
   "cell_type": "markdown",
   "metadata": {},
   "source": [
    "Con il pacchetto **`numpy.random`** è possibile produrre sequenze per tutte le principali distribuzioni statistiche:\n",
    "\n",
    "- **`np.random.poisson()`**\n",
    "- **`np.random.normal()`** (distribuzione Gaussiana)\n",
    "\n",
    "Per un approfondimento di tutte le routine fornite rimando alla _solita_ [documentazione ufficiale](https://numpy.org/doc/stable/reference/random/index.html)"
   ]
  }
 ],
 "metadata": {
  "kernelspec": {
   "display_name": "Python 3",
   "language": "python",
   "name": "python3"
  },
  "language_info": {
   "codemirror_mode": {
    "name": "ipython",
    "version": 3
   },
   "file_extension": ".py",
   "mimetype": "text/x-python",
   "name": "python",
   "nbconvert_exporter": "python",
   "pygments_lexer": "ipython3",
   "version": "3.7.5"
  }
 },
 "nbformat": 4,
 "nbformat_minor": 4
}

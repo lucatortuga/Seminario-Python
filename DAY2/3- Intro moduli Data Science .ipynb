{
 "cells": [
  {
   "cell_type": "markdown",
   "metadata": {},
   "source": [
    "# Introduzione moduli e librerie Python per il Data Science"
   ]
  },
  {
   "cell_type": "markdown",
   "metadata": {},
   "source": [
    "Oggigiorno sentiamo molto parlare di **DATA SCIENCE** ovvero (da Wikipedia)  \n",
    "\"...l'insieme di principi metodologici (basati sul metodo scientifico) e di tecniche multidisciplinari volto a interpretare ed estrarre conoscenza dai dati attraverso la relativa fase di analisi da parte di un esperto...\"  \n",
    "E guarda caso quegli \"esperti\" siamo noi! E lo facciamo da sempre, perchè necessitiamo di analizzare i risultati sperimentali delle nostre ricerche per una comprensione **valida** dei fenomeni studiati.\n",
    "Per l'analisi dei dati abbiamo bisogno di competenze in varie displipline (oltre alle nostre specializzazioni), matematiche, statistiche, ed informatiche.  \n",
    "\n",
    "A volte il solito Excel non è più sufficiente e dobbiamo, per forza di cose, cercare ed usare, altri strumenti più sofisticati e adatti alle nostre esigenze...  \n",
    "\n",
    "**Tutta questa premessa per introdurre una serie di \"_framework_\" Python** dedicati e sviluppati _ad hoc_ per il calcolo scientifico."
   ]
  },
  {
   "cell_type": "markdown",
   "metadata": {},
   "source": [
    "### NumPy\n",
    "NumPy sta per \"Numerical Python\" ed è un pacchetto fondamentale per qualsiasi tipo di elaborazione in\n",
    "ambito scientifico fatta con Python.  \n",
    "### Matplotlib\n",
    "è un pacchetto di _plotting_ molto popolare estremamente potente e flessibile; Fornisce le necessarie funzionalità per realizzare grafici 2D di qualità editoriale(ovvero adatti all'inserimento in publicazioni e presentazioni).\n",
    "### Pandas\n",
    "E' una libreria per la manipolazione e l'analisi dei dati. In particolare, offre strutture dati e operazioni per manipolare tabelle numeriche e serie temporali.\n",
    "\n",
    "**Altri pacchetti per il data science**:\n",
    "- `Scipy`\n",
    "- `SymPy`, per la computer algebra e la matematica simbolica.\n",
    "- `scikit-image` collezione di algoritmi per image processing.\n",
    "- `scikit-learn` collezione di algoritmi e _tool_ per machine learning.\n",
    "- `h5py` e `PyTables` entrambi permettono di accedere al formato HDF5."
   ]
  }
 ],
 "metadata": {
  "kernelspec": {
   "display_name": "Python 3",
   "language": "python",
   "name": "python3"
  },
  "language_info": {
   "codemirror_mode": {
    "name": "ipython",
    "version": 3
   },
   "file_extension": ".py",
   "mimetype": "text/x-python",
   "name": "python",
   "nbconvert_exporter": "python",
   "pygments_lexer": "ipython3",
   "version": "3.7.5"
  }
 },
 "nbformat": 4,
 "nbformat_minor": 4
}

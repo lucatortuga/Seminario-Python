{
 "cells": [
  {
   "cell_type": "markdown",
   "metadata": {},
   "source": [
    "# `SciPy`\n",
    "## [scipy.org](https://scipy.org/)"
   ]
  },
  {
   "cell_type": "markdown",
   "metadata": {},
   "source": [
    "Il pacchetto scipy utilizza la funzionalità di `numpy` per fornire un pacchetto di calcolo scientifico _general purpose_  \n",
    "\n",
    "`>>>import scipy`  \n",
    "\n",
    "**Scipy** è di fatto una collezione enorme di sottopacchetti"
   ]
  },
  {
   "cell_type": "code",
   "execution_count": 1,
   "metadata": {},
   "outputs": [
    {
     "name": "stdout",
     "output_type": "stream",
     "text": [
      "SciPy: A scientific computing package for Python\n",
      "================================================\n",
      "\n",
      "Documentation is available in the docstrings and\n",
      "online at https://docs.scipy.org.\n",
      "\n",
      "Contents\n",
      "--------\n",
      "SciPy imports all the functions from the NumPy namespace, and in\n",
      "addition provides:\n",
      "\n",
      "Subpackages\n",
      "-----------\n",
      "Using any of these subpackages requires an explicit import.  For example,\n",
      "``import scipy.cluster``.\n",
      "\n",
      "::\n",
      "\n",
      " cluster                      --- Vector Quantization / Kmeans\n",
      " fftpack                      --- Discrete Fourier Transform algorithms\n",
      " integrate                    --- Integration routines\n",
      " interpolate                  --- Interpolation Tools\n",
      " io                           --- Data input and output\n",
      " linalg                       --- Linear algebra routines\n",
      " linalg.blas                  --- Wrappers to BLAS library\n",
      " linalg.lapack                --- Wrappers to LAPACK library\n",
      " misc                         --- Various utilities that don't have\n",
      "                                  another home.\n",
      " ndimage                      --- n-dimensional image package\n",
      " odr                          --- Orthogonal Distance Regression\n",
      " optimize                     --- Optimization Tools\n",
      " signal                       --- Signal Processing Tools\n",
      " signal.windows               --- Window functions\n",
      " sparse                       --- Sparse Matrices\n",
      " sparse.linalg                --- Sparse Linear Algebra\n",
      " sparse.linalg.dsolve         --- Linear Solvers\n",
      " sparse.linalg.dsolve.umfpack --- :Interface to the UMFPACK library:\n",
      "                                  Conjugate Gradient Method (LOBPCG)\n",
      " sparse.linalg.eigen          --- Sparse Eigenvalue Solvers\n",
      " sparse.linalg.eigen.lobpcg   --- Locally Optimal Block Preconditioned\n",
      "                                  Conjugate Gradient Method (LOBPCG)\n",
      " spatial                      --- Spatial data structures and algorithms\n",
      " special                      --- Special functions\n",
      " stats                        --- Statistical Functions\n",
      "\n",
      "Utility tools\n",
      "-------------\n",
      "::\n",
      "\n",
      " test              --- Run scipy unittests\n",
      " show_config       --- Show scipy build configuration\n",
      " show_numpy_config --- Show numpy build configuration\n",
      " __version__       --- SciPy version string\n",
      " __numpy_version__ --- Numpy version string\n"
     ]
    }
   ],
   "source": [
    "import scipy\n",
    "\n",
    "scipy.info(scipy)"
   ]
  },
  {
   "cell_type": "markdown",
   "metadata": {},
   "source": [
    "Fornisce inoltre:\n",
    "\n",
    "- costanti matematiche e fisiche **`scipy.constants`**\n",
    "- funzioni in uso in fisica matematica (ellittiche, Bessel, ipergeometriche) **`scipy.special**\n",
    "- metodi di integrazione numerica (trapezoidale, Simpson), integrazione di equazioni differenziali **`scipy.integrate`**\n",
    "- metodi di ottimizzazione (minimi quadrati, gradiente, simulated annealing) **`scipy.optimize`**\n",
    "- estensione di numpy.linalg; soluzione di sistemi lineari, calcolo matriciale, decomposizione, fattorizzazione **`scipy.linalg`**\n",
    "- gestione di matrici sparse **`scipy.sparse`**\n",
    "- metodi per l'interpolazione lineare e non di dati **`scipy.interpolate`**\n",
    "- Trasformazione di Fourier **`scipy.fftpack`**\n",
    "- metodi di signal processing (filtraggio, correlazione, convoluzione, smoothing) **`scipy.signal`**\n",
    "- distribuzioni di probabilità continue e discrete, calcolo dei momenti, calcolo cumulative, statistica descrittiva, test **`scipy.stats`**"
   ]
  },
  {
   "cell_type": "markdown",
   "metadata": {},
   "source": [
    "## Solo la curiosità e l'esigenza di ottimizzare e migliorare i vostri studi vi spingerà alla scoperta di questi nuovi strumenti ;-)  "
   ]
  },
  {
   "cell_type": "code",
   "execution_count": null,
   "metadata": {},
   "outputs": [],
   "source": []
  }
 ],
 "metadata": {
  "kernelspec": {
   "display_name": "Python 3",
   "language": "python",
   "name": "python3"
  },
  "language_info": {
   "codemirror_mode": {
    "name": "ipython",
    "version": 3
   },
   "file_extension": ".py",
   "mimetype": "text/x-python",
   "name": "python",
   "nbconvert_exporter": "python",
   "pygments_lexer": "ipython3",
   "version": "3.7.5"
  }
 },
 "nbformat": 4,
 "nbformat_minor": 4
}

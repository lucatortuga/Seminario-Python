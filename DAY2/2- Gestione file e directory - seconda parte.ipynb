{
 "cells": [
  {
   "cell_type": "markdown",
   "metadata": {},
   "source": [
    "# Gestione file e directory (2^ parte)\n",
    "<sub>(https://realpython.com )</sub>"
   ]
  },
  {
   "cell_type": "markdown",
   "metadata": {},
   "source": [
    "### Filename Pattern Matching\n",
    "Quando si esplora il contenuto di una directory spesso lo si fa cercando uno specifico nome di file. In Python esistono delle funzioni e dei metodi proprio per questo scopo.\n",
    "\n",
    "- `endswith()` e `startswith()` sono metodi per le stringhe\n",
    "- `fnmatch.fnmatch()`\n",
    "- `glob.glob()`\n",
    "- `pathlib.Path.glob()`"
   ]
  },
  {
   "cell_type": "code",
   "execution_count": 1,
   "metadata": {},
   "outputs": [
    {
     "name": "stdout",
     "output_type": "stream",
     "text": [
      "hello.txt\n"
     ]
    }
   ],
   "source": [
    "# metodo endwith()\n",
    "import os\n",
    "for f_name in os.listdir('tmp'):\n",
    "    if f_name.endswith('.txt'):\n",
    "        print(f_name)"
   ]
  },
  {
   "cell_type": "markdown",
   "metadata": {},
   "source": [
    "La funzione `fnmatch.fnmatch()` fornisce funzionalità più avanzate per il _matching_ quali per esempio l'uso di _wildcard_ come **\\*** e **?**"
   ]
  },
  {
   "cell_type": "code",
   "execution_count": 2,
   "metadata": {},
   "outputs": [
    {
     "name": "stdout",
     "output_type": "stream",
     "text": [
      "hello.txt\n"
     ]
    }
   ],
   "source": [
    "import os\n",
    "import fnmatch\n",
    "for file_name in os.listdir('tmp'):\n",
    "     if fnmatch.fnmatch(file_name, '*.txt'):\n",
    "         print(file_name)"
   ]
  },
  {
   "cell_type": "markdown",
   "metadata": {},
   "source": [
    "Un altro modulo utile al _filename pattern matching_ è il `.glob()` .  \n",
    "(in sistemi _UNIX-like_ _globbing_ è la lista con i nomi contenenti _wildcard_ come **?** e **\\*** ) ."
   ]
  },
  {
   "cell_type": "code",
   "execution_count": 3,
   "metadata": {},
   "outputs": [
    {
     "data": {
      "text/plain": [
       "['./tmp/pluto.py', './tmp/pippo.py']"
      ]
     },
     "execution_count": 3,
     "metadata": {},
     "output_type": "execute_result"
    }
   ],
   "source": [
    "import glob\n",
    "glob.glob('./tmp/*.py')"
   ]
  },
  {
   "cell_type": "markdown",
   "metadata": {},
   "source": [
    "`glob` rende semplice anche cercare ricorsivamente dei nomi di file"
   ]
  },
  {
   "cell_type": "code",
   "execution_count": 4,
   "metadata": {},
   "outputs": [
    {
     "name": "stdout",
     "output_type": "stream",
     "text": [
      "file_esempio/prova.py\n",
      "file_esempio/helloworld.py\n",
      "esempi/pyplot_isto.py\n",
      "esempi/pyplot_esempio.py\n",
      "esempi/pyplot_sin.py\n",
      "esempi/pyplot_regr.py\n",
      "tmp/pluto.py\n",
      "tmp/pippo.py\n"
     ]
    }
   ],
   "source": [
    "import glob\n",
    "for file in glob.iglob('**/*.py', recursive=True):\n",
    "    print(file)"
   ]
  },
  {
   "cell_type": "markdown",
   "metadata": {},
   "source": [
    "`.iglob` come è facile immaginare ritorna un _iteratore_"
   ]
  },
  {
   "cell_type": "markdown",
   "metadata": {},
   "source": [
    "Infine vediamo come eseguire la ricerca di nomi di file con il modulo `pathlib` il quale contiene dei metodi simili a quelli visti negli esempi sopra"
   ]
  },
  {
   "cell_type": "code",
   "execution_count": 5,
   "metadata": {},
   "outputs": [
    {
     "name": "stdout",
     "output_type": "stream",
     "text": [
      "tmp/pluto.py\n",
      "tmp/pippo.py\n"
     ]
    }
   ],
   "source": [
    "from pathlib import Path\n",
    "p = Path('.')\n",
    "for name in p.glob('./tmp/*.p*'):\n",
    "     print(name)"
   ]
  },
  {
   "cell_type": "markdown",
   "metadata": {},
   "source": [
    "#### Ricapitolando\n",
    "\n",
    "quanto visto fino ad ora:\n",
    "\n",
    "**Funzione** | **Descrizione**\n",
    ":--- | :---\n",
    "**`startswith()`** | Verifica se una stringa inizia con un pattern specificato e ritorna True o False\n",
    "**`endswith()`** | Verifica se una stringa finisce con un pattern specificato e ritorna True o False\n",
    "**`fnmatch.fnmatch(filename, pattern)`** | Verifica se un nome file corrisponde al _pattern_ e ritorna True o False\n",
    "**`glob.glob()`** | Ritorna una lista di nomi che corrispondono al _pattern_\n",
    "**`pathlib.Path.glob()`** | Cerca le corrispondenze nei nomi di file e ritorna un oggetto corrispondente"
   ]
  },
  {
   "cell_type": "markdown",
   "metadata": {},
   "source": [
    "***"
   ]
  },
  {
   "cell_type": "markdown",
   "metadata": {},
   "source": [
    "### Scorrere Directory ed elaborare File"
   ]
  },
  {
   "cell_type": "markdown",
   "metadata": {},
   "source": [
    "Un'operazione abbastanza comune sulle directory e sui file è quella di scorrere lungo un albero di directory per fare determinate operazioni sui file. Andiamo a conoscere ancora un'altra funzione del modulo `os` la `os.walk()` . Questa permette di scorrere dall'alto verso il basso un albero di directory e viceversa; vediamo alcuni esempi:"
   ]
  },
  {
   "cell_type": "code",
   "execution_count": 6,
   "metadata": {},
   "outputs": [
    {
     "name": "stdout",
     "output_type": "stream",
     "text": [
      "\n",
      "--- Found directory: . ---\n",
      "2- scipy.ipynb\n",
      ".DS_Store\n",
      "9- Gestione file e directory - prima parte.ipynb\n",
      "1- numpy.ipynb\n",
      "91- Gestione file e directory - seconda parte.ipynb\n",
      "0- Intro Day2.ipynb\n",
      "\n",
      "--- Found directory: ./file_esempio ---\n",
      "libri.zip\n",
      ".DS_Store\n",
      "nuovo_testo.txt\n",
      "secondo.txt\n",
      "prova.py\n",
      "helloworld.py\n",
      "primo.txt\n",
      "La_Svastica_Sul_Sole.pdf\n",
      "testo.txt\n",
      "Do_androids_dream_of_electric_sheep.pdf\n",
      "\n",
      "--- Found directory: ./file_esempio/.ipynb_checkpoints ---\n",
      "\n",
      "--- Found directory: ./img ---\n",
      "slicing_4.png\n",
      "slicing_2.png\n",
      ".DS_Store\n",
      "04_plot_overview1.svg\n",
      "slicing_3.png\n",
      "slicing_1.png\n",
      "03_subset_columns.svg\n",
      "05_newcolumn_1.svg\n",
      "slicing_0.png\n",
      "08_concat_row1.svg\n",
      "file_modes.png\n",
      "03_subset_rows.svg\n",
      "03_subset_columns_rows1.svg\n",
      "\n",
      "--- Found directory: ./.ipynb_checkpoints ---\n",
      "42- pandas-3-checkpoint.ipynb\n",
      "3- matplotlib-checkpoint.ipynb\n",
      "5- Altri framework per la scienza e molto altro-checkpoint.ipynb\n",
      "2- scipy-checkpoint.ipynb\n",
      "1- numpy-checkpoint.ipynb\n",
      "6- Conclusioni-checkpoint.ipynb\n",
      "4- pandas-1-checkpoint.ipynb\n",
      "0- Intro Day2-checkpoint.ipynb\n",
      "9- Gestione file e directory - prima parte-checkpoint.ipynb\n",
      "41- pandas-2-checkpoint.ipynb\n",
      "\n",
      "--- Found directory: ./esempi ---\n",
      "pyplot_isto.py\n",
      ".DS_Store\n",
      "pyplot_esempio.py\n",
      "pyplot_sin.py\n",
      "pyplot_regr.py\n",
      "\n",
      "--- Found directory: ./esempi/dataset ---\n",
      ".DS_Store\n",
      "air_quality.csv\n",
      "comandi selezione colonne\n",
      "ml-latest-small.zip\n",
      "tracciatorecordstandardcomunaliqualitaaria.xlsx\n",
      "air_quality_stations.csv\n",
      "movies_mod.csv\n",
      "air_quality_pm25_long.csv\n",
      "air_quality_long.csv\n",
      "titanic.csv\n",
      "star_trek.csv\n",
      "standardcomunali2018.csv\n",
      "movies.csv\n",
      "\n",
      "--- Found directory: ./esempi/dataset/ml-latest-small ---\n",
      "links.csv\n",
      ".DS_Store\n",
      "tags.csv\n",
      "ratings.csv\n",
      "README.txt\n",
      "\n",
      "--- Found directory: ./esempi/.ipynb_checkpoints ---\n",
      "\n",
      "--- Found directory: ./tmp ---\n",
      "pluto.py\n",
      "pippo.py\n",
      "hello.txt\n",
      "\n",
      "--- Found directory: ./tmp/Untitled Folder ---\n",
      "Hello.txt\n",
      "\n",
      "--- Found directory: ./tmp/Untitled Folder/.ipynb_checkpoints ---\n",
      "\n",
      "--- Found directory: ./tmp/.ipynb_checkpoints ---\n"
     ]
    }
   ],
   "source": [
    "import os\n",
    "for dirpath, dirnames, files in os.walk('.'): # per default os.walk scorre top-down\n",
    "    print(f'\\n--- Found directory: {dirpath} ---')\n",
    "    for file_name in files:\n",
    "        print(file_name)"
   ]
  },
  {
   "cell_type": "markdown",
   "metadata": {},
   "source": [
    "`os.walk()` ritorna 3 valori:\n",
    "\n",
    "- il nome della directory corrente\n",
    "- una lista delle directory sotto la corrente\n",
    "- una lista dei file nella directory corrente\n",
    "\n",
    "Per scorrere l'albero in senso _bottom-up_ si usa la sintassi:  \n",
    "```os.walk('.', topdown=False)```"
   ]
  },
  {
   "cell_type": "markdown",
   "metadata": {},
   "source": [
    "***"
   ]
  },
  {
   "cell_type": "markdown",
   "metadata": {},
   "source": [
    "### Cancellare File e Directory\n",
    "\n",
    "E' possibile fare pulizia(cancellare) file e directory utilizzando i metodi forniti da `os`, `shutil` e `pathlib`.  \n",
    "\n",
    "**Cancellare file**  \n",
    "Per cancellare un file possiamo usare `pathlib.Path.unlink()`, `os.remove()`, o `os.unlink()`.\n",
    "\n",
    "(os.remove() e os.unlink() semanticamente sono uguali)."
   ]
  },
  {
   "cell_type": "code",
   "execution_count": 7,
   "metadata": {},
   "outputs": [
    {
     "name": "stdout",
     "output_type": "stream",
     "text": [
      "File non trovato. CREARE PRIMA\n"
     ]
    }
   ],
   "source": [
    "import os\n",
    "\n",
    "data_file = 'to_be_deleted.txt'\n",
    "try:\n",
    " os.remove(data_file)\n",
    "except FileNotFoundError :\n",
    "    print('File non trovato. CREARE PRIMA')\n",
    "#p = Path('./to_be_deleted.txt')\n",
    "#p.touch()"
   ]
  },
  {
   "cell_type": "markdown",
   "metadata": {},
   "source": [
    "un altro esempio"
   ]
  },
  {
   "cell_type": "code",
   "execution_count": 8,
   "metadata": {},
   "outputs": [
    {
     "name": "stdout",
     "output_type": "stream",
     "text": [
      "Errore: to_be_deleted.txt il file non esiste. CREARE PRIMA\n"
     ]
    }
   ],
   "source": [
    "import os\n",
    "\n",
    "data_file = 'to_be_deleted.txt'\n",
    "\n",
    "# If the file exists, delete it\n",
    "if os.path.isfile(data_file):\n",
    "    os.remove(data_file)\n",
    "else:\n",
    "    print(f'Errore: {data_file} il file non esiste. CREARE PRIMA')"
   ]
  },
  {
   "cell_type": "markdown",
   "metadata": {},
   "source": [
    "Infine vediamo come cancellare il file con `pathlib.Path.unlink()`"
   ]
  },
  {
   "cell_type": "code",
   "execution_count": 9,
   "metadata": {},
   "outputs": [
    {
     "name": "stdout",
     "output_type": "stream",
     "text": [
      "Error: to_be_deleted.txt : No such file or directory\n",
      "CREARE PRIMA\n"
     ]
    }
   ],
   "source": [
    "from pathlib import Path\n",
    "\n",
    "data_file = Path('./to_be_deleted.txt')\n",
    "\n",
    "try:\n",
    "    data_file.unlink()\n",
    "except FileNotFoundError as e:\n",
    "    print(f'Error: {data_file} : {e.strerror}')\n",
    "    print('CREARE PRIMA')"
   ]
  },
  {
   "cell_type": "markdown",
   "metadata": {},
   "source": [
    "Vediamo ora come **cancellare le directory** con tre diverse funzioni:  \n",
    "\n",
    "- **`os.rmdir()`**\n",
    "- **`pathlib.Path.rmdir()`**\n",
    "- **`shutil.rmtree()`**\n",
    "\n",
    "Per cancellare una singola directory, purchè vuota, usare `os.rmdir()` o `pathlib.rmdir()`"
   ]
  },
  {
   "cell_type": "code",
   "execution_count": 10,
   "metadata": {},
   "outputs": [],
   "source": [
    "import os\n",
    "os.mkdir('Folder_da_cancellare') # necessaria per l'esempio successivo"
   ]
  },
  {
   "cell_type": "code",
   "execution_count": 11,
   "metadata": {},
   "outputs": [],
   "source": [
    "import os\n",
    "\n",
    "trash_dir = './Folder_da_cancellare'\n",
    "\n",
    "try:\n",
    "    os.rmdir(trash_dir)\n",
    "except OSError as e:\n",
    "    print(f'Error: {trash_dir} : {e.strerror}')"
   ]
  },
  {
   "cell_type": "markdown",
   "metadata": {},
   "source": [
    "in alternativa si può usare `pathlib.rmdir()`"
   ]
  },
  {
   "cell_type": "code",
   "execution_count": 12,
   "metadata": {},
   "outputs": [
    {
     "name": "stdout",
     "output_type": "stream",
     "text": [
      "Error: Folder_da_cancellare : No such file or directory\n"
     ]
    }
   ],
   "source": [
    "from pathlib import Path\n",
    "\n",
    "trash_dir = Path('./Folder_da_cancellare')\n",
    "\n",
    "try:\n",
    "    trash_dir.rmdir()\n",
    "except OSError as e:\n",
    "    print(f'Error: {trash_dir} : {e.strerror}')"
   ]
  },
  {
   "cell_type": "markdown",
   "metadata": {},
   "source": [
    "Come **cancellare un intero albero di directory** anche se contentente ancora files"
   ]
  },
  {
   "cell_type": "code",
   "execution_count": 13,
   "metadata": {},
   "outputs": [
    {
     "ename": "FileNotFoundError",
     "evalue": "[Errno 2] No such file or directory: 'Folder_da_cancellare/file.txt'",
     "output_type": "error",
     "traceback": [
      "\u001b[0;31m---------------------------------------------------------------------------\u001b[0m",
      "\u001b[0;31mFileNotFoundError\u001b[0m                         Traceback (most recent call last)",
      "\u001b[0;32m<ipython-input-13-19c95f82ed39>\u001b[0m in \u001b[0;36m<module>\u001b[0;34m\u001b[0m\n\u001b[1;32m      1\u001b[0m \u001b[0;32mfrom\u001b[0m \u001b[0mpathlib\u001b[0m \u001b[0;32mimport\u001b[0m \u001b[0mPath\u001b[0m\u001b[0;34m\u001b[0m\u001b[0;34m\u001b[0m\u001b[0m\n\u001b[1;32m      2\u001b[0m \u001b[0;34m\u001b[0m\u001b[0m\n\u001b[0;32m----> 3\u001b[0;31m \u001b[0mPath\u001b[0m\u001b[0;34m(\u001b[0m\u001b[0;34m'Folder_da_cancellare/file.txt'\u001b[0m\u001b[0;34m)\u001b[0m\u001b[0;34m.\u001b[0m\u001b[0mtouch\u001b[0m\u001b[0;34m(\u001b[0m\u001b[0;34m)\u001b[0m \u001b[0;31m#necessario per il succ. esempio\u001b[0m\u001b[0;34m\u001b[0m\u001b[0;34m\u001b[0m\u001b[0m\n\u001b[0m",
      "\u001b[0;32m~/opt/anaconda3/lib/python3.7/pathlib.py\u001b[0m in \u001b[0;36mtouch\u001b[0;34m(self, mode, exist_ok)\u001b[0m\n\u001b[1;32m   1246\u001b[0m         \u001b[0;32mif\u001b[0m \u001b[0;32mnot\u001b[0m \u001b[0mexist_ok\u001b[0m\u001b[0;34m:\u001b[0m\u001b[0;34m\u001b[0m\u001b[0;34m\u001b[0m\u001b[0m\n\u001b[1;32m   1247\u001b[0m             \u001b[0mflags\u001b[0m \u001b[0;34m|=\u001b[0m \u001b[0mos\u001b[0m\u001b[0;34m.\u001b[0m\u001b[0mO_EXCL\u001b[0m\u001b[0;34m\u001b[0m\u001b[0;34m\u001b[0m\u001b[0m\n\u001b[0;32m-> 1248\u001b[0;31m         \u001b[0mfd\u001b[0m \u001b[0;34m=\u001b[0m \u001b[0mself\u001b[0m\u001b[0;34m.\u001b[0m\u001b[0m_raw_open\u001b[0m\u001b[0;34m(\u001b[0m\u001b[0mflags\u001b[0m\u001b[0;34m,\u001b[0m \u001b[0mmode\u001b[0m\u001b[0;34m)\u001b[0m\u001b[0;34m\u001b[0m\u001b[0;34m\u001b[0m\u001b[0m\n\u001b[0m\u001b[1;32m   1249\u001b[0m         \u001b[0mos\u001b[0m\u001b[0;34m.\u001b[0m\u001b[0mclose\u001b[0m\u001b[0;34m(\u001b[0m\u001b[0mfd\u001b[0m\u001b[0;34m)\u001b[0m\u001b[0;34m\u001b[0m\u001b[0;34m\u001b[0m\u001b[0m\n\u001b[1;32m   1250\u001b[0m \u001b[0;34m\u001b[0m\u001b[0m\n",
      "\u001b[0;32m~/opt/anaconda3/lib/python3.7/pathlib.py\u001b[0m in \u001b[0;36m_raw_open\u001b[0;34m(self, flags, mode)\u001b[0m\n\u001b[1;32m   1053\u001b[0m         \u001b[0;32mif\u001b[0m \u001b[0mself\u001b[0m\u001b[0;34m.\u001b[0m\u001b[0m_closed\u001b[0m\u001b[0;34m:\u001b[0m\u001b[0;34m\u001b[0m\u001b[0;34m\u001b[0m\u001b[0m\n\u001b[1;32m   1054\u001b[0m             \u001b[0mself\u001b[0m\u001b[0;34m.\u001b[0m\u001b[0m_raise_closed\u001b[0m\u001b[0;34m(\u001b[0m\u001b[0;34m)\u001b[0m\u001b[0;34m\u001b[0m\u001b[0;34m\u001b[0m\u001b[0m\n\u001b[0;32m-> 1055\u001b[0;31m         \u001b[0;32mreturn\u001b[0m \u001b[0mself\u001b[0m\u001b[0;34m.\u001b[0m\u001b[0m_accessor\u001b[0m\u001b[0;34m.\u001b[0m\u001b[0mopen\u001b[0m\u001b[0;34m(\u001b[0m\u001b[0mself\u001b[0m\u001b[0;34m,\u001b[0m \u001b[0mflags\u001b[0m\u001b[0;34m,\u001b[0m \u001b[0mmode\u001b[0m\u001b[0;34m)\u001b[0m\u001b[0;34m\u001b[0m\u001b[0;34m\u001b[0m\u001b[0m\n\u001b[0m\u001b[1;32m   1056\u001b[0m \u001b[0;34m\u001b[0m\u001b[0m\n\u001b[1;32m   1057\u001b[0m     \u001b[0;31m# Public API\u001b[0m\u001b[0;34m\u001b[0m\u001b[0;34m\u001b[0m\u001b[0;34m\u001b[0m\u001b[0m\n",
      "\u001b[0;31mFileNotFoundError\u001b[0m: [Errno 2] No such file or directory: 'Folder_da_cancellare/file.txt'"
     ]
    }
   ],
   "source": [
    "from pathlib import Path\n",
    "\n",
    "Path('Folder_da_cancellare/file.txt').touch() #necessario per il succ. esempio"
   ]
  },
  {
   "cell_type": "code",
   "execution_count": null,
   "metadata": {},
   "outputs": [],
   "source": [
    "import shutil\n",
    "\n",
    "trash_dir = './Folder_da_cancellare'\n",
    "\n",
    "try:\n",
    "    shutil.rmtree(trash_dir)\n",
    "except OSError as e:\n",
    "    print(f'Error: {trash_dir} : {e.strerror}')"
   ]
  },
  {
   "cell_type": "markdown",
   "metadata": {},
   "source": [
    "Ci sono a volte situazioni dove si vuole cancellare delle dir in modo ricorsivo. Questo lo si può fare utilizzando uno dei metodi visti prima in congiunzione con la funzione `os.walk()`:"
   ]
  },
  {
   "cell_type": "code",
   "execution_count": null,
   "metadata": {},
   "outputs": [],
   "source": [
    "import os\n",
    "\n",
    "try:\n",
    "    os.mkdir('Folder_da_cancellare') # necessaria per l'esempio successivo\n",
    "except FileExistsError :\n",
    "    print('Dir esistente')\n",
    "os.makedirs('Folder_da_cancellare/tmp1/tmp2/tmp3') # necessaria per l'esempio successivo"
   ]
  },
  {
   "cell_type": "code",
   "execution_count": null,
   "metadata": {},
   "outputs": [],
   "source": [
    "import os\n",
    "\n",
    "for dirpath, dirnames, files in os.walk('./Folder_da_cancellare', topdown=False):\n",
    "    try:\n",
    "        os.rmdir(dirpath)\n",
    "    except OSError as ex:\n",
    "        pass"
   ]
  },
  {
   "cell_type": "markdown",
   "metadata": {},
   "source": [
    "#### Ricapitolando\n",
    "\n",
    "le ultime funzioni incontrate:\n",
    "\n",
    "**Funzione** | **Descrizione**\n",
    ":--- | :---\n",
    "**`os.remove()`** | Cancella un file ma non cancella directory\n",
    "**`os.unlink()`** | è identica a os.remove(). Cancella solo singoli file\n",
    "**`pathlib.Path.unlink()`** | Cancella un file ma non cancella directory\n",
    "**`os.rmdir()`** | Cancella una directory vuota\n",
    "**`pathlib.Path.rmdir()`** | Cancella una directory vuota\n",
    "**`shutil.rmtree()`** | Cancella un intero albero directory e può essere usata per cancellare anche directory non vuote\n"
   ]
  },
  {
   "cell_type": "markdown",
   "metadata": {},
   "source": [
    "***"
   ]
  },
  {
   "cell_type": "markdown",
   "metadata": {},
   "source": [
    "### Copiare, Spostare e rinominare file e directory\n",
    "Python con le sue \"_batterie incluse_\" dispone del modulo `shutil`. **shutil** sta per \"shell utilities\". Questo modulo supporta un numero di operazioni di alto livello su file e directory: copia, archiviazione, e come già visto cancellazione."
   ]
  },
  {
   "cell_type": "markdown",
   "metadata": {},
   "source": [
    "Come **copiare** i file"
   ]
  },
  {
   "cell_type": "code",
   "execution_count": null,
   "metadata": {},
   "outputs": [],
   "source": [
    "import shutil\n",
    "\n",
    "src = 'tmp/Hello.txt'\n",
    "dst = 'tmp/Untitled Folder'\n",
    "shutil.copy(src, dst)"
   ]
  },
  {
   "cell_type": "markdown",
   "metadata": {},
   "source": [
    "**`shutil.copy`** copia un singolo file ed i suoi permessi ma non gli altri metadati.\n",
    "Utilizzando la funzione **`.copy2()`** si possono anche conservare i metadati del file copiato, quali _last access time_, _permission bits_, _last modification time_, e altri _flags_"
   ]
  },
  {
   "cell_type": "markdown",
   "metadata": {},
   "source": [
    "Come **copiare directory**  \n",
    "Mentre con `shutil.copy()` copiamo solo un singolo file, con **`shutil.copytree(src, dst)`** possiamo copiare una intera directory ed anche il suo contenuto."
   ]
  },
  {
   "cell_type": "code",
   "execution_count": null,
   "metadata": {},
   "outputs": [],
   "source": [
    "import shutil\n",
    "shutil.copytree('folder_2', 'folder_3')"
   ]
  },
  {
   "cell_type": "markdown",
   "metadata": {},
   "source": [
    "`shutil.copytree()` è un ottimo sistema per fare un backup dei file"
   ]
  },
  {
   "cell_type": "markdown",
   "metadata": {},
   "source": [
    "Come **spostare** file e/o directory  \n",
    "Per spostare un singolo file o un'intera directory in un'altra posizionde del file system:"
   ]
  },
  {
   "cell_type": "code",
   "execution_count": null,
   "metadata": {},
   "outputs": [],
   "source": [
    "import shutil\n",
    "shutil.move('folder_1/', 'folder_backup/')"
   ]
  },
  {
   "cell_type": "markdown",
   "metadata": {},
   "source": [
    "Come **rinominare** file e directory\n",
    "`os.rename()` svolge proprio questo compito:\n",
    "```\n",
    "import os\n",
    "os.rename('test.txt', 'prova.txt')\n",
    "```\n",
    "\n",
    "oppure con il modulo `pathlib`:\n",
    "```\n",
    "from pathlib import Path\n",
    "data_file = Path('data_01.txt')\n",
    "data_file.rename('data.txt')\n",
    "```"
   ]
  },
  {
   "cell_type": "markdown",
   "metadata": {},
   "source": [
    "***"
   ]
  },
  {
   "cell_type": "markdown",
   "metadata": {},
   "source": [
    "### Archiviare(comprimere) file\n",
    "Gli archivi compressi, comunemente conosciuti come (.zip o .tar su sistemi Linux/Unix) sono un modo molto conveniente di archiviare più file.  \n",
    "Python permette di gestire(creare, leggere, scrivere) questi tipi di archivi con il modulo **`zipfile`**.  \n",
    "Vediamo come:\n",
    "\n",
    "**Leggere ZIP Files**"
   ]
  },
  {
   "cell_type": "code",
   "execution_count": null,
   "metadata": {},
   "outputs": [],
   "source": [
    "import zipfile\n",
    "with zipfile.ZipFile('file_esempio/libri.zip', 'r') as zipobj:\n",
    "    print(zipobj.namelist())"
   ]
  },
  {
   "cell_type": "markdown",
   "metadata": {},
   "source": [
    "La funzione `zipfile.ZipFile` ritorna un oggetto di tipo `ZipFile` che può successivamente essere utilizzato con le diverse funzioni fornite dal modulo. Per esempio la `.namelist()` ritorna una lista di nome dei file contenuti nell'archivio.  \n",
    "Se volessi conoscere le informazioni sui file potremmo chiamare la `.getinfo()`, oppure la `.file_size()` per avere la dimensione originale in _bytes_ .  \n"
   ]
  },
  {
   "cell_type": "code",
   "execution_count": null,
   "metadata": {},
   "outputs": [],
   "source": [
    "import zipfile\n",
    "with zipfile.ZipFile('file_esempio/libri.zip', 'r') as zipobj:\n",
    "    cheat_info = zipobj.getinfo('libri/python-cheat-sheet.pdf')\n",
    "    #zipobj.getinfo('libri/python-cheat-sheet.pdf')\n",
    "    print(cheat_info.file_size) "
   ]
  },
  {
   "cell_type": "code",
   "execution_count": null,
   "metadata": {},
   "outputs": [],
   "source": [
    "cheat_info.date_time #data ultima modifica"
   ]
  },
  {
   "cell_type": "code",
   "execution_count": null,
   "metadata": {},
   "outputs": [],
   "source": [
    "cheat_info.compress_size #dimensione del file dopo compressione"
   ]
  },
  {
   "cell_type": "code",
   "execution_count": null,
   "metadata": {},
   "outputs": [],
   "source": [
    "cheat_info.filename # mostra il path completo del file"
   ]
  },
  {
   "cell_type": "markdown",
   "metadata": {},
   "source": [
    "**Estrarre archivi** _zippati_  \n",
    "**`.extract()`** estrae un file  \n",
    "**`.extractall()`** estrae più file  \n",
    "Entrambe i metodi decomprimono ed estraggono i file nella directory corrente; comunque entrambi prendono un _path_ come parametro opzionale per specificare un'altra dir(se non esiste, viene creata)."
   ]
  },
  {
   "cell_type": "code",
   "execution_count": null,
   "metadata": {},
   "outputs": [],
   "source": [
    "import os\n",
    "import zipfile\n",
    "\n",
    "os.chdir('file_esempio')\n",
    "\n",
    "data_zip = zipfile.ZipFile('libri.zip', 'r')\n",
    "\n",
    "#Estraggo un singolo file\n",
    "data_zip.extract('python-cheat-sheet.pdf')\n",
    "print(os.listdir('.'))\n",
    "\n",
    "#estraggo tutti i file in una dir diversa\n",
    "data_zip.extractall(path='estratti/')\n",
    "print(os.listdir('.'))\n",
    "\n",
    "print(os.listdir('estratti/'))\n",
    "\n",
    "data_zip.close()"
   ]
  },
  {
   "cell_type": "markdown",
   "metadata": {},
   "source": [
    "Se il file archivio è protetto da password allora possiamo passare alla funzione `.extractall()` un secondo parametro  \n",
    "```\n",
    "pwd_zip.extractall(path='estratti/', pwd='indovina')\n",
    "```"
   ]
  },
  {
   "cell_type": "markdown",
   "metadata": {},
   "source": [
    "Come **creare archivi** _zippati_  \n",
    "Per creare un archivio compresso \".zip\" è sufficiente aprire un oggetto ZipFile in modalità`(w)` ed aggiungerci tutti i file che si vuole archiviare."
   ]
  },
  {
   "cell_type": "code",
   "execution_count": null,
   "metadata": {},
   "outputs": [],
   "source": [
    "import zipfile\n",
    "import os\n",
    "\n",
    "os.chdir('file_esempio')\n",
    "\n",
    "da_zippare = ['Do_androids_dream_of_electric_sheep.pdf', 'La_Svastica_Sul_Sole.pdf']\n",
    "with zipfile.ZipFile('new.zip', 'w') as new_zip:\n",
    "     for name in da_zippare:\n",
    "         new_zip.write(name)"
   ]
  },
  {
   "cell_type": "markdown",
   "metadata": {},
   "source": [
    "Se volessimo aggiungere nuovi file all'appena creato 'new.zip' dovremmo aprirlo in modalità `(a)`\n",
    "```\n",
    "with zipfile.ZipFile('new.zip', 'a') as new_zip:\n",
    "     new_zip.write('starwars.txt')\n",
    "     new_zip.write('lafondazione.txt')\n",
    "```\n",
    "\n",
    "Solo un breve accenno agli archivi `.tar` che possono essere manipolati con modalità simili a quanto visto per gli \"zip\" ma richiamando il modulo **`tarfile`**  \n",
    "```\n",
    "import tarfile\n",
    "\n",
    "with tarfile.open('example.tar', 'r') as tar_file:\n",
    "    print(tar_file.getnames())\n",
    "```"
   ]
  },
  {
   "cell_type": "markdown",
   "metadata": {},
   "source": [
    "***"
   ]
  },
  {
   "cell_type": "markdown",
   "metadata": {},
   "source": [
    "### Leggere File\n",
    "Python supporta la lettura di dati da più file contemporaneamente attraverso il modulo `fileinput`.  \n",
    "\n",
    "Questo modulo consente di _ciclare_ nel contenuto di uno o più file di testo facilmente e rapidamente. Di seguito un esempio di come fare:"
   ]
  },
  {
   "cell_type": "code",
   "execution_count": null,
   "metadata": {},
   "outputs": [],
   "source": [
    "#\n",
    "# Per eseguirlo aprire un terminale\n",
    "# e lanciare il programma prova.py con i seguenti argomenti:\n",
    "# \n",
    "#       $ python3 prova.py primo.txt secondo.txt\n",
    "#\n",
    "import fileinput\n",
    "import sys\n",
    "\n",
    "files = fileinput.input()\n",
    "\n",
    "for line in files:\n",
    "    if fileinput.isfirstline():\n",
    "        print(f\"\\n--- Leggo da {fileinput.filename()} ---\")\n",
    "    print(' -> ' + line, end='')\n",
    "print()"
   ]
  },
  {
   "cell_type": "markdown",
   "metadata": {},
   "source": [
    "### File temporanei\n",
    "\n",
    "Esiste anche il modulo `tempfile` per la creazione e gestione di file temporanei. Vedi la [documentazione ufficiale](https://docs.python.org/3.7/library/tempfile.html) "
   ]
  },
  {
   "cell_type": "markdown",
   "metadata": {},
   "source": [
    "***"
   ]
  },
  {
   "cell_type": "markdown",
   "metadata": {},
   "source": [
    "### PULIZIA DIRS TEMPORANEE CREATE"
   ]
  },
  {
   "cell_type": "code",
   "execution_count": 16,
   "metadata": {},
   "outputs": [
    {
     "name": "stdout",
     "output_type": "stream",
     "text": [
      "Dir non esistente\n",
      "Dir non esistente\n",
      "Dir non esistente\n"
     ]
    }
   ],
   "source": [
    "import os\n",
    "\n",
    "try:\n",
    "    os.removedirs('./prima')\n",
    "except FileNotFoundError as exc:\n",
    "    print('Dir non esistente')\n",
    "    \n",
    "try:\n",
    "    os.removedirs('./quarta/quinta/sesta')\n",
    "except FileNotFoundError as exc:\n",
    "    print('Dir non esistente')\n",
    "    \n",
    "try:\n",
    "    os.removedirs('folder_3')\n",
    "except FileNotFoundError as exc:\n",
    "    print('Dir non esistente')"
   ]
  },
  {
   "cell_type": "code",
   "execution_count": null,
   "metadata": {},
   "outputs": [],
   "source": []
  }
 ],
 "metadata": {
  "kernelspec": {
   "display_name": "Python 3",
   "language": "python",
   "name": "python3"
  },
  "language_info": {
   "codemirror_mode": {
    "name": "ipython",
    "version": 3
   },
   "file_extension": ".py",
   "mimetype": "text/x-python",
   "name": "python",
   "nbconvert_exporter": "python",
   "pygments_lexer": "ipython3",
   "version": "3.7.5"
  }
 },
 "nbformat": 4,
 "nbformat_minor": 4
}

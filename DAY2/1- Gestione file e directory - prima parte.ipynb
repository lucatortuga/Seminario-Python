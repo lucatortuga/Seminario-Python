{
 "cells": [
  {
   "cell_type": "markdown",
   "metadata": {},
   "source": [
    "# Gestione file e directory (1^ parte)\n",
    "<sub>(https://realpython.com )</sub>"
   ]
  },
  {
   "cell_type": "markdown",
   "metadata": {},
   "source": [
    "### Leggere e scrivere su file\n",
    "\n",
    "Scrivere e leggere dati su file in Python è abbastanza semplice. Prima di tutto bisogna sempre aprire i file con la modalità appropriata all'operazione da compiere.  \n",
    "\n",
    "Di seguito un esempio di come aprire un file e leggere il suo contenuto con il costrutto **`with open(…) as …`**"
   ]
  },
  {
   "cell_type": "code",
   "execution_count": 1,
   "metadata": {},
   "outputs": [
    {
     "name": "stdout",
     "output_type": "stream",
     "text": [
      "Lorem ipsum dolor sit amet, consectetur adipiscing elit, sed do eiusmod tempor incididunt ut labore et dolore magna aliqua. Ut enim ad minim veniam, quis nostrud exercitation ullamco laboris nisi ut aliquip ex ea commodo consequat. Duis aute irure dolor in reprehenderit in voluptate velit esse cillum dolore eu fugiat nulla pariatur. Excepteur sint occaecat cupidatat non proident, sunt in culpa qui officia deserunt mollit anim id est laborum.\n"
     ]
    }
   ],
   "source": [
    "with open('file_esempio/testo.txt', 'r') as f:\n",
    "    data = f.read()\n",
    "print(data)"
   ]
  },
  {
   "cell_type": "markdown",
   "metadata": {},
   "source": [
    "La funzione **`open()`** prende come argomenti il nome del file e la modalità. **`r`** apre il file in sola _lettura_ . Se volessimo aprirlo in scrittura dovremmo usare la modalità **`w`** "
   ]
  },
  {
   "cell_type": "code",
   "execution_count": 1,
   "metadata": {},
   "outputs": [
    {
     "name": "stdout",
     "output_type": "stream",
     "text": [
      "lucatortuga.com è il mio blog\n"
     ]
    }
   ],
   "source": [
    "with open('file_esempio/nuovo_testo.txt', 'w') as f:\n",
    "    data = 'lucatortuga.com è il mio blog'\n",
    "    f.write(data)\n",
    "with open('file_esempio/nuovo_testo.txt', 'r') as f:\n",
    "    data = f.read()\n",
    "print(data)"
   ]
  },
  {
   "cell_type": "markdown",
   "metadata": {},
   "source": [
    "Negli esempi appena visti la `open()` apre o legge il file creando un oggetto `f` .\n",
    "\n",
    "Altre modalità utilizzabili sono:\n",
    "\n",
    "- `r` Apre il file di testo in lettura.  L'operazione parte dall'inizio del file.\n",
    "- `w` Azzera il contenuto del file se esiste, oppure crea il file di testo in scrittura. L'operazione parte dall'inizio del file.\n",
    "- `a` Apre il file in scrittura. Il file è creato se non esiste.  L'operazione parte dalla fine del file. Le successive scritture saranno sempre appese alla attuale fine file, a prescindere da qualsiasi altra operazione di puntamento(`fseek()` o simili).\n",
    "- `r+` Apre il file di testo in lettura e scrittura.  L'operazione parte dall'inizio del file.\n",
    "- `w+` Apre il file di testo in lettura e scrittura.  Il file è creato se non esiste, altrimenti viene azzerato.  L'operazione parte dall'inizio del file.\n",
    "- `a+` Apre il file in lettura e scrittura. Il file è creato se non esiste.  L'operazione parte dalla fine del file. Le successive scritture saranno sempre appese alla attuale fine file, a prescindere da qualsiasi altra operazione di puntamento(`fseek()` o simili)."
   ]
  },
  {
   "cell_type": "markdown",
   "metadata": {},
   "source": [
    "![modes](img/file_modes.png)"
   ]
  },
  {
   "cell_type": "markdown",
   "metadata": {},
   "source": [
    "Se non si usa il construtto `with` è bene allora richiamare al termine delle operazioni sul file la funzione **`f.close()`**; questa chiude il file ed immediatamente libera tutte le risorse di sistema utilizzate da quest'ultimo."
   ]
  },
  {
   "cell_type": "markdown",
   "metadata": {},
   "source": [
    "***"
   ]
  },
  {
   "cell_type": "markdown",
   "metadata": {},
   "source": [
    "### Ottenere l'elenco di una dir\n",
    "\n",
    "Al fine di ottenere l'elenco del contenuto di una directory ci serviamo del modulo **`os`** che come vedremo è uno dei più utili per interagire con il nostro _file system_ . Questo modulo ha tra le sue funzioni la **`os.scandir()`** che ritorna un oggetto _iterable_ che punta agli indici degli elementi della directory. Vediamo un esempio  \n",
    "\n",
    "- Elenco delle Subdirectories"
   ]
  },
  {
   "cell_type": "code",
   "execution_count": 1,
   "metadata": {},
   "outputs": [
    {
     "data": {
      "text/plain": [
       "posix.ScandirIterator"
      ]
     },
     "execution_count": 1,
     "metadata": {},
     "output_type": "execute_result"
    }
   ],
   "source": [
    "import os\n",
    "indici = os.scandir('./img')\n",
    "type(indici)"
   ]
  },
  {
   "cell_type": "markdown",
   "metadata": {},
   "source": [
    "A questo punto è possibile iterare per vedere il contenuto della directory"
   ]
  },
  {
   "cell_type": "code",
   "execution_count": 4,
   "metadata": {},
   "outputs": [
    {
     "name": "stdout",
     "output_type": "stream",
     "text": [
      "slicing_4.png\n",
      "slicing_2.png\n",
      ".DS_Store\n",
      "04_plot_overview1.svg\n",
      "slicing_3.png\n",
      "slicing_1.png\n",
      "03_subset_columns.svg\n",
      "05_newcolumn_1.svg\n",
      "slicing_0.png\n",
      "08_concat_row1.svg\n",
      "file_modes.png\n",
      "03_subset_rows.svg\n",
      "03_subset_columns_rows1.svg\n"
     ]
    }
   ],
   "source": [
    "import os\n",
    "\n",
    "with os.scandir('./img') as indici:\n",
    "    for idx in indici:\n",
    "        print(idx.name)"
   ]
  },
  {
   "cell_type": "markdown",
   "metadata": {},
   "source": [
    "Qui sopra `os.scandir()` è stata usata insieme al costrutto `with ... as:` ; sotto invece è stata usata all'interno di una _list comprehension_ con ovviamente lo stesso risultato."
   ]
  },
  {
   "cell_type": "code",
   "execution_count": 5,
   "metadata": {},
   "outputs": [
    {
     "name": "stdout",
     "output_type": "stream",
     "text": [
      "[<DirEntry 'slicing_4.png'>, <DirEntry 'slicing_2.png'>, <DirEntry '.DS_Store'>, <DirEntry '04_plot_overview1.svg'>, <DirEntry 'slicing_3.png'>, <DirEntry 'slicing_1.png'>, <DirEntry '03_subset_columns.svg'>, <DirEntry '05_newcolumn_1.svg'>, <DirEntry 'slicing_0.png'>, <DirEntry '08_concat_row1.svg'>, <DirEntry 'file_modes.png'>, <DirEntry '03_subset_rows.svg'>, <DirEntry '03_subset_columns_rows1.svg'>]\n",
      "-----\n",
      "slicing_4.png\n",
      "slicing_2.png\n",
      ".DS_Store\n",
      "04_plot_overview1.svg\n",
      "slicing_3.png\n",
      "slicing_1.png\n",
      "03_subset_columns.svg\n",
      "05_newcolumn_1.svg\n",
      "slicing_0.png\n",
      "08_concat_row1.svg\n",
      "file_modes.png\n",
      "03_subset_rows.svg\n",
      "03_subset_columns_rows1.svg\n"
     ]
    }
   ],
   "source": [
    "lista = [idx for idx in os.scandir('./img')]\n",
    "print(lista)\n",
    "print('-----')\n",
    "for i in range(len(lista)): print(lista[i].name)    "
   ]
  },
  {
   "cell_type": "markdown",
   "metadata": {},
   "source": [
    "### `pathlib`\n",
    "Un altro modo di ottenere l'elenco della directory. "
   ]
  },
  {
   "cell_type": "code",
   "execution_count": 2,
   "metadata": {},
   "outputs": [
    {
     "name": "stdout",
     "output_type": "stream",
     "text": [
      "slicing_4.png\n",
      "slicing_2.png\n",
      ".DS_Store\n",
      "slicing_3.png\n",
      "slicing_1.png\n",
      "slicing_0.png\n",
      "meme.jpg\n",
      "file_modes.png\n"
     ]
    }
   ],
   "source": [
    "from pathlib import Path\n",
    "\n",
    "indici = Path('./img') #crea un oggetto PosixPATH o WindowsPATH(dir(indici)\n",
    "\n",
    "for idx in indici.iterdir():\n",
    "    print(idx.name)"
   ]
  },
  {
   "cell_type": "markdown",
   "metadata": {},
   "source": [
    "Gli oggetti restituiti dal **`Path`** sono _PosixPath_ o _WindowsPath_ a secondo del sistema operativo utilizzato.\n",
    "\n",
    "Gli oggetti della `pathlib.Path()` hanno un metodo `.iterdir()` per creare un iteratore di tutti i file e directory contenuti. Ogni _item_ prodotto dal metodo contiene informazioni sul file o directory(nome, attributi).\n",
    "\n",
    "Nell'esempio sopra si chiama la `pathlib.Path()` alla quale si passa come argomento un _path_ ad una directory (la mia _img_ ). Quindi si richiama il metodo `iterdir()` per ottenere la lista di tutti i file e subdirectory.\n",
    "\n",
    "Il modulo `pathlib` offre molte funzioni per semplificare le più comuni operazioni sui path.\n",
    "Un ulteriore beneficio è la riduzione del numero di moduli da importare per la manipolazione del file system."
   ]
  },
  {
   "cell_type": "markdown",
   "metadata": {},
   "source": [
    "Vediamo ancora qualche esempio"
   ]
  },
  {
   "cell_type": "code",
   "execution_count": 7,
   "metadata": {},
   "outputs": [
    {
     "data": {
      "text/plain": [
       "['__bytes__',\n",
       " '__class__',\n",
       " '__delattr__',\n",
       " '__dir__',\n",
       " '__doc__',\n",
       " '__enter__',\n",
       " '__eq__',\n",
       " '__exit__',\n",
       " '__format__',\n",
       " '__fspath__',\n",
       " '__ge__',\n",
       " '__getattribute__',\n",
       " '__gt__',\n",
       " '__hash__',\n",
       " '__init__',\n",
       " '__init_subclass__',\n",
       " '__le__',\n",
       " '__lt__',\n",
       " '__module__',\n",
       " '__ne__',\n",
       " '__new__',\n",
       " '__reduce__',\n",
       " '__reduce_ex__',\n",
       " '__repr__',\n",
       " '__rtruediv__',\n",
       " '__setattr__',\n",
       " '__sizeof__',\n",
       " '__slots__',\n",
       " '__str__',\n",
       " '__subclasshook__',\n",
       " '__truediv__',\n",
       " '_accessor',\n",
       " '_cached_cparts',\n",
       " '_closed',\n",
       " '_cparts',\n",
       " '_drv',\n",
       " '_format_parsed_parts',\n",
       " '_from_parsed_parts',\n",
       " '_from_parts',\n",
       " '_hash',\n",
       " '_init',\n",
       " '_make_child',\n",
       " '_make_child_relpath',\n",
       " '_opener',\n",
       " '_parse_args',\n",
       " '_parts',\n",
       " '_pparts',\n",
       " '_raise_closed',\n",
       " '_raw_open',\n",
       " '_root',\n",
       " '_str',\n",
       " 'absolute',\n",
       " 'anchor',\n",
       " 'as_posix',\n",
       " 'as_uri',\n",
       " 'chmod',\n",
       " 'cwd',\n",
       " 'drive',\n",
       " 'exists',\n",
       " 'expanduser',\n",
       " 'glob',\n",
       " 'group',\n",
       " 'home',\n",
       " 'is_absolute',\n",
       " 'is_block_device',\n",
       " 'is_char_device',\n",
       " 'is_dir',\n",
       " 'is_fifo',\n",
       " 'is_file',\n",
       " 'is_mount',\n",
       " 'is_reserved',\n",
       " 'is_socket',\n",
       " 'is_symlink',\n",
       " 'iterdir',\n",
       " 'joinpath',\n",
       " 'lchmod',\n",
       " 'lstat',\n",
       " 'match',\n",
       " 'mkdir',\n",
       " 'name',\n",
       " 'open',\n",
       " 'owner',\n",
       " 'parent',\n",
       " 'parents',\n",
       " 'parts',\n",
       " 'read_bytes',\n",
       " 'read_text',\n",
       " 'relative_to',\n",
       " 'rename',\n",
       " 'replace',\n",
       " 'resolve',\n",
       " 'rglob',\n",
       " 'rmdir',\n",
       " 'root',\n",
       " 'samefile',\n",
       " 'stat',\n",
       " 'stem',\n",
       " 'suffix',\n",
       " 'suffixes',\n",
       " 'symlink_to',\n",
       " 'touch',\n",
       " 'unlink',\n",
       " 'with_name',\n",
       " 'with_suffix',\n",
       " 'write_bytes',\n",
       " 'write_text']"
      ]
     },
     "execution_count": 7,
     "metadata": {},
     "output_type": "execute_result"
    }
   ],
   "source": [
    "dir(Path)"
   ]
  },
  {
   "cell_type": "code",
   "execution_count": 4,
   "metadata": {},
   "outputs": [
    {
     "name": "stdout",
     "output_type": "stream",
     "text": [
      "/Users/luca/ownCloud/Seminario Python/DAY2\n",
      "True\n",
      "False\n"
     ]
    }
   ],
   "source": [
    "from pathlib import Path\n",
    "path = Path.cwd()\n",
    "print(path)\n",
    "print((path / 'tmp').is_dir())\n",
    "print((path / '1_0_Intro_OOP.ipynb').is_file())"
   ]
  },
  {
   "cell_type": "markdown",
   "metadata": {},
   "source": [
    "***"
   ]
  },
  {
   "cell_type": "markdown",
   "metadata": {},
   "source": [
    "In Python ci sono diversi modi per ottenere lo stesso risultato, dipende molto dalle proprie abitudini di codifica, dal tipo di problema da risolvere, dal livello di conoscenze del linguaggio.  \n",
    "Quanto visto sopra potrebbe essere fatto anche con il modulo `os.path`"
   ]
  },
  {
   "cell_type": "code",
   "execution_count": 9,
   "metadata": {},
   "outputs": [
    {
     "name": "stdout",
     "output_type": "stream",
     "text": [
      "pluto.py\n",
      "pippo.py\n",
      "hello.txt\n"
     ]
    }
   ],
   "source": [
    "import os\n",
    "\n",
    "basepath = 'tmp/'\n",
    "lista = [idx for idx in os.scandir('./tmp')]\n",
    "for i in range(len(lista)):\n",
    "    if os.path.isfile(os.path.join(basepath, lista[i].name)): \n",
    "        print(lista[i].name)"
   ]
  },
  {
   "cell_type": "markdown",
   "metadata": {},
   "source": [
    "allo stesso modo cambiando `.isfile` con `isdir` andiamo a selezionare solo le directory"
   ]
  },
  {
   "cell_type": "markdown",
   "metadata": {},
   "source": [
    "***"
   ]
  },
  {
   "cell_type": "markdown",
   "metadata": {},
   "source": [
    "### Creare Directory\n",
    "Entrambi i moduli `os` e `pathlib` hanno funzioni per creare le directory:\n",
    "\n",
    "- `os.mkdir()` crea una singola dir\n",
    "- `pathlib.Path.mkdir()` crea una o più dir\n",
    "- `os.makedirs()` crea più dir\n",
    "\n",
    "Vediamo qualche esempio"
   ]
  },
  {
   "cell_type": "code",
   "execution_count": 10,
   "metadata": {},
   "outputs": [],
   "source": [
    "import os\n",
    "\n",
    "os.mkdir('new_dir')"
   ]
  },
  {
   "cell_type": "markdown",
   "metadata": {},
   "source": [
    "Se la dir esiste già l'interprete genera un errore _FileExistsError_"
   ]
  },
  {
   "cell_type": "code",
   "execution_count": 11,
   "metadata": {},
   "outputs": [],
   "source": [
    "# Creare una dir con il modulo pathlib\n",
    "from pathlib import Path\n",
    "\n",
    "p = Path('dir_esempio')\n",
    "p.mkdir()"
   ]
  },
  {
   "cell_type": "markdown",
   "metadata": {},
   "source": [
    "Se la directory esiste e vogliamo evitare l'errore _FileExistsError_ possiamo usare il`try...except`"
   ]
  },
  {
   "cell_type": "code",
   "execution_count": 6,
   "metadata": {},
   "outputs": [
    {
     "name": "stdout",
     "output_type": "stream",
     "text": [
      "[Errno 17] File exists: 'dir_esempio'\n"
     ]
    }
   ],
   "source": [
    "from pathlib import Path\n",
    "\n",
    "p = Path('dir_esempio')\n",
    "try:\n",
    "    p.mkdir()\n",
    "except FileExistsError as exc:\n",
    "    print(exc)"
   ]
  },
  {
   "cell_type": "markdown",
   "metadata": {},
   "source": [
    "Per creare directory multiple:"
   ]
  },
  {
   "cell_type": "code",
   "execution_count": 8,
   "metadata": {},
   "outputs": [
    {
     "ename": "FileExistsError",
     "evalue": "[Errno 17] File exists: './prima/seconda/terza'",
     "output_type": "error",
     "traceback": [
      "\u001b[0;31m---------------------------------------------------------------------------\u001b[0m",
      "\u001b[0;31mFileExistsError\u001b[0m                           Traceback (most recent call last)",
      "\u001b[0;32m<ipython-input-8-bfb82f83faec>\u001b[0m in \u001b[0;36m<module>\u001b[0;34m\u001b[0m\n\u001b[1;32m      1\u001b[0m \u001b[0;32mimport\u001b[0m \u001b[0mos\u001b[0m\u001b[0;34m\u001b[0m\u001b[0;34m\u001b[0m\u001b[0m\n\u001b[1;32m      2\u001b[0m \u001b[0;34m\u001b[0m\u001b[0m\n\u001b[0;32m----> 3\u001b[0;31m \u001b[0mos\u001b[0m\u001b[0;34m.\u001b[0m\u001b[0mmakedirs\u001b[0m\u001b[0;34m(\u001b[0m\u001b[0;34m'./prima/seconda/terza'\u001b[0m\u001b[0;34m)\u001b[0m\u001b[0;34m\u001b[0m\u001b[0;34m\u001b[0m\u001b[0m\n\u001b[0m",
      "\u001b[0;32m~/opt/anaconda3/lib/python3.7/os.py\u001b[0m in \u001b[0;36mmakedirs\u001b[0;34m(name, mode, exist_ok)\u001b[0m\n\u001b[1;32m    219\u001b[0m             \u001b[0;32mreturn\u001b[0m\u001b[0;34m\u001b[0m\u001b[0;34m\u001b[0m\u001b[0m\n\u001b[1;32m    220\u001b[0m     \u001b[0;32mtry\u001b[0m\u001b[0;34m:\u001b[0m\u001b[0;34m\u001b[0m\u001b[0;34m\u001b[0m\u001b[0m\n\u001b[0;32m--> 221\u001b[0;31m         \u001b[0mmkdir\u001b[0m\u001b[0;34m(\u001b[0m\u001b[0mname\u001b[0m\u001b[0;34m,\u001b[0m \u001b[0mmode\u001b[0m\u001b[0;34m)\u001b[0m\u001b[0;34m\u001b[0m\u001b[0;34m\u001b[0m\u001b[0m\n\u001b[0m\u001b[1;32m    222\u001b[0m     \u001b[0;32mexcept\u001b[0m \u001b[0mOSError\u001b[0m\u001b[0;34m:\u001b[0m\u001b[0;34m\u001b[0m\u001b[0;34m\u001b[0m\u001b[0m\n\u001b[1;32m    223\u001b[0m         \u001b[0;31m# Cannot rely on checking for EEXIST, since the operating system\u001b[0m\u001b[0;34m\u001b[0m\u001b[0;34m\u001b[0m\u001b[0;34m\u001b[0m\u001b[0m\n",
      "\u001b[0;31mFileExistsError\u001b[0m: [Errno 17] File exists: './prima/seconda/terza'"
     ]
    }
   ],
   "source": [
    "import os\n",
    "\n",
    "os.makedirs('./prima/seconda/terza')"
   ]
  },
  {
   "cell_type": "code",
   "execution_count": 9,
   "metadata": {},
   "outputs": [],
   "source": [
    "import pathlib\n",
    "\n",
    "p = pathlib.Path('./quarta/quinta/sesta')\n",
    "p.mkdir(parents=True) #crea le  dir parenti necessarie a completare il path"
   ]
  },
  {
   "cell_type": "markdown",
   "metadata": {},
   "source": [
    "***"
   ]
  },
  {
   "cell_type": "markdown",
   "metadata": {},
   "source": [
    "***"
   ]
  },
  {
   "cell_type": "markdown",
   "metadata": {},
   "source": [
    "### PULIZIA DIRS TEMPORANEE CREATE"
   ]
  },
  {
   "cell_type": "code",
   "execution_count": 16,
   "metadata": {},
   "outputs": [
    {
     "ename": "OSError",
     "evalue": "[Errno 66] Directory not empty: './prima'",
     "output_type": "error",
     "traceback": [
      "\u001b[0;31m---------------------------------------------------------------------------\u001b[0m",
      "\u001b[0;31mOSError\u001b[0m                                   Traceback (most recent call last)",
      "\u001b[0;32m<ipython-input-16-dc9e0b53bef6>\u001b[0m in \u001b[0;36m<module>\u001b[0;34m\u001b[0m\n\u001b[1;32m      1\u001b[0m \u001b[0;32mimport\u001b[0m \u001b[0mos\u001b[0m\u001b[0;34m\u001b[0m\u001b[0;34m\u001b[0m\u001b[0m\n\u001b[1;32m      2\u001b[0m \u001b[0;32mtry\u001b[0m\u001b[0;34m:\u001b[0m\u001b[0;34m\u001b[0m\u001b[0;34m\u001b[0m\u001b[0m\n\u001b[0;32m----> 3\u001b[0;31m     \u001b[0mos\u001b[0m\u001b[0;34m.\u001b[0m\u001b[0mremovedirs\u001b[0m\u001b[0;34m(\u001b[0m\u001b[0;34m'./prima'\u001b[0m\u001b[0;34m)\u001b[0m\u001b[0;34m\u001b[0m\u001b[0;34m\u001b[0m\u001b[0m\n\u001b[0m\u001b[1;32m      4\u001b[0m \u001b[0;32mexcept\u001b[0m \u001b[0mFileNotFoundError\u001b[0m \u001b[0;32mas\u001b[0m \u001b[0mexc\u001b[0m\u001b[0;34m:\u001b[0m\u001b[0;34m\u001b[0m\u001b[0;34m\u001b[0m\u001b[0m\n\u001b[1;32m      5\u001b[0m     \u001b[0mprint\u001b[0m\u001b[0;34m(\u001b[0m\u001b[0;34m'Dir non esistente'\u001b[0m\u001b[0;34m)\u001b[0m\u001b[0;34m\u001b[0m\u001b[0;34m\u001b[0m\u001b[0m\n",
      "\u001b[0;32m~/opt/anaconda3/lib/python3.7/os.py\u001b[0m in \u001b[0;36mremovedirs\u001b[0;34m(name)\u001b[0m\n\u001b[1;32m    237\u001b[0m \u001b[0;34m\u001b[0m\u001b[0m\n\u001b[1;32m    238\u001b[0m     \"\"\"\n\u001b[0;32m--> 239\u001b[0;31m     \u001b[0mrmdir\u001b[0m\u001b[0;34m(\u001b[0m\u001b[0mname\u001b[0m\u001b[0;34m)\u001b[0m\u001b[0;34m\u001b[0m\u001b[0;34m\u001b[0m\u001b[0m\n\u001b[0m\u001b[1;32m    240\u001b[0m     \u001b[0mhead\u001b[0m\u001b[0;34m,\u001b[0m \u001b[0mtail\u001b[0m \u001b[0;34m=\u001b[0m \u001b[0mpath\u001b[0m\u001b[0;34m.\u001b[0m\u001b[0msplit\u001b[0m\u001b[0;34m(\u001b[0m\u001b[0mname\u001b[0m\u001b[0;34m)\u001b[0m\u001b[0;34m\u001b[0m\u001b[0;34m\u001b[0m\u001b[0m\n\u001b[1;32m    241\u001b[0m     \u001b[0;32mif\u001b[0m \u001b[0;32mnot\u001b[0m \u001b[0mtail\u001b[0m\u001b[0;34m:\u001b[0m\u001b[0;34m\u001b[0m\u001b[0;34m\u001b[0m\u001b[0m\n",
      "\u001b[0;31mOSError\u001b[0m: [Errno 66] Directory not empty: './prima'"
     ]
    }
   ],
   "source": [
    "import os\n",
    "import shutil\n",
    "try:\n",
    "    #os.removedirs('./prima')\n",
    "    shutil.rmtree('./prima')\n",
    "except FileNotFoundError as exc:\n",
    "    print('Dir non esistente')\n",
    "    \n",
    "try:\n",
    "    os.removedirs('./quarta/quinta/sesta')\n",
    "except FileNotFoundError as exc:\n",
    "    print('Dir non esistente')\n",
    "try:\n",
    "    os.rmdir('./new_dir')\n",
    "except FileNotFoundError as exc:\n",
    "    print('Dir non esistente')\n",
    "try:\n",
    "    os.rmdir('./dir_esempio')\n",
    "except FileNotFoundError as exc:\n",
    "    print('Dir non esistente')"
   ]
  },
  {
   "cell_type": "code",
   "execution_count": null,
   "metadata": {},
   "outputs": [],
   "source": []
  }
 ],
 "metadata": {
  "kernelspec": {
   "display_name": "Python 3",
   "language": "python",
   "name": "python3"
  },
  "language_info": {
   "codemirror_mode": {
    "name": "ipython",
    "version": 3
   },
   "file_extension": ".py",
   "mimetype": "text/x-python",
   "name": "python",
   "nbconvert_exporter": "python",
   "pygments_lexer": "ipython3",
   "version": "3.7.5"
  }
 },
 "nbformat": 4,
 "nbformat_minor": 4
}

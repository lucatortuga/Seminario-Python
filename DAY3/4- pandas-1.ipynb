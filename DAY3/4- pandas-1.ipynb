{
 "cells": [
  {
   "cell_type": "markdown",
   "metadata": {},
   "source": [
    "# `Pandas`\n",
    "### [pandas.pydata.org](https://pandas.pydata.org/)\n",
    "<sub>([Getting Started](https://pandas.pydata.org/docs/getting_started/intro_tutorials/index.html) della documentazione ufficiale)</sub>"
   ]
  },
  {
   "cell_type": "markdown",
   "metadata": {},
   "source": [
    "`Pandas` è una libreria software scritta per Python per la manipolazione e l'analisi dei dati.  \n",
    "In particolare, offre strutture dati e operazioni per manipolare tabelle\n",
    "numeriche e serie temporali.  \n",
    "È un software libero, come tutto quello visto finora, rilasciato sotto la licenza BSD.  \n",
    "Il nome deriva dal termine \"panel data\", termine econometrico per set di \n",
    "dati che include osservazioni su più periodi di tempo per gli stessi individui."
   ]
  },
  {
   "cell_type": "markdown",
   "metadata": {},
   "source": [
    "**Caratteristiche** principali di `Pandas` sono:\n",
    "\n",
    "- **Caricamento** e **salvataggio** di formati standard per dati tabellari, quali CSV (Comma-separated Values), TSV (Tab-separated Values), file Excel e formati per database\n",
    "- Semplicità nella esecuzione di operazioni di **indicizzazione** e **aggregazione** di dati\n",
    "- Semplicità nella esecuzione di operazioni **numeriche** e **statistiche**\n",
    "- Semplicità nella **visualizzazione** dei risultati delle operazioni"
   ]
  },
  {
   "cell_type": "markdown",
   "metadata": {},
   "source": [
    "Come per tutti gli altri moduli e librerie anche Pandas si importa in Python con la sintassi:"
   ]
  },
  {
   "cell_type": "code",
   "execution_count": null,
   "metadata": {},
   "outputs": [],
   "source": [
    "import pandas as pd"
   ]
  },
  {
   "cell_type": "markdown",
   "metadata": {},
   "source": [
    "anche in questo caso per comodità usiamo un _alias_ ,`pd`, per semplificare la scrittura del codice."
   ]
  },
  {
   "cell_type": "markdown",
   "metadata": {},
   "source": [
    "### Pandas Datatypes\n",
    "\n",
    "Principalmente esistono due tipi di dati in `pandas` le _Series_ ed i _DataFrame_ :\n",
    "\n",
    "- **`Series`** rappresenta dati 1D, come le serie temporali\n",
    "- **`DataFrame`** rappresenta dati 2D, praticamente qualunque insieme di dati in forma tabellare\n",
    "Ogni colonna di un DataFrame è una Series."
   ]
  },
  {
   "cell_type": "markdown",
   "metadata": {},
   "source": [
    "## `DataFrame`  \n",
    "\n",
    "Un `DataFrame` è una struttura dati bi-dimensionale che può memorizzare diversi tipi(stringhe, interi, valori floating, categorie, etc.) in colonne. E' praticamente simile ad un foglio di calcolo o una tabella SQL.  \n",
    "Da un punto di vista 'visivo' l'_output_ di un `DataFrame` (in un Jupyter Notebook) appare come una ordinaria tabella di dati in righe e colonne; ma sotto questa apparenza, ci sono tre elementi, **`index`**, **`columns`** e **`values`** da tenere presenti per sfruttare al massimo le potenzialità di un `DataFrame`  \n",
    "![dataframe](img/01_table_dataframe1.svg)"
   ]
  },
  {
   "cell_type": "code",
   "execution_count": null,
   "metadata": {},
   "outputs": [],
   "source": [
    "df = pd.DataFrame({\n",
    "     \"Name\": [\"Mr. James, Tiberius, Kirk\",\n",
    "     \"Mr. S'chn T'gai Spock\",\n",
    "     \"Miss. Nyota Uhura\", \"Mr. Hikaru Sulu\", \"Dott. Leonard \\\"Bones\\\" McCoy\"],\n",
    "     \"Year of Birth\": [2233, 2230, 2239, 2238, 2234],\n",
    "     \"Age\": [38,41,32,33,37],\n",
    "     \"Sex\": [\"male\", \"male\", \"female\", \"male\", \"male\"]}\n",
    ")"
   ]
  },
  {
   "cell_type": "markdown",
   "metadata": {},
   "source": [
    "Sopra abbiamo creato un `DataFrame` partendo da un dizionario dove le chiavi sono gli _header_ delle colonne, ed i valori delle liste, righe del `DataFrame`"
   ]
  },
  {
   "cell_type": "code",
   "execution_count": null,
   "metadata": {},
   "outputs": [],
   "source": [
    "df = pd.read_csv('esempi/dataset/star_trek.csv')"
   ]
  },
  {
   "cell_type": "code",
   "execution_count": null,
   "metadata": {},
   "outputs": [],
   "source": [
    "df"
   ]
  },
  {
   "cell_type": "markdown",
   "metadata": {},
   "source": [
    "- La tabella ha tre colonne con le loro _label_.\n",
    "- La colonna \"Name\" contiene stringhe; le colonne \"Year of Birth\" e \"Age\" contengono numeri interi e l'ultima \"Sex\" contiene sempre stringhe"
   ]
  },
  {
   "cell_type": "markdown",
   "metadata": {},
   "source": [
    "### Ogni colonna in un `DataFrame` è una `Series`\n",
    "![serie](img/01_table_series.svg)"
   ]
  },
  {
   "cell_type": "markdown",
   "metadata": {},
   "source": [
    "### `Series`\n",
    "Una `Series` è un vettore mono-dimensionale i cui elementi sono etichettati con un `index`.\n",
    "\n",
    "In questo senso, la `Series` opera un po' come una lista (si possono accedere gli elementi in sequenza) e un po' come un dizionario (si può accedere ad un elemento tramite il suo indice, che opera come una chiave e non deve essere per forza numerico)"
   ]
  },
  {
   "cell_type": "markdown",
   "metadata": {},
   "source": [
    "Se per esempio voglio lavorare con i dati della colonna **Year of Birth**"
   ]
  },
  {
   "cell_type": "code",
   "execution_count": null,
   "metadata": {},
   "outputs": [],
   "source": [
    "df[\"Year of Birth\"]"
   ]
  },
  {
   "cell_type": "markdown",
   "metadata": {},
   "source": [
    "Selezionando una singola colonna di un `Dataframe`, il risultato è una _pandas_ `Series`. La selezione di una colonna si ottiene richiamando la _label_ della colonna tra parentesi quadre`[]`"
   ]
  },
  {
   "cell_type": "markdown",
   "metadata": {},
   "source": [
    "**Creazione di Series**  \n",
    "Una `Series` può essere creata tramite la funzione `pd.Series()`:\n",
    "\n",
    "- Specificando sia dati che indici"
   ]
  },
  {
   "cell_type": "code",
   "execution_count": null,
   "metadata": {},
   "outputs": [],
   "source": [
    "Ages = pd.Series([38,41,32],index=[\"Kirk\",\"Spock\",\"Uhura\"])\n",
    "Ages"
   ]
  },
  {
   "cell_type": "markdown",
   "metadata": {},
   "source": [
    "_(N.d.R. Le date e le età si riferiscono al primo film STAR TREK - THE MOVIE ambientato nella data astrale 2271)_"
   ]
  },
  {
   "cell_type": "markdown",
   "metadata": {},
   "source": [
    "- Passando un dizionario (le chiavi diventano gli indici e i valori i dati)"
   ]
  },
  {
   "cell_type": "code",
   "execution_count": null,
   "metadata": {},
   "outputs": [],
   "source": [
    "Grado = pd.Series({\"Kirk\": \"Cpt.\", \"Spock\": \"Lt. Cmdr.\", \"Uhura\" : \"Lt.\", \"Sulu\": \"Lt.\", \"McCoy\": \"Lt. Cmdr.\", \"Montgomery\": \"Lt. Cmdr.\", \"Chekov\": \"Ens.\", \"Chapel\": \"Lt.\"})\n",
    "print(Grado)"
   ]
  },
  {
   "cell_type": "code",
   "execution_count": null,
   "metadata": {},
   "outputs": [],
   "source": [
    "type(Grado)"
   ]
  },
  {
   "cell_type": "code",
   "execution_count": null,
   "metadata": {},
   "outputs": [],
   "source": [
    "#Aggiunta di una colonna al DataFrame\n",
    "df['Rank'] = Grado.values"
   ]
  },
  {
   "cell_type": "code",
   "execution_count": null,
   "metadata": {},
   "outputs": [],
   "source": [
    "df"
   ]
  },
  {
   "cell_type": "markdown",
   "metadata": {},
   "source": [
    "Una `Series` a differenza del `DataFrame` non ha _label_ di colonna ma _label_ di riga. "
   ]
  },
  {
   "cell_type": "markdown",
   "metadata": {},
   "source": [
    "**Proviamo** ora a fare qualcosa con i `DataFrame` o le `Series`"
   ]
  },
  {
   "cell_type": "markdown",
   "metadata": {},
   "source": [
    "Per sapere l'età massima dei membri dell'Enterprise...  \n",
    "Possiamo scoprirlo selezionando la colonna \"Age\" e applicando il metodo `max()`"
   ]
  },
  {
   "cell_type": "code",
   "execution_count": null,
   "metadata": {},
   "outputs": [],
   "source": [
    "df[\"Age\"].max()"
   ]
  },
  {
   "cell_type": "markdown",
   "metadata": {},
   "source": [
    "o sulla `Series`:"
   ]
  },
  {
   "cell_type": "code",
   "execution_count": null,
   "metadata": {},
   "outputs": [],
   "source": [
    "Ages.max()"
   ]
  },
  {
   "cell_type": "markdown",
   "metadata": {},
   "source": [
    "Come visto per il metodo `max()`, si possono fare diverse cose sui `DataFrame` e sulle `Series`.  \n",
    "`pandas` fornisce molte funzionalità, che possono essere applicate come metodi sia ai `DataFrame` che alle `Series`. In quanto `metodi` non dimentichiamo che sono di fatto funzioni e quindi devono avere sempre le parentesi tonde `()`."
   ]
  },
  {
   "cell_type": "markdown",
   "metadata": {},
   "source": [
    "Per avere \"on the fly\" qualche statistica di base sul nostro `DataFrame`"
   ]
  },
  {
   "cell_type": "code",
   "execution_count": null,
   "metadata": {},
   "outputs": [],
   "source": [
    "df.describe()"
   ]
  },
  {
   "cell_type": "markdown",
   "metadata": {},
   "source": [
    "Il metodo `describe()` offre una rapida panoramica dei dati numerici contenuti nel `DataFrame`. Poichè \"Name\" e \"Sex\" sono colonne di dati testuali, non sono state prese in considerazione dal metodo."
   ]
  },
  {
   "cell_type": "markdown",
   "metadata": {},
   "source": [
    "Molte delle operazioni sui `DataFrame` e sulle `Series` come visto già per il `describe()` ritornano di fatto un altro _dataframe_ o un'altra _series_ ."
   ]
  },
  {
   "cell_type": "markdown",
   "metadata": {},
   "source": [
    "### Leggere e scrivere dati tabellari in `Pandas`\n",
    "\n",
    "![lettura](img/02_io_readwrite1.svg)"
   ]
  },
  {
   "cell_type": "markdown",
   "metadata": {},
   "source": [
    "Come si vede dall'immagine `Pandas` è in grado di importare dati da molti formati: \n",
    "\n",
    "- csv\n",
    "- xlsx, xls\n",
    "- html, xml, json\n",
    "- hdf5\n",
    "- Sql, etc.\n",
    "\n",
    "e può esportare in altrettanti formati.  \n",
    "Vediamo ora con quali metodi e funzioni possiamo fare."
   ]
  },
  {
   "cell_type": "markdown",
   "metadata": {},
   "source": [
    "### Leggere dati \n",
    "Per esempio leggiamo i dati di un _dataset_ contentente titoli di film e loro genere, in formato _csv_ (oltre 9000 titoli): "
   ]
  },
  {
   "cell_type": "code",
   "execution_count": null,
   "metadata": {},
   "outputs": [],
   "source": [
    "import pandas as pd"
   ]
  },
  {
   "cell_type": "code",
   "execution_count": null,
   "metadata": {},
   "outputs": [],
   "source": [
    "movies = pd.read_csv('esempi/dataset/movies_mod.csv') #contiene dei NaN"
   ]
  },
  {
   "cell_type": "markdown",
   "metadata": {},
   "source": [
    "`Pandas` mette a disposizione la funzione `read_csv()` per **leggere** i dati dei file _csv_ e memorizzarli in `DataFrame`. Per gli altri formati è facile immaginare che la funzione corretta sarà `read_*`(dove * sarà di volta in volta 'excel', 'hdf', 'html', etc.)"
   ]
  },
  {
   "cell_type": "markdown",
   "metadata": {},
   "source": [
    "Dopo aver importato dei dati, controllate sempre che siano stati importati correttamente. Visualizzando un `DataFrame` vedremo sempre le prime e le ultime 5 righe "
   ]
  },
  {
   "cell_type": "code",
   "execution_count": null,
   "metadata": {},
   "outputs": [],
   "source": [
    "movies"
   ]
  },
  {
   "cell_type": "markdown",
   "metadata": {},
   "source": [
    "- Per visualizzare solo le prime 5 righe"
   ]
  },
  {
   "cell_type": "code",
   "execution_count": null,
   "metadata": {},
   "outputs": [],
   "source": [
    "movies.head()"
   ]
  },
  {
   "cell_type": "markdown",
   "metadata": {},
   "source": [
    "- le ultime 5"
   ]
  },
  {
   "cell_type": "code",
   "execution_count": null,
   "metadata": {},
   "outputs": [],
   "source": [
    "movies.tail()"
   ]
  },
  {
   "cell_type": "markdown",
   "metadata": {},
   "source": [
    "le due funzioni `head()` e `tail()` prendono anche come argomento un intero rapresentante il numero di righe da visualizzare.  \n",
    "Spesso il `DataFrame` creato è molto lungo e nei Jupyter Notebook viene sintetizzato con dei '...'"
   ]
  },
  {
   "cell_type": "markdown",
   "metadata": {},
   "source": [
    "Per vederlo completo possiamo aggiustare le opzioni di visualizzazione:\n",
    "\n",
    "- display.max_columns `pd.set_option('max_columns', None)`\n",
    "- display.max_rows `pd.set_option(\"max_rows\", None)`\n",
    "\n",
    "il valore `None` permette di vedere tutte le colonne o le righe, ma può essere sostituito anche da un numero intero `pd.set_option(\"max_rows\", 100)` (per vedere solo 100 righe)"
   ]
  },
  {
   "cell_type": "code",
   "execution_count": null,
   "metadata": {},
   "outputs": [],
   "source": [
    "pd.set_option(\"max_rows\", None)"
   ]
  },
  {
   "cell_type": "code",
   "execution_count": null,
   "metadata": {},
   "outputs": [],
   "source": [
    "movies"
   ]
  },
  {
   "cell_type": "code",
   "execution_count": null,
   "metadata": {},
   "outputs": [],
   "source": [
    "pd.reset_option(\"max_rows\") # ripristina il default"
   ]
  },
  {
   "cell_type": "code",
   "execution_count": null,
   "metadata": {},
   "outputs": [],
   "source": [
    "movies"
   ]
  },
  {
   "cell_type": "markdown",
   "metadata": {},
   "source": [
    "Per vedere che tipi di dati `Pandas` ha importato possiamo farlo con"
   ]
  },
  {
   "cell_type": "code",
   "execution_count": null,
   "metadata": {},
   "outputs": [],
   "source": [
    "movies.dtypes"
   ]
  },
  {
   "cell_type": "code",
   "execution_count": null,
   "metadata": {
    "scrolled": true
   },
   "outputs": [],
   "source": [
    "movies.info() # fornisce dati più tecnici sul dataframe"
   ]
  },
  {
   "cell_type": "markdown",
   "metadata": {},
   "source": [
    ">come si vede i valori buoni sono 9742! Quattro righe di valori NaN sono state escluse."
   ]
  },
  {
   "cell_type": "markdown",
   "metadata": {},
   "source": [
    "### Scrivere dati\n",
    "Finora abbiamo visto come leggere dati tabellari con le funzioni `read_*`, parallelamente per esportare i dati, esistono  le funzioni **`to_*`**. Quindi se voglio scrivere un file Excel userò la funzione `to_excel()` oppure per esportare in _html_ potrò usare la funzione `to_html()`. Vediamo come creare il file dei film in format per Excel:"
   ]
  },
  {
   "cell_type": "code",
   "execution_count": null,
   "metadata": {},
   "outputs": [],
   "source": [
    "movies.to_excel('esempi/dataset/movies.xlsx', index=False)"
   ]
  },
  {
   "cell_type": "markdown",
   "metadata": {},
   "source": [
    "Nell'esempio sopra abbiamo passato anche il parametro `index=False` per non salvare le etichette degli indici."
   ]
  }
 ],
 "metadata": {
  "kernelspec": {
   "display_name": "Python 3",
   "language": "python",
   "name": "python3"
  },
  "language_info": {
   "codemirror_mode": {
    "name": "ipython",
    "version": 3
   },
   "file_extension": ".py",
   "mimetype": "text/x-python",
   "name": "python",
   "nbconvert_exporter": "python",
   "pygments_lexer": "ipython3",
   "version": "3.7.5"
  }
 },
 "nbformat": 4,
 "nbformat_minor": 4
}

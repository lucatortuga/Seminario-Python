{
 "cells": [
  {
   "cell_type": "markdown",
   "metadata": {},
   "source": [
    "## PRIMI PASSI(3): La console interattiva\n",
    "<sub>(https://assets.digitalocean.com/books/python/how-to-code-in-python.pdf )</sub>)"
   ]
  },
  {
   "cell_type": "markdown",
   "metadata": {},
   "source": [
    "Python è un linguaggio molto flessibile e ci sono diversi modi per usarlo a seconda di ciò che si vuole o deve fare.\n",
    "Come detto è un linguaggio interpretato e quindi non necessita di compilazione, ciò significa che viene eseguito linea per linea, permettendoci così di lavorare, se vogliamo, interattivamente. "
   ]
  },
  {
   "cell_type": "markdown",
   "metadata": {},
   "source": [
    "Il modo più semplice ed anche più \"basic\"(senza troppi aiuti come invece vedremo in seguito) è\n",
    "utilizzando l'interprete Python direttamente dal terminale o prompt di comandi.\n",
    "\n",
    "Per avviare una sessione interattiva, anche conosciuta come **Python REPL**(Read Execute Print Loop), aprire appunto un terminale o prompt di comandi e digitare **python**, o **python3** a secondo della vostra versione installata.\n",
    "- In Linux o Mac OSX\n",
    "![Lancio](img/lancio_python.jpg)\n",
    "\n",
    "\n",
    "- In Windows, la linea di comandi è generalmente conosciuta come \"command prompt\" o \"MS-DOS console\", ed è richiamata dal programma **cmd.exe**. Il _path_ a questo programma può variare significativamente da versione a versione. Un modo rapido per trovarlo e lanciarlo è premendo la combinazione di tasti **Win+R**, che aprirà il dialog box \"Run\". Da qui è quindi possibile digitare _**cmd**_ e premere **Enter**"
   ]
  },
  {
   "cell_type": "markdown",
   "metadata": {},
   "source": [
    "Il prompt principale dell'interprete Python è il simbolo `>>>`\n",
    "Una volta all'interno della console si può iniziare a lavorare con le funzioni Python."
   ]
  },
  {
   "cell_type": "markdown",
   "metadata": {},
   "source": [
    "#### Di seguito vediamo l'interprete usato come una semplice calcolatrice"
   ]
  },
  {
   "cell_type": "markdown",
   "metadata": {},
   "source": [
    "```python\n",
    ">>> 1+1\n",
    "2\n",
    ">>> x = 5\n",
    ">>> y = 3\n",
    ">>> z = x * y\n",
    ">>> print(z)\n",
    "15\n",
    "```"
   ]
  },
  {
   "cell_type": "markdown",
   "metadata": {},
   "source": [
    "Nella prima linea usiamo l'interprete come una semplice calcolatrice.\n",
    "\n",
    "Si possono poi assegnare valori alle **variabili**\n",
    "```x = 5``` \n",
    "e quindi eseguire operazioni matematiche per fare calcoli:\n",
    "```x * y``` e stampare la variabile che contiene il valore calcolato ```print(z)```"
   ]
  },
  {
   "cell_type": "markdown",
   "metadata": {},
   "source": [
    "#### Linee multiple####\n",
    "Se si scrivono più linee allora l'interprete usa un prompt secondario `...`\n",
    "(Per interrompere premere\"ENTER\")\n",
    "come nell'esempio di seguito"
   ]
  },
  {
   "cell_type": "markdown",
   "metadata": {},
   "source": [
    "```\n",
    ">>>luca = \"Luca\"\n",
    ">>>tortuga = \"Tortuga\"\n",
    ">>>if len(luca) > len(tortuga):\n",
    "...    print(\"Luca programma in boh!\")\n",
    "...else:\n",
    "...    print(\"Luca programma in Python.\")\n",
    "Luca programma in Python.\n",
    ">>>\n",
    "```"
   ]
  },
  {
   "cell_type": "markdown",
   "metadata": {},
   "source": [
    "L'interprete rende semplice provare piccoli pezzi di codice, magari parte di un programma più complesso. **Ma attenzione perchè in Python è obbligatorio \"indentare\" correttamente!** Altrimenti l'inteprete ritorna un errore\n",
    "```\n",
    ">>>if len(luca) > len(tortuga):\n",
    "...print(\"Luca programma in boh!\")\n",
    "    File \"<stdin>\", line 2\n",
    "    print(\"Luca programma in boh!\")\n",
    "        ^\n",
    "IndentationError: expected an indented block\n",
    ">>>\n",
    "```"
   ]
  },
  {
   "cell_type": "markdown",
   "metadata": {},
   "source": [
    "## !!!A proposito di Indentazione!!!## \n",
    "\n",
    ">Python segue una convenzione sintattica conosciuta come la \"**regola dell'off-side**\"(fuorigioco), termine ereditato dal linguaggio calcistico e coniato dallo scienziato informatico inglese Peter J. Landin. I linguaggi che aderiscono ed utilizzano la \"regola del fuorigioco\" definiscono i blocchi di codice attraverso l'indentazione. Python appartiene ad una stretta [cerchia di questi linguaggi](https://en.wikipedia.org/wiki/Off-side_rule#Off-side_rule_languages) tra i quali _Haskell_, _Scheme_, etc.."
   ]
  },
  {
   "cell_type": "markdown",
   "metadata": {},
   "source": [
    "Quindi un test condizionale ```if``` in Python è così strutturato:"
   ]
  },
  {
   "cell_type": "code",
   "execution_count": 2,
   "metadata": {
    "tags": [
     "\"hide_output\"",
     "hide_input"
    ]
   },
   "outputs": [
    {
     "name": "stdout",
     "output_type": "stream",
     "text": [
      "5\n",
      "Qui sono fuori dal blocco 'if'\n"
     ]
    }
   ],
   "source": [
    "if True:\n",
    "    x = 2\n",
    "    y = 3\n",
    "    z = x + y\n",
    "    print(z)\n",
    "print('Qui sono fuori dal blocco \\'if\\'')"
   ]
  },
  {
   "cell_type": "markdown",
   "metadata": {},
   "source": [
    "Nel semplice codice sopra, tutti le operazioni che si trovano al livello indentato tra la linea 2 e la 5, sono considerate come parte dello stesso blocco. L'intero blocco viene eseguito se ```if <expr>``` è vera(nel nostro caso lo è!), oppure l'intero blocco viene saltato se la condizione risulta falsa, passando direttamente ad elaborare la linea numero 6."
   ]
  },
  {
   "cell_type": "markdown",
   "metadata": {},
   "source": [
    "![indentazione](img/if.png)"
   ]
  },
  {
   "cell_type": "markdown",
   "metadata": {},
   "source": [
    "### Come indentare? ###\n",
    "**Devo usare gli spazi o le tabulazioni?**  \n",
    "La risposta la troviamo della **PEP 8: Style Guide for Python Code**\n",
    "> **Spaces** are the preferred indentation method. Tabs should be used solely to remain consistent with code that is already indented with tabs. Python 3 disallows mixing the use of tabs and spaces for indentation.\n",
    "\n",
    "(PEP = Python Enhancement Proposal)"
   ]
  },
  {
   "cell_type": "markdown",
   "metadata": {},
   "source": [
    "***"
   ]
  },
  {
   "cell_type": "markdown",
   "metadata": {},
   "source": [
    "**!!** Se l'interprete è il vostro mezzo principale per _giocare_ con Python allora troverete molto più ricco l'interprete chiamato **IPython** (**Interactive Python** Questo è uno dei strumenti già presenti con la distribuzione Anaconda). Una shell interattiva in stile MATLAB\n",
    "\n",
    "Si avvia digitando da terminale o prompt comandi **ipython**\n",
    "\n",
    "![ipython](./img/ipython.jpg)"
   ]
  },
  {
   "cell_type": "markdown",
   "metadata": {},
   "source": [
    "***"
   ]
  },
  {
   "cell_type": "markdown",
   "metadata": {},
   "source": [
    "\n",
    "#### I programmi ed i moduli Python sono scritti come file testo ed hanno come estensione **.py** ####\n",
    "Potrete trovare altre estensioni tipo **.pyc** (sono file python già interpretati che servono a rendere più veloce l'esecuzione)"
   ]
  },
  {
   "cell_type": "markdown",
   "metadata": {},
   "source": [
    "#### Programmi e moduli si differenziano fra loro solo per come vengono chiamati: \n",
    "un \".py\" eseguito direttamente\n",
    "####    è un programma\n",
    "se richiamato con `import`\n",
    "#### è un modulo ###"
   ]
  },
  {
   "cell_type": "markdown",
   "metadata": {},
   "source": [
    "***"
   ]
  },
  {
   "cell_type": "markdown",
   "metadata": {},
   "source": [
    "In una console Python, quindi si può non solo digitare linee singole o multiple di codice ma anche importare moduli.\n",
    "**Vediamo come**"
   ]
  },
  {
   "cell_type": "markdown",
   "metadata": {},
   "source": [
    "### Come importare i moduli ###"
   ]
  },
  {
   "cell_type": "markdown",
   "metadata": {},
   "source": [
    "```\n",
    ">>>import os\n",
    ">>>print(os.getcwd())\n",
    "```\n",
    "![console](img/import-os.png)"
   ]
  },
  {
   "cell_type": "markdown",
   "metadata": {},
   "source": [
    "```\n",
    ">>>from math import pi\n",
    "\n",
    ">>>def getCirc(rad):\n",
    "...  return 2*(pi*(rad ** 2))\n",
    "\n",
    "'''Print circonferenza '''\n",
    "\n",
    "print(getCirc(20))\n",
    "```"
   ]
  },
  {
   "cell_type": "markdown",
   "metadata": {},
   "source": [
    "Per uscire dalla console Python esistono due modi:\n",
    "\n",
    "- **1** ```CTRL +D``` sui sistemi \\*nix-based (macOS - Linux); oppure ```CTRL +Z``` e ```CTRL``` in Windows\n",
    "\n",
    "- **2** nella console Python digitare la funzione \"quit()\"\n",
    "    ```>>>quit()```"
   ]
  }
 ],
 "metadata": {
  "kernelspec": {
   "display_name": "Python 3",
   "language": "python",
   "name": "python3"
  },
  "language_info": {
   "codemirror_mode": {
    "name": "ipython",
    "version": 3
   },
   "file_extension": ".py",
   "mimetype": "text/x-python",
   "name": "python",
   "nbconvert_exporter": "python",
   "pygments_lexer": "ipython3",
   "version": "3.7.5"
  }
 },
 "nbformat": 4,
 "nbformat_minor": 2
}

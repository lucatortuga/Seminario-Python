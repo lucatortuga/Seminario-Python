{
 "cells": [
  {
   "cell_type": "markdown",
   "metadata": {},
   "source": [
    "<h1><center><strong>Introduzione a Python</strong></center></h1>\n",
    "\n",
    "[python.org](https://python.org)"
   ]
  },
  {
   "cell_type": "markdown",
   "metadata": {},
   "source": [
    "**Cos'è Python e perchè Python?**\n",
    "\n",
    "Dal sito Python.org nella sezione FAQ troviamo:\n",
    ">Python is an interpreted, interactive, object-oriented programming language. It incorporates modules, exceptions, dynamic typing, very high level dynamic data types, and classes. Python combines remarkable power with very clear syntax. It has interfaces to many system calls and libraries, as well as to various window systems, and is extensible in C or C++. It is also usable as an extension language for applications that need a programmable interface. Finally, Python is portable: it runs on many Unix variants, on the Mac, and on Windows 2000 and later.\n",
    "\n",
    "Più in sintesi \n",
    ">Python is a clear and powerful\n",
    "        **object-oriented** programming language"
   ]
  },
  {
   "cell_type": "markdown",
   "metadata": {},
   "source": [
    "**Alcune importanti caratteristiche:**\n",
    "\n",
    "- **Sintassi semplice ed elegante**: Rende i programmi più facili da scrivere e leggere\n",
    "- E' ideale per prototipare e sviluppare programmi ad-hoc per svariate esigenze, senza compromettere la _\"maintainability\"_. **PRIMO LINGUAGGIO IN MOLTE UNIVERSITA' ED ENTI DI RICERCA!!!**\n",
    "- E' fornito **_\"battery included\"_**. Ovvero è già dotato di una libreria standard di funzioni veramente ampia che supporta molte delle esigenze programmative più comuni: connessione a web-server, ricerca di testo con espressioni regolari, lettura e modifica di file, funzioni matematiche, etc., etc.\n",
    "- La modalità interattiva di Python rende semplice testare piccoli \"snippets\" di codice. Inoltre viene anche fornito con un ambiente di sviluppo chiamato **IDLE**\n",
    "- Si pùò facilmente ampliare aggiungendo nuovi moduli sviluppati con linguaggi compilati come C o C++.\n",
    "- Si può anche inserire in applicazioni più complesse per fornire una interfaccia programmabile(vedi [Gimp](http://gimp.org) o [Freecad](https://www.freecadweb.org/)).\n",
    "- E' 2 VOLTE **free software**! :\n",
    "    - Uno: perchè **non costa niente scaricarlo ed utilizzarlo**;\n",
    "    - due: perchè può essere liberamente modificato e ridistribuito(benchè il linguaggio sia sotto \"copyright\" è però disponibile sotto una licenza OSI open source).\n",
    "- **Altamente portabile**:\n",
    "  - gira praticamente su qualsiasi piattaforma dai server HPC alle workstation fino ai microcontrollori(RaspberryPi)\n",
    "  - disponibile per Windows, macOS, Linux, Unix, versioni non ufficiali per Android e iOS. Ed anche per Solaris, VMS e molti altri!!!"
   ]
  },
  {
   "cell_type": "markdown",
   "metadata": {},
   "source": [
    "**Alcune tipiche caratteristiche della sintassi e struttura di Python:**\n",
    "\n",
    "- E' disponibile un **varietà di tipi di dati** di base quali: numeri (floating point, complex, long-integers a lunghezza illimitata), stringhe (ASCII e Unicode), liste, e dizionari.\n",
    "- E' un linguaggio scritto con il paradigma **[OOP](./1_0_Intro_OOP.ipynb)** e **supporta la programmazione object-oriented** con classi e ereditarietà multipla\n",
    "- Il codice può essere raggruppato in **moduli e pacchetti**.\n",
    "- Il linguaggio consente di **intercettare e gestire \"eccezioni/errori\"**. Consentendo una gestione più pulita proprio degli errori.\n",
    "- Le **tipologie di dati sono severamente e dinamicamente \"tipizzate\"** (classificate-categorizzate). Di conseguenza operazioni su tipi diversi di dati(somma di un numero con una stringa) causano una \"exception\", cosicchè sia più rapido intercettare degli errori.\n",
    "- La **gestione degli spazi di memoria in Python è automatica**, svincolando l'utente da complesse procedure e dal rischio di \"memory leak\" (vedi \"malloc\" e \"calloc\"in C)."
   ]
  },
  {
   "cell_type": "markdown",
   "metadata": {},
   "source": [
    "**Per cosa è usato?**\n",
    "\n",
    "- prototipazione rapida\n",
    "- programmi ad-hoc o \"usa e getta\"\n",
    "- scripting per applicazioni web (es. python + selenium per impianto camera climatica)\n",
    "- molte applicazioni scientifiche\n",
    "- elaborazione di formati XML\n",
    "- applicazioni database\n",
    "- applicazioni GUI\n",
    "- come linguaggio \"collante\"\n",
    "\n",
    "... **e per fotografare BUCHI NERI!!!**\n",
    "!![BlackHole](img/black_hole.jpg)"
   ]
  },
  {
   "cell_type": "markdown",
   "metadata": {},
   "source": [
    "**Da chi è usato**\n",
    "\n",
    "- **Google** “Python where we can, C++ where we must.”\n",
    "- **Dropbox**\n",
    "- **Instagram**\n",
    "- **YouTube**\n",
    "- **Spotify**\n",
    "- **Wikipedia**\n",
    "- **CERN**\n",
    "- **NASA**\n",
    "- **ENEA ;-)** Sapevate che il nostro portale si basa su di un framework(Zope) Python?\n",
    "- [Elenco ufficiale dal sito Python.org](https://wiki.python.org/moin/OrganizationsUsingPython)"
   ]
  },
  {
   "cell_type": "markdown",
   "metadata": {},
   "source": [
    "**Python vs Java o altri linguaggi**\n",
    "\n",
    "- codice più coinciso\n",
    "![PythonvsJava](img/LetturaFileJAVAvsPYTHON.png)\n",
    "![PythonvsJava](img/PYvsJAVAvsC.jpeg)\n",
    "\n",
    "- In Java i dati devo essere di tipo dichiarato mentre in Python sono dinamicamente dichiarati\n",
    "- Sviluppo più rapido (no compilazione e tipizzazione)\n",
    "- Python E' PIU' LENTO ma non ve ne accorgerete!"
   ]
  },
  {
   "cell_type": "markdown",
   "metadata": {},
   "source": [
    "**Brevi cenni storici**\n",
    "\n",
    "Guido Van Rossum, lo sviluppatore olandese che all'inizio degli anni '90 creò il linguaggio Python, scelse questo nome non ispirandosi alla nota specie di rettili, ma al gruppo comico britannico Monty Python ed alla loro trasmissione televisiva, il Monty Python's Flying Circus.\n",
    "\n",
    "![CenniStorici](img/europython2003.jpeg)\n",
    "<center>EuroPython2003 con Guido (BDFL) ed altri pythonisti italiani</center>"
   ]
  },
  {
   "cell_type": "markdown",
   "metadata": {},
   "source": [
    "Per entrare nel vivo del linguaggio e riassumere quanto detto finora proviamo ad importare il modulo **\"this\"** incluso nella libreria standard:"
   ]
  },
  {
   "cell_type": "code",
   "execution_count": 4,
   "metadata": {},
   "outputs": [],
   "source": [
    "import this"
   ]
  },
  {
   "cell_type": "markdown",
   "metadata": {},
   "source": [
    "Questo è quello che si chiama in gergo un _Easter Egg_. Un codice/modulo nascosto realizzato da uno sviluppatore Python Tim Peters per riassumere appunto in 19 punti la filosofia Python"
   ]
  }
 ],
 "metadata": {
  "celltoolbar": "Raw Cell Format",
  "kernelspec": {
   "display_name": "Python 3",
   "language": "python",
   "name": "python3"
  },
  "language_info": {
   "codemirror_mode": {
    "name": "ipython",
    "version": 3
   },
   "file_extension": ".py",
   "mimetype": "text/x-python",
   "name": "python",
   "nbconvert_exporter": "python",
   "pygments_lexer": "ipython3",
   "version": "3.7.5"
  }
 },
 "nbformat": 4,
 "nbformat_minor": 2
}

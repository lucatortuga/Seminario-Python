{
 "cells": [
  {
   "cell_type": "markdown",
   "metadata": {},
   "source": [
    "## Primi passi(1): Installare Python\n",
    "<sub>(https://assets.digitalocean.com/books/python/how-to-code-in-python.pdf )</sub>)"
   ]
  },
  {
   "cell_type": "markdown",
   "metadata": {},
   "source": [
    "- Su **Linux** è già presente; ma lo si può installare attraverso i package manager oppure scaricando il tarball\n",
    "dal sito [Python.org](https://www.python.org/) seguito dai soliti (configure - make - make install)\n",
    "- Anche su **Mac OSX** è già presente ma nella versione 2.7(versione di default per il s.o.; sostituirla completamente potrebbe creare malfunzionamenti ad alcune applicazioni di sistema che dipendono da python2); è necessario quindi installare la versione più recente  scaricando il file pkg di Python3 dal sito [Python.org](https://www.python.org/)\n",
    "- **Windows** non ha nativo Python ma bisogna scaricare il pacchetto dal sito ed installarlo attraverso il classico setup. Da poco per Windows 10 è anche disponibile Python 3.7 attraverso il MICROSOFT STORE\n",
    "\n",
    "**!!!** Inoltre un'alternativa **cross platform**  e molto utile per noi è **[Anaconda](https://www.anaconda.com/distribution/)!!!**\n",
    "Questa soluzione fornisce un modo facile di installare il linguaggio e tutti i suoi moduli più utilizzati per l'elaborazione scientifica. Viene fornito già con gran parte delle librerie di calcolo installate; ha al suo interno un package manager per la gestione delle dipendenze ed alcuni fra gli strumenti più innovativi per il lavoro di programmazione(ambiente IDE, Jupyter Notebooks, etc.) "
   ]
  },
  {
   "cell_type": "markdown",
   "metadata": {},
   "source": [
    "***"
   ]
  },
  {
   "cell_type": "markdown",
   "metadata": {},
   "source": [
    "#### Installazione su Windows 10 ####\n",
    "\n",
    "*Prerequisiti*: Windows10 con un account amministrativo ed un accesso alla rete Internet.\n",
    "\n",
    "- **1** Scaricare il pacchetto “Python 3.x version” dal sito di Anaconda https://www.anaconda.com/distribution/;\n",
    "- **2** Eseguire il programma di installazione appena scaricato;\n",
    "- **3** Impostare l’installazione di Anaconda solamente per l’utente corrente (Just Me) e lasciare il percorso di installazione invariato;\n",
    "![anaconda](img/anaconda1.png)\n",
    "- **4** Nelle opzioni avanzate scegliere di registrare Anaconda come l’installazione di Python di sistema e deselezionare l’opzione relativa all’aggiunta di Anaconda al PATH;\n",
    "![anaconda](img/anaconda2.jpeg)\n",
    "- **5** Se richiesto, non installare “VS Code” (useremo un altro strumento...più tardi)\n",
    "\n",
    "**Verificare l’installazione di Anaconda**\n",
    "Eseguire “Anaconda Navigator” cercandolo nella barra di ricerca di\n",
    "Windows oppure dal menù Start -> Anaconda3 (64-bit) -> Anaconda\n",
    "Navigator. Il primo avvio potrebbe richiede diversi secondi.\n",
    "Se l’applicazione si avvia correttamente allora l’installazione di Anaconda\n",
    "è andata a buon fine ed avremo Python3 configurato sul nostro PC.\n",
    "![anaconda](img/anaconda3.jpeg)"
   ]
  },
  {
   "cell_type": "markdown",
   "metadata": {},
   "source": [
    "***"
   ]
  },
  {
   "cell_type": "markdown",
   "metadata": {},
   "source": [
    "#### Installazione su Mac OS ####\n",
    "\n",
    "*Prerequisiti*: macOS X 10.11 o successivo con un account amministrativo ed un accesso alla rete Internet.\n",
    "\n",
    "- **1** Scaricare l'installer “Anaconda” dal sito Anaconda <\n",
    "https://www.anaconda.com/distribution/;\n",
    "- **2** Eseguire il programma di installazione appena scaricato;\n",
    "- **3** Rispondere ai prompt su Introduzione, ReadMe, e Licenza.\n",
    "- **4** Fare click sul pulsante \"Install\"per installare Anaconda nella vostra ~/opt directory (recommended):\n",
    "![anaconda](img/osx-install-type.png)\n",
    "- **5** Impostare l’installazione di Anaconda solamente per l’utente corrente (For Me only) e lasciare il percorso di installazione invariato;\n",
    "![anaconda](img/osx-install-destination.png)\n",
    "- **6** Se richiesto, non installare “PyCharm” (useremo un altro strumento...più tardi)\n",
    "- **7** Ad installazione riuscita avremo Python3 disponibile sul nostro Mac e tutto l'ambiente grafico dell'Anaconda Navigator\n",
    "![anaconda](img/osx-install-success.png)\n",
    "\n",
    "**Verificare l’installazione di Anaconda**\n",
    "Eseguendo “Anaconda Navigator” cercandolo nella cartella \"**Applicazioni**\"\n",
    "\n",
    "##### Usando la linea di comando#####\n",
    "Se si preferisce lavorare da terminale, allora usare questo metodo.\n",
    "\n",
    "- **1** Dal vostro browser scaricate la versione a linea di comando dell'[installer macOS](https://www.anaconda.com/distribution/#macos) per il vostro sistema.\n",
    "- **2** Aprite il \"terminale\" e digitate quanto segue\n",
    "    - Per Python3.7\n",
    "    ![anaconda](img/osx-cmd-anaconda-install.png)\n",
    "    N.B. Fare attenzione ad includere nel comando \"bash\" a prescindere dalla shell che si usa.\n",
    "   \n",
    "   Nota: Se si è scaricato il file in una directory diversa dalla \"downloads\" sostituire nel comando il path corretto\n",
    "- **3** L'installazione chiede di premere \"Enter\" per confermare la directory d'installazione; premere CTRL-C per cancellare l'installazione oppure specificare una directory alternativa d'installazione. Se confermate la directory di default, sarà visualizzata PREFIX=/home/<user>/anaconda<2 or 3> e quindi proseguire con l'installazione.\n",
    "\n",
    "A questo punto possono volerci alcuni minuti per terminare la procedura.\n",
    "\n",
    "- **4** Come ultima cosa l'installer chiderà “Do you wish the installer to initialize Anaconda3 by running conda init?” Si raccomanda “yes”.\n",
    "- **5** L'installer infine visualizza “__Thank you for installing Anaconda!__”\n",
    "- **6** Chiudere e riaprire il \"terminale\" affinchè l'ambiente Anaconda sia pienamente configurato\n",
    "- **7** Per controllare quando una sessione ha l'ambiente base attivato o meno, digitare il comando \n",
    "    ```conda config --set auto_activate_base False or True```. Per usare \"conda\"\" ovunque senza avere l'ambiente base attivato di default, usare ```conda config --set auto_activate_base False```. Quanto sopra funziona sole se lanciate prima ```conda init```.\n",
    "    \n",
    "    \n",
    "Per approfondimenti si rimanda ai [documenti ufficiali](https://docs.anaconda.com/anaconda/) di Anaconda"
   ]
  },
  {
   "cell_type": "markdown",
   "metadata": {},
   "source": [
    "#### Installazione su Linux ####\n",
    "\n",
    "*Prerequisiti*: Per utilizzare i pacchetti d'installazione grafici, bisogna installare le seguenti dipendenze per la libreria Qt:\n",
    "![anaconda](img/linux-dipendenze-Qt.png)\n",
    "[qui](https://docs.anaconda.com/anaconda/install/linux/) il link alla pagina di documentazione.\n",
    "\n",
    "Per i sistemi x86:\n",
    "\n",
    "- **1** Scaricare l'installer “Anaconda” dal sito Anaconda\n",
    "https://www.anaconda.com/download/#linux;\n",
    "- **2** Aprite il \"terminale\" e digitate quanto segue\n",
    "    - Per Python3.7\n",
    "    ![anaconda](img/linux-cmd-install.png)\n",
    "    N.B. Fare attenzione ad includere nel comando \"bash\" a prescindere dalla shell che si usa.\n",
    "   \n",
    "   Nota: Se si è scaricato il file in una directory diversa dalla \"downloads\" sostituire nel comando il path corretto\n",
    "- **3** L'installazione chiede di premere \"Enter\" per rivedere l'accordo di licenza e proseguire.\n",
    "- **4** Confermare la directory d'installazione; premere CTRL-C per cancellare l'installazione oppure specificare una directory alternativa d'installazione. Se confermate la directory di default, sarà visualizzata PREFIX=/home/<user>/anaconda<2 or 3> e quindi proseguire con l'installazione.\n",
    "\n",
    "A questo punto possono volerci alcuni minuti per terminare la procedura.\n",
    "\n",
    "- **5** L'installer chiederà “Do you wish the installer to initialize Anaconda3 by running conda init?” Si raccomanda “yes”.\n",
    "- **6** L'installer infine visualizza “__Thank you for installing Anaconda!__”\n",
    "- **7** Chiudere e riaprire il \"terminale\" affinchè l'ambiente Anaconda sia pienamente configurato, oppure digitare ```source .bashrc```\n",
    "- **8** Per controllare quando una sessione ha l'ambiente base attivato o meno, digitare il comando \n",
    "    ```conda config --set auto_activate_base False or True```. Per usare \"conda\"\" ovunque senza avere l'ambiente base attivato di default, usare ```conda config --set auto_activate_base False```. Quanto sopra funziona sole se lanciate prima ```conda init```.\n",
    "    \n",
    "    \n",
    "Per approfondimenti si rimanda ai [documenti ufficiali](https://docs.anaconda.com/anaconda/) di Anaconda"
   ]
  }
 ],
 "metadata": {
  "kernelspec": {
   "display_name": "Python 3",
   "language": "python",
   "name": "python3"
  },
  "language_info": {
   "codemirror_mode": {
    "name": "ipython",
    "version": 3
   },
   "file_extension": ".py",
   "mimetype": "text/x-python",
   "name": "python",
   "nbconvert_exporter": "python",
   "pygments_lexer": "ipython3",
   "version": "3.7.5"
  }
 },
 "nbformat": 4,
 "nbformat_minor": 2
}

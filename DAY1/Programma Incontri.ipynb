{
 "cells": [
  {
   "cell_type": "markdown",
   "metadata": {},
   "source": [
    "<center> <h1>PYTHON</h1></center>\n",
    "\n",
    "![mio_python](img/mio_python.jpeg)\n",
    "\n",
    "<center> <h1>Programma degli incontri</h1></center"
   ]
  },
  {
   "cell_type": "markdown",
   "metadata": {},
   "source": [
    "## 27 Aprile (lunedì)\n",
    "- **Introduzione al linguaggio Python**\n",
    "- **Primi passi**\n",
    "- **Tipi di dati**\n",
    "- **Operatori**\n",
    "- **Strutture di controllo**"
   ]
  },
  {
   "cell_type": "markdown",
   "metadata": {},
   "source": [
    "## 28 Aprile (martedì)\n",
    "- **Gestione file e directory**\n",
    "- **Introduzione ai moduli scientifici**\n",
    "- **Numpy**"
   ]
  },
  {
   "cell_type": "markdown",
   "metadata": {},
   "source": [
    "## 29 Aprile (mercoledì)\n",
    "- **Matplotlib**\n",
    "- **Pandas**"
   ]
  },
  {
   "cell_type": "markdown",
   "metadata": {},
   "source": [
    "## 30 Aprile (giovedì)\n",
    "- **Altri framework per la scienza**\n",
    "- **Scipy**\n",
    "- **Considerazioni finali**"
   ]
  },
  {
   "cell_type": "markdown",
   "metadata": {},
   "source": [
    "***"
   ]
  },
  {
   "cell_type": "markdown",
   "metadata": {},
   "source": [
    "## Istruzioni per collegarsi al server Jupyter:\n",
    "    1. Accedere alla nostra VPN con le credenziali ASIE\n",
    "    2. Aprire dal browser la seguente URL: http://jupyterhub.intranet.casaccia\n",
    "    3. Effettuare il login con il proprio cognome(tutto attaccato se contiene spazi e minuscolo) - non c'è password"
   ]
  },
  {
   "cell_type": "code",
   "execution_count": null,
   "metadata": {},
   "outputs": [],
   "source": []
  }
 ],
 "metadata": {
  "kernelspec": {
   "display_name": "Python 3",
   "language": "python",
   "name": "python3"
  },
  "language_info": {
   "codemirror_mode": {
    "name": "ipython",
    "version": 3
   },
   "file_extension": ".py",
   "mimetype": "text/x-python",
   "name": "python",
   "nbconvert_exporter": "python",
   "pygments_lexer": "ipython3",
   "version": "3.7.5"
  }
 },
 "nbformat": 4,
 "nbformat_minor": 4
}

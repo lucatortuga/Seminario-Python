{
 "cells": [
  {
   "cell_type": "markdown",
   "metadata": {},
   "source": [
    "## TIPI DI DATI E VARIABILI \n",
    "<sub>(https://realpython.com )</sub>)"
   ]
  },
  {
   "cell_type": "markdown",
   "metadata": {},
   "source": [
    "## Data Types ##\n",
    "In Python come in tutti gli altri linguaggi di programmazione i _**\"data types\"**_ sono usati per classificare un particolare **tipo** di informazione contenuto in memoria. Questa classificazione è fondamentale per determinare che valori si possano assegnare e cosa ci si può fare.\n",
    "\n",
    "Python conosce e definisce molti tipi di dati. Di seguito andiamo a vedere i principali (solo programmando e con l'esperienza si potranno poi conoscere tutti gli altri).\n"
   ]
  },
  {
   "cell_type": "markdown",
   "metadata": {},
   "source": [
    "****"
   ]
  },
  {
   "cell_type": "markdown",
   "metadata": {},
   "source": [
    "### NUMERI###\n",
    "Ogni numero introdotto in Python viene interpretato come un \"numero\".  \n",
    "Tutti i numeri senza decimali verranno considerati _**\"integer\"**_ (es. 1), mentre tutti inseriti con decimali saranno considerati _**\"float\"**_ (es. 1.2)\n",
    "\n",
    "- **Integer** Come nel mondo reale(matematico) anche nel modo informatico gli interi sono numeri \n",
    "sia positivi che negativi o 0(zero) e sono riconosciuti in Python come tipo `int`."
   ]
  },
  {
   "cell_type": "code",
   "execution_count": 28,
   "metadata": {},
   "outputs": [
    {
     "name": "stdout",
     "output_type": "stream",
     "text": [
      "11\n"
     ]
    }
   ],
   "source": [
    "print(11)  #stampo un intero"
   ]
  },
  {
   "cell_type": "code",
   "execution_count": 29,
   "metadata": {},
   "outputs": [
    {
     "name": "stdout",
     "output_type": "stream",
     "text": [
      "-1965\n"
     ]
    }
   ],
   "source": [
    "a = -1965 #assegno alla var a un intero negativo\n",
    "print(a)"
   ]
  },
  {
   "cell_type": "code",
   "execution_count": 30,
   "metadata": {},
   "outputs": [
    {
     "data": {
      "text/plain": [
       "int"
      ]
     },
     "execution_count": 30,
     "metadata": {},
     "output_type": "execute_result"
    }
   ],
   "source": [
    "type(a)   #visualizzo con la funz. type() il tipo della var a"
   ]
  },
  {
   "cell_type": "markdown",
   "metadata": {},
   "source": [
    "- **Floating-Point** Un numero **float** è un numero reale(razionale o irrazionale); in termini strettamente \"pythoniani\" sono numeri composti da una parte intera e da una parte decimale (es.0.5) separati dal punto decimale."
   ]
  },
  {
   "cell_type": "code",
   "execution_count": 31,
   "metadata": {},
   "outputs": [
    {
     "name": "stdout",
     "output_type": "stream",
     "text": [
      "12.3\n"
     ]
    }
   ],
   "source": [
    "print(12.3)  # stampo un numero float"
   ]
  },
  {
   "cell_type": "code",
   "execution_count": 32,
   "metadata": {},
   "outputs": [
    {
     "name": "stdout",
     "output_type": "stream",
     "text": [
      "7.5\n"
     ]
    }
   ],
   "source": [
    "b = 7.5  #assegno alla var b un numero float\n",
    "print(b)"
   ]
  },
  {
   "cell_type": "code",
   "execution_count": 33,
   "metadata": {
    "scrolled": true
   },
   "outputs": [
    {
     "data": {
      "text/plain": [
       "float"
      ]
     },
     "execution_count": 33,
     "metadata": {},
     "output_type": "execute_result"
    }
   ],
   "source": [
    "type(b)"
   ]
  },
  {
   "cell_type": "markdown",
   "metadata": {},
   "source": [
    ">**!!** Con la funzione ```type()``` ottengo il tipo di dato"
   ]
  },
  {
   "cell_type": "markdown",
   "metadata": {},
   "source": [
    "****"
   ]
  },
  {
   "cell_type": "markdown",
   "metadata": {},
   "source": [
    "### BOOLEANI###\n",
    "Il tipo di dati **Boolean** può assumero solo uno di due valori **True** o **False**.\n",
    "In Python i valori **True** e **False** sono scritti sempre con l'iniziale maiuscola, dato che sono dei valori speciali.  \n",
    "Nelle operazioni matematiche e di logica vengono usati per verificare la veridicità di un fatto:  \n",
    "\n",
    "- _maggiore di_\n",
    "    -- ```10>5 True```\n",
    "    -- ```20>30 False```\n",
    "- _minore di_\n",
    "    -- ```20<60 True```\n",
    "    -- ```3<1 False```\n",
    "- _uguale a_\n",
    "    -- ```11=11 True```\n",
    "    -- ```11=22 False```\n",
    "\n",
    "Come per i numeri si può assegnare un valore booleano ad una variabile"
   ]
  },
  {
   "cell_type": "code",
   "execution_count": 34,
   "metadata": {},
   "outputs": [
    {
     "name": "stdout",
     "output_type": "stream",
     "text": [
      "False\n"
     ]
    }
   ],
   "source": [
    "ris = 5>8  # assegno alla variabile ris il risultato della condizione\n",
    "print(ris)"
   ]
  },
  {
   "cell_type": "code",
   "execution_count": 50,
   "metadata": {},
   "outputs": [
    {
     "data": {
      "text/plain": [
       "bool"
      ]
     },
     "execution_count": 50,
     "metadata": {},
     "output_type": "execute_result"
    }
   ],
   "source": [
    "type(ris)"
   ]
  },
  {
   "cell_type": "markdown",
   "metadata": {},
   "source": [
    "****"
   ]
  },
  {
   "cell_type": "markdown",
   "metadata": {},
   "source": [
    "### STRINGHE\n",
    "Una stringa è una sequenza di uno o più caratteri(lettere,numeri,simboli).  \n",
    "Le stringhe in Python si definiscono con il singolo apice **'** o con il doppio apice **\"**  \n",
    "Es.:  \n",
    "**'Stringa fra singoli apici'**  \n",
    "oppure  \n",
    "**\"Stringa fra doppi apici\"**  \n",
    "Si è già visto nell'unità 3 di questo seminario il semplice programmino helloworld.py dove si stampava a video proprio la stringa \"Hello, World!\"  \n",
    "```print(\"Hello, World!\")```"
   ]
  },
  {
   "cell_type": "markdown",
   "metadata": {},
   "source": [
    "****"
   ]
  },
  {
   "cell_type": "markdown",
   "metadata": {},
   "source": [
    "### LISTE###\n",
    "Con le **liste** introduciamo una categoria particolare di **data types** ovvero quella dei **contenitori** di dati. Oltre alle **liste** vedremo infatti le **tuple** ed i **dizionari**.  \n",
    "\n",
    "Una **lista** è una sequenza **ordinata** di elementi che può essere _mutabile_ o _cambiabile_.  \n",
    "\n",
    "Ogni elemento o valore all'interno della lista si chiama **item**  \n",
    "\n",
    "Una lista si definisce sintatticamente racchiudendo i valori fra parentesi quadre **`[]`**.  \n",
    "Per esempio una lista di numeri interi si definisce così:\n",
    "\n"
   ]
  },
  {
   "cell_type": "code",
   "execution_count": 51,
   "metadata": {},
   "outputs": [
    {
     "data": {
      "text/plain": [
       "[11, 1, 1965]"
      ]
     },
     "execution_count": 51,
     "metadata": {},
     "output_type": "execute_result"
    }
   ],
   "source": [
    "[11, 1, 1965]"
   ]
  },
  {
   "cell_type": "markdown",
   "metadata": {},
   "source": [
    "Una lista di numeri _float_ :"
   ]
  },
  {
   "cell_type": "code",
   "execution_count": 52,
   "metadata": {},
   "outputs": [
    {
     "data": {
      "text/plain": [
       "[1.1, 2.2, 3.5]"
      ]
     },
     "execution_count": 52,
     "metadata": {},
     "output_type": "execute_result"
    }
   ],
   "source": [
    "[1.1, 2.2, 3.5]"
   ]
  },
  {
   "cell_type": "markdown",
   "metadata": {},
   "source": [
    "Come si può vedere ogni elemento di lista è separato da una virgola.  \n",
    "Una lista può contenere diversi tipi di dati anche misti è per questo che  \n",
    "#### le liste sono uno tra i più versatili tipi di dati disponibili con Python."
   ]
  },
  {
   "cell_type": "markdown",
   "metadata": {},
   "source": [
    "Vediamo ancora alcuni esempi:"
   ]
  },
  {
   "cell_type": "code",
   "execution_count": 53,
   "metadata": {},
   "outputs": [
    {
     "name": "stdout",
     "output_type": "stream",
     "text": [
      "['Luca', 'Lucia', 'Pietro', 'Paola']\n"
     ]
    }
   ],
   "source": [
    "nomi = ['Luca', 'Lucia', 'Pietro', 'Paola'] #lista di stringhe\n",
    "print(nomi)"
   ]
  },
  {
   "cell_type": "code",
   "execution_count": 54,
   "metadata": {},
   "outputs": [
    {
     "data": {
      "text/plain": [
       "list"
      ]
     },
     "execution_count": 54,
     "metadata": {},
     "output_type": "execute_result"
    }
   ],
   "source": [
    "type(nomi)"
   ]
  },
  {
   "cell_type": "markdown",
   "metadata": {},
   "source": [
    "In quanto ordinabili, gli elementi delle liste sono accessibili attraverso il loro indice."
   ]
  },
  {
   "cell_type": "code",
   "execution_count": 40,
   "metadata": {},
   "outputs": [
    {
     "data": {
      "text/plain": [
       "4"
      ]
     },
     "execution_count": 40,
     "metadata": {},
     "output_type": "execute_result"
    }
   ],
   "source": [
    "len(nomi) # lunghezza della lista"
   ]
  },
  {
   "cell_type": "code",
   "execution_count": 41,
   "metadata": {},
   "outputs": [
    {
     "name": "stdout",
     "output_type": "stream",
     "text": [
      "Luca\n"
     ]
    }
   ],
   "source": [
    "print(nomi[0]) #stampo il primo elemento della lista"
   ]
  },
  {
   "cell_type": "markdown",
   "metadata": {},
   "source": [
    "Le **liste** sono _mutabili_ perchè si posso compiere operazioni per aggiungere, togliere, cambiare elementi.\n",
    "\n",
    "Esiste un tipo di dato simile alle **liste** che però è _immutabile_ e queste sono le **tuple**"
   ]
  },
  {
   "cell_type": "markdown",
   "metadata": {},
   "source": [
    "****"
   ]
  },
  {
   "cell_type": "markdown",
   "metadata": {},
   "source": [
    "### TUPLE###\n",
    "una **tupla** è una collezione ordinata di oggetti racchiusi fra parentesi tonde **`()`**\n",
    "\n",
    "**Le Tuple sono strutture \"immutabili\" ciò vuol dire che non possono essere aggiornate o i loro elementi cambiati di valore.**  \n",
    "Vengono generalmente utilizzate per raggrupare dei dati che non devono essere cambiati.  \n",
    "  \n",
    "Una **tupla** si presenta così:  \n",
    "```('Rosso', 'Giallo', 'Blu', 'Nero')```  \n",
    "\n",
    "Come per gli altri tipi di dati si può assegnare una tupla ad una variabile:"
   ]
  },
  {
   "cell_type": "code",
   "execution_count": 55,
   "metadata": {},
   "outputs": [
    {
     "name": "stdout",
     "output_type": "stream",
     "text": [
      "('Rosso', 'Giallo', 'Blu', 'Nero')\n"
     ]
    }
   ],
   "source": [
    "colori = ('Rosso', 'Giallo', 'Blu', 'Nero')\n",
    "print(colori)"
   ]
  },
  {
   "cell_type": "code",
   "execution_count": 56,
   "metadata": {},
   "outputs": [
    {
     "data": {
      "text/plain": [
       "tuple"
      ]
     },
     "execution_count": 56,
     "metadata": {},
     "output_type": "execute_result"
    }
   ],
   "source": [
    "type(colori)"
   ]
  },
  {
   "cell_type": "markdown",
   "metadata": {},
   "source": [
    "****"
   ]
  },
  {
   "cell_type": "markdown",
   "metadata": {},
   "source": [
    "### DIZIONARI\n",
    "#### Sono spesso chiamati anche \"maps\" o \"hashes\" ####\n",
    "\n",
    "Un dizionario è una collezione non ordinata di _oggetti_ indirizzati tramite _chiavi_. E' per questo che lo identifichiamo anche come una _mappa_ da **chiavi** a **valori**\n",
    "\n",
    "Rappresentato dalla coppia **{CHIAVE:VALORE}** racchiusa tra parentesi graffe; dove la **chiave** può essere un qualsiasi tipo di oggetto immutabile mentre il **valore** può essere qualsiasi oggetto."
   ]
  },
  {
   "cell_type": "code",
   "execution_count": 57,
   "metadata": {},
   "outputs": [
    {
     "data": {
      "text/plain": [
       "dict"
      ]
     },
     "execution_count": 57,
     "metadata": {},
     "output_type": "execute_result"
    }
   ],
   "source": [
    "D = {'nome':'luca', 'Eta': 54, 'Genere': 'M'}\n",
    "type(D)"
   ]
  },
  {
   "cell_type": "code",
   "execution_count": 58,
   "metadata": {},
   "outputs": [
    {
     "name": "stdout",
     "output_type": "stream",
     "text": [
      "Nome:  luca\n",
      "Genere:  M\n",
      "Età:  54\n"
     ]
    }
   ],
   "source": [
    "print(\"Nome: \", D['nome'])\n",
    "print(\"Genere: \", D['Genere'])\n",
    "print(\"Età: \", D['Eta'])"
   ]
  },
  {
   "cell_type": "markdown",
   "metadata": {},
   "source": [
    "****"
   ]
  },
  {
   "cell_type": "markdown",
   "metadata": {},
   "source": [
    ">**!! RIASSUMENDO**\n",
    "I **numeri** (int, float, complex), i **bool**, le **stringhe** (str), le **tuple** (tuple) sono _**immutabili**_ ;  \n",
    "le **liste** (list) e i **dizionari** (dict) sono invece _**mutabili**_."
   ]
  },
  {
   "cell_type": "markdown",
   "metadata": {},
   "source": [
    "#### OGGETTI MUTABLES E OGGETTI IMMUTABLES:####\n",
    "**In Python i tipi di dati si possono distinguere fra quelli che sono \"mutable\" e quelli invece \"immutable\"            Il contenuto di oggetti immutabili non può essere modificato dopo la loro creazione (TUPLE).**"
   ]
  },
  {
   "cell_type": "markdown",
   "metadata": {},
   "source": [
    "****"
   ]
  },
  {
   "cell_type": "markdown",
   "metadata": {},
   "source": [
    "## VARIABILI##\n",
    "In termini di programmazione una **variabile** è l'assegnazione di un valore ad un'area di memoria rappresentata da un nome simbolico o identificativo.  \n",
    "In Python le **variabili** non necessitano di dichiarazione e comunque devono essere create prima di essere usate!"
   ]
  },
  {
   "cell_type": "markdown",
   "metadata": {},
   "source": [
    "Come si può facilmente immaginare le **variabili** possono contenere qualsiasi **data type**"
   ]
  },
  {
   "cell_type": "code",
   "execution_count": 46,
   "metadata": {},
   "outputs": [],
   "source": [
    "mia_stringa = 'Ciao ciao'\n",
    "mio_float = 3.5\n",
    "mio_booleano = 3<5\n",
    "mia_lista = ['Luca', '11', 'gennaio']\n",
    "mia_tupla = ('bianco', 'rosso', 'verde')\n",
    "mio_dict = {'lettera':'a', 'numero':'sette', 'simbolo':'€'}"
   ]
  },
  {
   "cell_type": "markdown",
   "metadata": {},
   "source": [
    "Inoltre le variabili posso essere **riassegnate** ad altri tipi"
   ]
  },
  {
   "cell_type": "code",
   "execution_count": 47,
   "metadata": {},
   "outputs": [
    {
     "name": "stdout",
     "output_type": "stream",
     "text": [
      "<class 'int'>\n"
     ]
    }
   ],
   "source": [
    "mia_stringa = 1965\n",
    "print(type(mia_stringa))"
   ]
  },
  {
   "cell_type": "markdown",
   "metadata": {},
   "source": [
    "### Assegnazioni multiple###\n",
    "In Python è possibile assegnare diverse variabili in una volta sola."
   ]
  },
  {
   "cell_type": "code",
   "execution_count": 48,
   "metadata": {},
   "outputs": [
    {
     "name": "stdout",
     "output_type": "stream",
     "text": [
      "5\n",
      "3.2\n",
      "hello\n"
     ]
    }
   ],
   "source": [
    "a, b, c = 5, 3.2, \"hello\"\n",
    "print(a)\n",
    "print(b)\n",
    "print(c)"
   ]
  },
  {
   "cell_type": "markdown",
   "metadata": {},
   "source": [
    "Questo approccio può essere molto utile per contenere la lunghezza del codice, facendo però attenzione a non compromettere la _leggibilità_ dello stesso"
   ]
  },
  {
   "cell_type": "markdown",
   "metadata": {},
   "source": [
    "**Assegnazione di variabili: Regole e stile**\n",
    "Nominare le variabili è abbastanza semplice ma bisogna fare attenzione ad alcune regole:\n",
    "\n",
    "- **I nomi di variabili sono composti DA UNA SOLA PAROLA**(senza spazi)\n",
    "- **Sono composti da sole lettere, numeri e _underscore_ (\\_)**\n",
    "- **Non possono iniziare con un numero**\n",
    "- **I nomi sono _case-sensitive_ \"mia\", \"Mia\", \"MIA\" sono tre variabili differenti**"
   ]
  },
  {
   "cell_type": "code",
   "execution_count": 49,
   "metadata": {},
   "outputs": [
    {
     "name": "stdout",
     "output_type": "stream",
     "text": [
      "<class 'str'>\n",
      "<class 'int'>\n",
      "<class 'list'>\n"
     ]
    }
   ],
   "source": [
    "mia = 'Luca'\n",
    "print(type(mia))\n",
    "Mia = 3\n",
    "print(type(Mia))\n",
    "MIA = []\n",
    "print(type(MIA))"
   ]
  },
  {
   "cell_type": "markdown",
   "metadata": {},
   "source": [
    "Parlando prettamente di **stile**, l'ideale è nominare le variabili iniziando con lettere minuscole ed eventualmente usando _underscore_ per separare. Es.: ```mia_var```  \n",
    "Come visto sopra si può anche iniziare con una lettera maiuscola ma non è _stilish_. C'è anche chi preferisce _mixare_ minuscole e maiuscole(camelCase). Es.: ```miaVar```  \n",
    "\n",
    "Per quanto riguarda lo stile da utilizzare nel nominare le variabili\n",
    "il consiglio principale è quello di rimanere coerenti con la filosofia utilizzata nel progetto e non mischiare stili diversi.\n",
    "\n",
    "**Per approfondire** l'argomento si rimanda alla [**PEP 8**](https://www.python.org/dev/peps/pep-0008/) che è la guida ufficiale allo stile nella programmazione in Python."
   ]
  }
 ],
 "metadata": {
  "kernelspec": {
   "display_name": "Python 3",
   "language": "python",
   "name": "python3"
  },
  "language_info": {
   "codemirror_mode": {
    "name": "ipython",
    "version": 3
   },
   "file_extension": ".py",
   "mimetype": "text/x-python",
   "name": "python",
   "nbconvert_exporter": "python",
   "pygments_lexer": "ipython3",
   "version": "3.7.5"
  }
 },
 "nbformat": 4,
 "nbformat_minor": 2
}

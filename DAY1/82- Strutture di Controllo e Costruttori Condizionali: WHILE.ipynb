{
 "cells": [
  {
   "cell_type": "markdown",
   "metadata": {},
   "source": [
    "## Strutture di Controllo e Costruttori Condizionali(2)\n",
    "<sub>(https://realpython.com )</sub>"
   ]
  },
  {
   "cell_type": "markdown",
   "metadata": {},
   "source": [
    "## `While`"
   ]
  },
  {
   "cell_type": "markdown",
   "metadata": {},
   "source": [
    "In programmazione esistono due tipi di iterazione, _indefinita_ e _definita_ :  \n",
    "\n",
    "Con _iterazione indefinita_ , si intende che il numero di volte che un ciclo viene eseguito **non è esplicitamente specificato**; Ma piuttosto, il blocco d'istruzioni viene eseguito finchè non si verifica una certa condizione \"_booleana_ \" .\n",
    "\n",
    "Con _iterazione definita_ , si intende che un blocco viene eseguito per un **numero di volte definito all'inizio del ciclo**."
   ]
  },
  {
   "cell_type": "markdown",
   "metadata": {},
   "source": [
    "I cicli **while** sono una struttura di controllo Python usata per iterazioni _indefinite_  \n",
    "\n",
    "Si può pensare un ciclo **while** come una ripetizione d'istruzioni \"condizionata\".  \n",
    "Dopo un _**if**_ il programma continua ad eseguire il codice, mentre in un **while** il programma esegue il blocco istruzioni e poi salta indietro all'inizio del ciclo finchè la condizione risulta _True_ ."
   ]
  },
  {
   "cell_type": "markdown",
   "metadata": {},
   "source": [
    "La forma sintattica più semplice di un **while** è  \n",
    "```\n",
    "while <expr>:\n",
    "    <statement(s)>\n",
    "```  \n",
    "\n",
    "```<statement(s)>``` rappresenta il blocco istruzioni da eseguire ripetutamente. Ricordiamoci di **indentare!**  \n",
    "\n",
    "\n",
    "```<expr>``` è la condizione; generalmente è composta da una o più variabili inizializzate prima del _loop_ e che poi vengono modificate da qualche parte nel corpo del _loop_ ."
   ]
  },
  {
   "cell_type": "markdown",
   "metadata": {},
   "source": [
    "Vediamo un esempio:"
   ]
  },
  {
   "cell_type": "code",
   "execution_count": 1,
   "metadata": {},
   "outputs": [
    {
     "name": "stdout",
     "output_type": "stream",
     "text": [
      "4\n",
      "3\n",
      "2\n",
      "1\n",
      "0\n"
     ]
    }
   ],
   "source": [
    "n = 5\n",
    "while n > 0:\n",
    "    n -= 1\n",
    "    print(n)"
   ]
  },
  {
   "cell_type": "markdown",
   "metadata": {},
   "source": [
    "- n inizialmente è 5. La condizione iniziale del _while_  ```n > 0```, è _True_ , quindi il corpo del ciclo viene eseguito. All'interno del ciclo una istruzione decrementa _n_ di 1 portandolo a 4, e quindi lo stampa.\n",
    "\n",
    "- Dopo l'istruzione di _print_ , l'esecuzione del programma torna indietro per rivalutare la condizione del **while**. Questa è ancora _True_ , il ciclo si ripete e stampa il valore 3.\n",
    "\n",
    "- Il tutto si ripete finchè  n non diventa 0. A questo punto, quando la condizione viene controllata, questa risulta _false_ , ed il ciclo termina.  \n",
    "\n",
    ">**Notare** l'espressione di controllo viene testata prima di tutto, se fosse falsa all'inizio, il corpo del ciclo non verrebbe eseguito affatto:"
   ]
  },
  {
   "cell_type": "code",
   "execution_count": 2,
   "metadata": {},
   "outputs": [
    {
     "name": "stdout",
     "output_type": "stream",
     "text": [
      "n = 0 NON ESEGUO IL WHILE\n"
     ]
    }
   ],
   "source": [
    "n = 0\n",
    "while n > 0:\n",
    "    n -= 1\n",
    "    print(n)\n",
    "print('n = 0 NON ESEGUO IL WHILE')"
   ]
  },
  {
   "cell_type": "markdown",
   "metadata": {},
   "source": [
    "Un altro esempio con una lista"
   ]
  },
  {
   "cell_type": "code",
   "execution_count": 7,
   "metadata": {},
   "outputs": [
    {
     "name": "stdout",
     "output_type": "stream",
     "text": [
      "terzo\n",
      "secondo\n",
      "primo\n"
     ]
    }
   ],
   "source": [
    "a = ['primo', 'secondo', 'terzo']\n",
    ">>> while a:\n",
    "...     print(a.pop(-1))"
   ]
  },
  {
   "cell_type": "markdown",
   "metadata": {},
   "source": [
    "Negli esempi sopra abbiamo visto come il corpo dei cicli è eseguito per intero ad ogni iterazione. Python, come altri linguaggi, fornisce due comandi per terminare il _loop_ prima che si verifichi l'espressione condizionale:  \n",
    "\n",
    "- **break** termina immediatamente il ciclo. L'esecuzione del programma procede alla prima istruzione successiva al corpo del ciclo.\n",
    "- **continue** termina immediatamente solo l'iterazione corrente e ritorna all'inizio del ciclo per un nuovo controllo della condizione.\n",
    "\n",
    "![break](img/break-continue.png)"
   ]
  },
  {
   "cell_type": "markdown",
   "metadata": {},
   "source": [
    "Esempio con ```break```"
   ]
  },
  {
   "cell_type": "code",
   "execution_count": 1,
   "metadata": {},
   "outputs": [
    {
     "name": "stdout",
     "output_type": "stream",
     "text": [
      "4\n",
      "3\n",
      "Loop ended.\n"
     ]
    }
   ],
   "source": [
    "n = 5\n",
    "while n > 0:\n",
    "    n -= 1\n",
    "    if n == 2:\n",
    "        break\n",
    "    print(n)\n",
    "print('Loop ended.')"
   ]
  },
  {
   "cell_type": "markdown",
   "metadata": {},
   "source": [
    "Esempio con ```continue```"
   ]
  },
  {
   "cell_type": "code",
   "execution_count": 2,
   "metadata": {},
   "outputs": [
    {
     "name": "stdout",
     "output_type": "stream",
     "text": [
      "4\n",
      "3\n",
      "1\n",
      "0\n",
      "Loop ended.\n"
     ]
    }
   ],
   "source": [
    "n = 5\n",
    "while n > 0:\n",
    "    n -= 1\n",
    "    if n == 2:\n",
    "        continue\n",
    "    print(n)\n",
    "print('Loop ended.')"
   ]
  },
  {
   "cell_type": "markdown",
   "metadata": {},
   "source": [
    "**While infiniti**  \n",
    "```while True:\n",
    "        print('Non mi fermo più')\n",
    "```  \n",
    "Possono essere interrotti solo con un `^Ctrl` `+` `C` oppure usando opportunamente l'istruzione `break`"
   ]
  },
  {
   "cell_type": "code",
   "execution_count": 4,
   "metadata": {},
   "outputs": [
    {
     "name": "stdout",
     "output_type": "stream",
     "text": [
      "baz\n",
      "bar\n",
      "foo\n"
     ]
    }
   ],
   "source": [
    "a = ['foo', 'bar', 'baz']\n",
    ">>> while True:\n",
    "...     if not a:\n",
    "...         break\n",
    "...     print(a.pop(-1))"
   ]
  },
  {
   "cell_type": "markdown",
   "metadata": {},
   "source": [
    "Come per l'istruzione `if` anche i cicli **while** posso essere nidificati."
   ]
  },
  {
   "cell_type": "markdown",
   "metadata": {},
   "source": [
    "Infine quando caratterizzati da poche e semplici istruzioni del corpo i **while** possono anche essere scritti in una sola riga(usando il separatore `;`):"
   ]
  },
  {
   "cell_type": "code",
   "execution_count": 5,
   "metadata": {},
   "outputs": [
    {
     "name": "stdout",
     "output_type": "stream",
     "text": [
      "4\n",
      "3\n",
      "2\n",
      "1\n",
      "0\n"
     ]
    }
   ],
   "source": [
    "n = 5\n",
    "while n > 0: n -= 1; print(n)"
   ]
  }
 ],
 "metadata": {
  "kernelspec": {
   "display_name": "Python 3",
   "language": "python",
   "name": "python3"
  },
  "language_info": {
   "codemirror_mode": {
    "name": "ipython",
    "version": 3
   },
   "file_extension": ".py",
   "mimetype": "text/x-python",
   "name": "python",
   "nbconvert_exporter": "python",
   "pygments_lexer": "ipython3",
   "version": "3.7.5"
  }
 },
 "nbformat": 4,
 "nbformat_minor": 4
}

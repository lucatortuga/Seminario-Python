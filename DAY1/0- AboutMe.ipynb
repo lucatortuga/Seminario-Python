{
 "cells": [
  {
   "cell_type": "markdown",
   "metadata": {
    "slideshow": {
     "slide_type": "-"
    }
   },
   "source": [
    "<h1><center>2 parole su di me</center></h1>\n",
    "\n",
    "Il DISCLAIMER dei miei social cita:\n",
    "<center><strong>Bitblender - volleyballcoach - antarctic - husband - dad - pythonistas - </strong></center>\n",
    "<br>\n",
    "<center><strong>Disclaimer: Subjects Are Not Necessarily In The Right Order Of Importance!!!</strong></center>\n",
    "\n",
    "***\n",
    "\n",
    "- Perito informatico\n",
    "- In ENEA dal 1986. Ben 34 anni... :-)\n",
    "![About_me](img/simul-team.jpg)\n",
    "- ho _**scorazzato**_ fra una miriade di reti(Decnet, TCP/IP, ethernet, ...) e _**mangiato**_ pane e **Unix...RTUnix...VMS...Dos...Windows...Linux...MacOSX**\n",
    "- _**ascoltato**_ diverse _lingue_ **F77...C...C++...** e tantissimi _dialetti_ (molto scorretto chiamarli così) **CSH...Bash...Tcsh..Perl...Tcl...**\n",
    "- **Html** ...a proposito nel 1994 feci la primissima pagina web per l'allora divisione MEP\n",
    "- _**giocherellato**_ con microcontrollori **Arduino e RaspBerryPI**\n",
    "![About_me](img/arduino.jpg)\n",
    "- infine **spiccico** qualche parola di: **LabView...PhP...MySql...** e sopratutto **PYTHON**  \n",
    "\n",
    "### ... dimenticavo sono un **EVANGELISTA DEL CUT & PASTE** (nel proseguio del seminario farò uso di diverse fonti ufficiali e/o apocrife) **per non reinventare la ruota ;-)**\n",
    "\n",
    "***\n",
    "\n",
    "## Esperienze professionali particolari ##\n",
    "- 7 spedizioni in **Antartide** dal 93 al 2008 come responsabile **RSSG**(Remote Sensing Support Group) per gestione ed analisi dati provenienti da satelliti meteorologici\n",
    "![About_me](img/anta1.jpg)\n",
    "![About_me](img/anta2.jpg)\n",
    "- 5 Campagne Voli Parabolici **Zero-G** ESA (sviluppo sw impianto MICROBO e controllo in volo)\n",
    "![About_me](img/microbo.jpg)\n",
    "\n",
    "## Hobby e passioni##\n",
    "\n",
    "**Una sola il volley!!! prima come giocatore ed oggi come allenatore**\n",
    "![About_me](img/volley.jpg)"
   ]
  }
 ],
 "metadata": {
  "kernelspec": {
   "display_name": "Python 3",
   "language": "python",
   "name": "python3"
  },
  "language_info": {
   "codemirror_mode": {
    "name": "ipython",
    "version": 3
   },
   "file_extension": ".py",
   "mimetype": "text/x-python",
   "name": "python",
   "nbconvert_exporter": "python",
   "pygments_lexer": "ipython3",
   "version": "3.7.5"
  }
 },
 "nbformat": 4,
 "nbformat_minor": 2
}

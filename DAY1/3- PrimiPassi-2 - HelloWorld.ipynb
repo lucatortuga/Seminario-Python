{
 "cells": [
  {
   "cell_type": "markdown",
   "metadata": {},
   "source": [
    "## PRIMI PASSI(2): Hello World! \n",
    "<sub>(https://assets.digitalocean.com/books/python/how-to-code-in-python.pdf )</sub>)"
   ]
  },
  {
   "cell_type": "markdown",
   "metadata": {},
   "source": [
    "#### Scriviamo il nostro primo programma Python\n",
    "il **classicissimo** \"hello world!\n",
    "\n",
    "**Prerequisiti** : Python installato - un editor di testo(**NO MSWORD!!!**) o meglio ancora un IDE(**Integrated Development Environment**).\n",
    "- **Spyder**\n",
    "- **VSCode (MS Visual Studio Code)**\n",
    "- etc.\n",
    "\n",
    "Questi ambienti in genere integrano:\n",
    "- un **editor** con controllo della sintassi;\n",
    "- un **debugger**\n",
    "- ed un **ambiente runtime** (compilatore e interprete)\n",
    "\n",
    "![Spyder](img/spyder.jpg)\n",
    "\n",
    "\n",
    "Diciamo che per ora è sufficiente un editor di testo(notepad, textedit...)\n",
    "\n",
    "Apriamo l'editor e scriviamo il seguente codice:"
   ]
  },
  {
   "cell_type": "markdown",
   "metadata": {},
   "source": [
    "```\n",
    "print(\"Hello, World!\")\n",
    "```\n"
   ]
  },
  {
   "cell_type": "markdown",
   "metadata": {},
   "source": [
    "Quindi salviamo il file con il nome **helloworld.py**(facciamo attenzione a dove lo salviamo!)\n",
    "\n",
    "Diamo un'occhiata ai componenti del codice:\n",
    "    - **print()** è una funzione _built-in_ che dice al computer di fare qualcosa.(Sappiamo che è una funzione perchè usa le parentesi) Il suo scopo è quello di stampare a terminale l'out corrente.\n",
    "\n",
    "    - All'interno delle parentesi è racchiusa, tra apicetti, una sequenza di caratteri \"Hello World!\". Ogni singolo carattere è una stringa"
   ]
  },
  {
   "cell_type": "markdown",
   "metadata": {},
   "source": [
    "#### Facciamo girare il programma ####\n",
    "\n",
    "Andiamo ad usare il nostro comando \"python3\".\n",
    "Dal \"terminale\" o dal \"prompt di comandi\", assicuriamoci di essere nel directory dove abbiamo salvato il file helloworld.py e quindi digitiamo:\n",
    "```\n",
    "python3 helloworld.py\n",
    "```\n",
    "\n",
    "il programma genererà a terminale un output\n",
    "**output**\n",
    "\n",
    "*Hello, World!*\n"
   ]
  },
  {
   "cell_type": "markdown",
   "metadata": {},
   "source": [
    "### CONGRATULAZIONI!!!"
   ]
  },
  {
   "cell_type": "markdown",
   "metadata": {},
   "source": [
    "***"
   ]
  },
  {
   "cell_type": "markdown",
   "metadata": {},
   "source": [
    ">**!!** Un forma ibrida di lavorare con Python, ovvero una via di mezzo fra l'interprete interattivo e gli _script_ sono i **_jupyter notebook_** (altro strumento già contenuto nella distribuzione Anaconda). \n",
    "Un **notebook** è un documento accessibile dal browser che può eseguire codice Python, contenere testi formattati, grafica, tutto in un singolo documento!"
   ]
  }
 ],
 "metadata": {
  "kernelspec": {
   "display_name": "Python 3",
   "language": "python",
   "name": "python3"
  },
  "language_info": {
   "codemirror_mode": {
    "name": "ipython",
    "version": 3
   },
   "file_extension": ".py",
   "mimetype": "text/x-python",
   "name": "python",
   "nbconvert_exporter": "python",
   "pygments_lexer": "ipython3",
   "version": "3.7.5"
  }
 },
 "nbformat": 4,
 "nbformat_minor": 2
}

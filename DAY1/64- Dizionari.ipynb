{
 "cells": [
  {
   "cell_type": "markdown",
   "metadata": {},
   "source": [
    "### Dizionari ###"
   ]
  },
  {
   "cell_type": "markdown",
   "metadata": {},
   "source": [
    "#### Sono spesso chiamati anche \"maps\" o \"hashes\" ####\n",
    "\n",
    "Un dizionario è una collezione non ordinata di _oggetti_ indirizzati tramite _chiavi_. E' per questo che lo identifichiamo anche come una _mappa_ da **chiavi** a **valori**\n",
    "\n",
    "Rappresentato dalla coppia `{CHIAVE:VALORE}` racchiusa tra parentesi graffe; dove la **chiave** può essere un qualsiasi tipo di oggetto immutabile mentre il **valore** può essere qualsiasi oggetto."
   ]
  },
  {
   "cell_type": "code",
   "execution_count": 2,
   "metadata": {},
   "outputs": [
    {
     "data": {
      "text/plain": [
       "dict"
      ]
     },
     "execution_count": 2,
     "metadata": {},
     "output_type": "execute_result"
    }
   ],
   "source": [
    "D = {'nome':'luca', 'Eta': 54, 'Genere': 'M'}\n",
    "type(D)"
   ]
  },
  {
   "cell_type": "code",
   "execution_count": 4,
   "metadata": {},
   "outputs": [
    {
     "name": "stdout",
     "output_type": "stream",
     "text": [
      "Nome:  luca\n",
      "Genere:  M\n",
      "Età:  54\n"
     ]
    }
   ],
   "source": [
    "print(\"Nome: \", D['nome'])\n",
    "print(\"Genere: \", D['Genere'])\n",
    "print(\"Età: \", D['Eta'])"
   ]
  },
  {
   "cell_type": "code",
   "execution_count": 3,
   "metadata": {},
   "outputs": [],
   "source": [
    "D['Eta'] = 55 #Aggiorna l'età"
   ]
  },
  {
   "cell_type": "code",
   "execution_count": 4,
   "metadata": {},
   "outputs": [],
   "source": [
    "D['Professione'] = 'MescolaBit' # Aggiunge un nuovo valore "
   ]
  },
  {
   "cell_type": "code",
   "execution_count": 7,
   "metadata": {},
   "outputs": [
    {
     "data": {
      "text/plain": [
       "{'nome': 'luca', 'Eta': 55, 'Genere': 'M', 'Professione': 'MescolaBit'}"
      ]
     },
     "execution_count": 7,
     "metadata": {},
     "output_type": "execute_result"
    }
   ],
   "source": [
    "D"
   ]
  },
  {
   "cell_type": "code",
   "execution_count": 8,
   "metadata": {},
   "outputs": [
    {
     "name": "stdout",
     "output_type": "stream",
     "text": [
      "Età:  55\n",
      "Professione:  MescolaBit\n"
     ]
    }
   ],
   "source": [
    "print(\"Età: \", D['Eta'])\n",
    "print(\"Professione: \", D['Professione'])"
   ]
  },
  {
   "cell_type": "markdown",
   "metadata": {},
   "source": [
    "### Funzioni e metodi dei Dizionari ###"
   ]
  },
  {
   "cell_type": "markdown",
   "metadata": {},
   "source": [
    "- **dict.clear()** Rimuove tutti gli elementi di un dizionario\n",
    "- **dict.copy()** Crea un _reference_ del dizionario (un link alla stessa area di memoria)  "
   ]
  },
  {
   "cell_type": "code",
   "execution_count": 8,
   "metadata": {},
   "outputs": [
    {
     "data": {
      "text/plain": [
       "({1: [1, 2, 3]}, {1: [1, 2, 3]})"
      ]
     },
     "execution_count": 8,
     "metadata": {},
     "output_type": "execute_result"
    }
   ],
   "source": [
    "a = {1: [1,2,3]}\n",
    "b = a.copy()\n",
    "\n",
    "a,b"
   ]
  },
  {
   "cell_type": "code",
   "execution_count": 9,
   "metadata": {},
   "outputs": [],
   "source": [
    "a[1].append(4)"
   ]
  },
  {
   "cell_type": "code",
   "execution_count": 10,
   "metadata": {},
   "outputs": [
    {
     "data": {
      "text/plain": [
       "({1: [1, 2, 3, 4]}, {1: [1, 2, 3, 4]})"
      ]
     },
     "execution_count": 10,
     "metadata": {},
     "output_type": "execute_result"
    }
   ],
   "source": [
    "a,b"
   ]
  },
  {
   "cell_type": "markdown",
   "metadata": {},
   "source": [
    "- **dict.fromkeys()** Crea un nuovo dizionario da una lista di chiavi con lo stesso valore"
   ]
  },
  {
   "cell_type": "code",
   "execution_count": 11,
   "metadata": {},
   "outputs": [
    {
     "name": "stdout",
     "output_type": "stream",
     "text": [
      "{'prima': 0, 'seconda': 0, 'terza': 0}\n"
     ]
    }
   ],
   "source": [
    "x = ('prima', 'seconda', 'terza')\n",
    "y = 0\n",
    "nuovoD = dict.fromkeys(x,y)\n",
    "\n",
    "print(nuovoD)"
   ]
  },
  {
   "cell_type": "markdown",
   "metadata": {},
   "source": [
    "- **dict.get(key, default=None)** Per la chiave **key** ritorna il suo valore o  se non esiste ritorna un **None** oppure un valore se specificato"
   ]
  },
  {
   "cell_type": "code",
   "execution_count": 5,
   "metadata": {},
   "outputs": [
    {
     "name": "stdout",
     "output_type": "stream",
     "text": [
      "sconosciuta\n"
     ]
    },
    {
     "data": {
      "text/plain": [
       "{'nome': 'luca', 'Eta': 55, 'Genere': 'M', 'Professione': 'MescolaBit'}"
      ]
     },
     "execution_count": 5,
     "metadata": {},
     "output_type": "execute_result"
    }
   ],
   "source": [
    "print(D.get('squadra', 'sconosciuta'))\n",
    "D"
   ]
  },
  {
   "cell_type": "markdown",
   "metadata": {},
   "source": [
    "- **dict.has_key(key)** Ritorna un _True_ se la chiave esiste\n",
    "- **dict.items()** ritorna una lista di coppie di tuple (chiave, valore)"
   ]
  },
  {
   "cell_type": "code",
   "execution_count": 13,
   "metadata": {},
   "outputs": [
    {
     "data": {
      "text/plain": [
       "dict_items([('nome', 'luca'), ('Eta', 55), ('Genere', 'M'), ('Professione', 'MescolaBit')])"
      ]
     },
     "execution_count": 13,
     "metadata": {},
     "output_type": "execute_result"
    }
   ],
   "source": [
    "D.items()"
   ]
  },
  {
   "cell_type": "markdown",
   "metadata": {},
   "source": [
    "- **dict.keys()** Ritorna una lista di tutte le chiavi"
   ]
  },
  {
   "cell_type": "code",
   "execution_count": 14,
   "metadata": {},
   "outputs": [
    {
     "data": {
      "text/plain": [
       "dict_keys(['nome', 'Eta', 'Genere', 'Professione'])"
      ]
     },
     "execution_count": 14,
     "metadata": {},
     "output_type": "execute_result"
    }
   ],
   "source": [
    "D.keys()"
   ]
  },
  {
   "cell_type": "markdown",
   "metadata": {},
   "source": [
    "- **dict.setdefault(key, default=None)** Simile al _get_ questo metodo ritorna un valore data una chiave **key**. Se questa non esite crea la coppia\n",
    "- **dict.update(dict2)** Aggiunge al dizionario la coppia di nuovi valori"
   ]
  },
  {
   "cell_type": "code",
   "execution_count": 29,
   "metadata": {},
   "outputs": [
    {
     "name": "stdout",
     "output_type": "stream",
     "text": [
      "Sig.\n"
     ]
    },
    {
     "data": {
      "text/plain": [
       "{'nome': 'luca',\n",
       " 'Eta': 55,\n",
       " 'Genere': 'M',\n",
       " 'Professione': 'MescolaBit',\n",
       " 'Hobby': 'sport',\n",
       " 'Titolo': 'Sig.'}"
      ]
     },
     "execution_count": 29,
     "metadata": {},
     "output_type": "execute_result"
    }
   ],
   "source": [
    "print(D.setdefault('Titolo', 'Sig.'))\n",
    "\n",
    "D.update({'Hobby': 'sport'})\n",
    "\n",
    "D"
   ]
  },
  {
   "cell_type": "markdown",
   "metadata": {},
   "source": [
    "- **dict.values()** Ritorna la lista di tutti i valori"
   ]
  },
  {
   "cell_type": "code",
   "execution_count": 16,
   "metadata": {},
   "outputs": [
    {
     "data": {
      "text/plain": [
       "dict_values(['luca', 55, 'M', 'MescolaBit', 'sport'])"
      ]
     },
     "execution_count": 16,
     "metadata": {},
     "output_type": "execute_result"
    }
   ],
   "source": [
    "D.values()"
   ]
  },
  {
   "cell_type": "markdown",
   "metadata": {},
   "source": [
    "### Funzioni Built-in dei Dizionari ###\n",
    "\n",
    "- **len(dict)** ritorna la totale lunghezza del dict ovvero il numero di elementi\n",
    "- **str(dict)** produce una rappresentazione \"stampabile\" del dizioanrio"
   ]
  },
  {
   "cell_type": "code",
   "execution_count": 22,
   "metadata": {},
   "outputs": [
    {
     "name": "stdout",
     "output_type": "stream",
     "text": [
      "5\n"
     ]
    },
    {
     "data": {
      "text/plain": [
       "\"{'nome': 'luca', 'Eta': 55, 'Genere': 'M', 'Professione': 'MescolaBit', 'Hobby': 'sport'}\""
      ]
     },
     "execution_count": 22,
     "metadata": {},
     "output_type": "execute_result"
    }
   ],
   "source": [
    "print(len(D)) #lunghezza elementi dizionario\n",
    "\n",
    "str(D) # trasforma in stringa il dizionario"
   ]
  },
  {
   "cell_type": "markdown",
   "metadata": {},
   "source": [
    "\n",
    " I Dizionari sono mappe e non sequenze. Di conseguenza le operazioni di ordinamento degli elementi **NON FUNZIONANO**"
   ]
  },
  {
   "cell_type": "code",
   "execution_count": 31,
   "metadata": {},
   "outputs": [],
   "source": [
    "\n",
    "D2 = {1: 'val1', 2: 'val2'}"
   ]
  },
  {
   "cell_type": "code",
   "execution_count": 32,
   "metadata": {},
   "outputs": [
    {
     "ename": "TypeError",
     "evalue": "unsupported operand type(s) for +: 'dict' and 'dict'",
     "output_type": "error",
     "traceback": [
      "\u001b[0;31m---------------------------------------------------------------------------\u001b[0m",
      "\u001b[0;31mTypeError\u001b[0m                                 Traceback (most recent call last)",
      "\u001b[0;32m<ipython-input-32-6e7a9c0b9d40>\u001b[0m in \u001b[0;36m<module>\u001b[0;34m\u001b[0m\n\u001b[0;32m----> 1\u001b[0;31m \u001b[0mD\u001b[0m \u001b[0;34m+\u001b[0m \u001b[0mD2\u001b[0m\u001b[0;34m\u001b[0m\u001b[0;34m\u001b[0m\u001b[0m\n\u001b[0m",
      "\u001b[0;31mTypeError\u001b[0m: unsupported operand type(s) for +: 'dict' and 'dict'"
     ]
    }
   ],
   "source": [
    "D + D2 "
   ]
  },
  {
   "cell_type": "markdown",
   "metadata": {},
   "source": [
    "Al solito la funzione **dir** permette di visualizzare dei metodi di dizionario disponibili"
   ]
  },
  {
   "cell_type": "code",
   "execution_count": 34,
   "metadata": {},
   "outputs": [
    {
     "data": {
      "text/plain": [
       "['__class__',\n",
       " '__contains__',\n",
       " '__delattr__',\n",
       " '__delitem__',\n",
       " '__dir__',\n",
       " '__doc__',\n",
       " '__eq__',\n",
       " '__format__',\n",
       " '__ge__',\n",
       " '__getattribute__',\n",
       " '__getitem__',\n",
       " '__gt__',\n",
       " '__hash__',\n",
       " '__init__',\n",
       " '__init_subclass__',\n",
       " '__iter__',\n",
       " '__le__',\n",
       " '__len__',\n",
       " '__lt__',\n",
       " '__ne__',\n",
       " '__new__',\n",
       " '__reduce__',\n",
       " '__reduce_ex__',\n",
       " '__repr__',\n",
       " '__setattr__',\n",
       " '__setitem__',\n",
       " '__sizeof__',\n",
       " '__str__',\n",
       " '__subclasshook__',\n",
       " 'clear',\n",
       " 'copy',\n",
       " 'fromkeys',\n",
       " 'get',\n",
       " 'items',\n",
       " 'keys',\n",
       " 'pop',\n",
       " 'popitem',\n",
       " 'setdefault',\n",
       " 'update',\n",
       " 'values']"
      ]
     },
     "execution_count": 34,
     "metadata": {},
     "output_type": "execute_result"
    }
   ],
   "source": [
    "dir({})"
   ]
  },
  {
   "cell_type": "markdown",
   "metadata": {},
   "source": [
    "Per l'aiuto specifico sul singolo metodo si può sempre usare la funzione **help**"
   ]
  },
  {
   "cell_type": "code",
   "execution_count": 35,
   "metadata": {},
   "outputs": [
    {
     "name": "stdout",
     "output_type": "stream",
     "text": [
      "Help on built-in function fromkeys:\n",
      "\n",
      "fromkeys(iterable, value=None, /) method of builtins.type instance\n",
      "    Create a new dictionary with keys from iterable and values set to value.\n",
      "\n"
     ]
    }
   ],
   "source": [
    "help({}.fromkeys)"
   ]
  },
  {
   "cell_type": "code",
   "execution_count": null,
   "metadata": {},
   "outputs": [],
   "source": []
  }
 ],
 "metadata": {
  "kernelspec": {
   "display_name": "Python 3",
   "language": "python",
   "name": "python3"
  },
  "language_info": {
   "codemirror_mode": {
    "name": "ipython",
    "version": 3
   },
   "file_extension": ".py",
   "mimetype": "text/x-python",
   "name": "python",
   "nbconvert_exporter": "python",
   "pygments_lexer": "ipython3",
   "version": "3.7.5"
  }
 },
 "nbformat": 4,
 "nbformat_minor": 2
}

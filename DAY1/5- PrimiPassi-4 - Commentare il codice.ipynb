{
 "cells": [
  {
   "cell_type": "markdown",
   "metadata": {},
   "source": [
    "## PRIMI PASSI(4): Commentare il codice\n",
    "<sub>(https://assets.digitalocean.com/books/python/how-to-code-in-python.pdf )</sub>)"
   ]
  },
  {
   "cell_type": "markdown",
   "metadata": {},
   "source": [
    "I **commenti** sono linee all'interno del programma che non vengono eseguite dal compilatore o nel caso di Python dall'interprete; ma che rappresentano un'aspetto **IMPORTANTE** per una buona _**riusabilità**_ e _**leggibilità**_ dello stesso."
   ]
  },
  {
   "cell_type": "markdown",
   "metadata": {},
   "source": [
    "#### In Python una linea di commento inizia con un simbolo _hash_, _cancelletto_, **#**"
   ]
  },
  {
   "cell_type": "code",
   "execution_count": 1,
   "metadata": {},
   "outputs": [],
   "source": [
    "# Questo è un commento"
   ]
  },
  {
   "cell_type": "markdown",
   "metadata": {},
   "source": [
    "Per estetica e chiarezza del codice i commenti dovrebbero essere sempre _indentati_ con lo stesso rientro del codice che si commenta(per es. il commento di una definizione di funzione) "
   ]
  },
  {
   "cell_type": "code",
   "execution_count": 2,
   "metadata": {},
   "outputs": [],
   "source": [
    "# La funzione test() è solo una funzione di prova\n",
    "def test():\n",
    "    # Stampo la stringa \"prova\"\n",
    "    print(\"prova\")"
   ]
  },
  {
   "cell_type": "markdown",
   "metadata": {},
   "source": [
    "E' possibile aggiungere un commento(meglio se breve) anche alla fine di una linea di codice. Ovvero alla destra della linea"
   ]
  },
  {
   "cell_type": "code",
   "execution_count": 3,
   "metadata": {},
   "outputs": [],
   "source": [
    "x = 2\n",
    "a = 3.14*(x**2) # area di un cerchio con raggio x=2 "
   ]
  },
  {
   "cell_type": "markdown",
   "metadata": {},
   "source": [
    "Se poi si deve commentare molte linee in una volta sola, per esempio per descrivere tutti gli aspetti di un programma complesso(input, output, parametri da passare, etc.) allora si possono usare le _docstrings_ la cui sintassi è:"
   ]
  },
  {
   "cell_type": "code",
   "execution_count": 5,
   "metadata": {},
   "outputs": [
    {
     "data": {
      "text/plain": [
       "'\\nQuesta è una docstring.\\nServe per descrivere cosa fa il codice e come usarlo\\nAutore: LucaTortuga\\nData ultima modifica: 20-03-2020\\n\\n'"
      ]
     },
     "execution_count": 5,
     "metadata": {},
     "output_type": "execute_result"
    }
   ],
   "source": [
    "\"\"\"\n",
    "Questa è una docstring.\n",
    "Serve per descrivere cosa fa il codice e come usarlo\n",
    "Autore: LucaTortuga\n",
    "Data ultima modifica: 20-03-2020\n",
    "\n",
    "\"\"\""
   ]
  }
 ],
 "metadata": {
  "kernelspec": {
   "display_name": "Python 3",
   "language": "python",
   "name": "python3"
  },
  "language_info": {
   "codemirror_mode": {
    "name": "ipython",
    "version": 3
   },
   "file_extension": ".py",
   "mimetype": "text/x-python",
   "name": "python",
   "nbconvert_exporter": "python",
   "pygments_lexer": "ipython3",
   "version": "3.7.5"
  }
 },
 "nbformat": 4,
 "nbformat_minor": 2
}

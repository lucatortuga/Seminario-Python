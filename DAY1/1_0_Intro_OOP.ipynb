{
 "cells": [
  {
   "cell_type": "markdown",
   "metadata": {},
   "source": [
    "# INTRO - Object Oriented Programming (pillole)\n",
    "<sub> (https://www.programmareinpython.it/ https://www.swiftios.it/introduzione-alle-classi-e-programmazione-a-oggetti/ )</sub>"
   ]
  },
  {
   "cell_type": "markdown",
   "metadata": {},
   "source": [
    "E' un paradigma di programmazione che permette di definire oggetti software in grado di interagire gli uni con gli altri attraverso lo scambio di messaggi.\n",
    "\n",
    "Tra i vantaggi della Programmazione Orientata agli Oggetti:\n",
    "\n",
    "- Fornisce un supporto naturale alla modellazione software degli oggetti del mondo reale o del modello astratto da riprodurre\n",
    "- Permette una più facile gestione e manutenzione di progetti di grandi dimensioni\n",
    "- L'organizzazione del codice sotto forma di classi favorisce la modularità e il riuso di codice"
   ]
  },
  {
   "cell_type": "markdown",
   "metadata": {},
   "source": [
    "**Cos'è quindi un oggetto?**  \n",
    "Un oggetto può essere ogni cosa l'automobile, il computer, un libro, la casa, io, etc. etc."
   ]
  },
  {
   "cell_type": "markdown",
   "metadata": {},
   "source": [
    "**Cosa rende gli elementi della lista sopra oggetti?**  \n",
    "Il fatto che ognuno di questo è identificato da delle **proprietà** specifiche:\n",
    "\n",
    "Ovvero degli **attributi** che descrivono l'oggetto e dei **metodi**(funzionalità) che ne permettono la manipolazione"
   ]
  },
  {
   "cell_type": "markdown",
   "metadata": {},
   "source": [
    "![attributi](img/attributi-300x169.png)"
   ]
  },
  {
   "cell_type": "markdown",
   "metadata": {},
   "source": [
    "Gli esseri umani stessi possono essere classificati come oggetti in quanto hanno delle caratteristiche ben precise: Altezza, peso, colore della pelle, colore dei capelli, età. Mentre le nostre funzionalità sono: camminare, saltare, studiare, mangiare, leggere, etc. "
   ]
  },
  {
   "cell_type": "markdown",
   "metadata": {},
   "source": [
    "Due persone, come per esempio io ed una di voi, hanno gli stessi attributi ma con valori diversi. **I _valori_ assunti dagli attributi definiscono lo stato dell'oggetto**  \n",
    "\n",
    "Volendo quindi generalizzare e raggruppare, possiamo dire che noi esseri umani apparteniamo tutti ad una stessa **classe**"
   ]
  },
  {
   "cell_type": "markdown",
   "metadata": {},
   "source": [
    "![persone](img/persone-300x169.png)"
   ]
  },
  {
   "cell_type": "markdown",
   "metadata": {},
   "source": [
    "con caratteristiche comuni ma contemporaneamente differenti gli uni dagli altri perchè uno è uomo e uno è donna, uno ha capelli neri e uno capelli rossi, etc."
   ]
  },
  {
   "cell_type": "markdown",
   "metadata": {},
   "source": [
    "**Quindi possiamo dire che gli oggetti con le stesse proprietà fanno parte della stessa categoria. Queste categorie prendono il nome di Classi.**  \n",
    "\n",
    "Possiamo Dire che:\n",
    "\n",
    "1. **Una Classe è il modello astratto di un oggetto, uno schema che rappresenta in modo concettuale un oggetto.**\n",
    "2. **La rappresentazione reale della classe, che chiameremo istanza della classe, prende il nome di oggetto**\n",
    "\n",
    "![istanza](img/macchinaista-300x180.png)"
   ]
  },
  {
   "cell_type": "markdown",
   "metadata": {},
   "source": [
    "### Di seguito vediamo un esempio di programmazione ad oggetti:"
   ]
  },
  {
   "cell_type": "code",
   "execution_count": 7,
   "metadata": {},
   "outputs": [
    {
     "name": "stdout",
     "output_type": "stream",
     "text": [
      "<__main__.Studente object at 0x10d675250>\n",
      "<__main__.Studente object at 0x10d675c90>\n",
      "\n",
      "\n",
      "Scheda studente:\n",
      " Nome:Luca\n",
      " Cognome:Simonetti\n",
      " Corso di studi:Programmazione\n",
      "Scheda studente:\n",
      " Nome:Lucia\n",
      " Cognome:Mondello\n",
      " Corso di studi:Lettere\n",
      "\n",
      "\n",
      "Scheda studente:\n",
      " Nome:Luca\n",
      " Cognome:Simonetti\n",
      " Corso di studi:Programmazione\n"
     ]
    }
   ],
   "source": [
    "# Creazione di una classe\n",
    "class Studente:\n",
    "    # Metodo costruttore di inizializzazione\n",
    "    def __init__(self, nome, cognome, corso_di_studi):\n",
    "        self.nome = nome\n",
    "        self.cognome = cognome\n",
    "        self.corso_di_studi = corso_di_studi\n",
    "    # Metodo di stampa della scheda\n",
    "    def scheda_personale(self):\n",
    "        return f\"Scheda studente:\\n Nome:{self.nome}\\n Cognome:{self.cognome}\\n Corso di studi:{self.corso_di_studi}\"\n",
    "\n",
    "# Istanziare 2 oggetti della classe Studente\n",
    "studente_uno = Studente('Luca', 'Simonetti', 'Programmazione')\n",
    "studente_due = Studente('Lucia', 'Mondello', 'Lettere')\n",
    "\n",
    "#Verifico lil tipo degli oggetti\n",
    "print(studente_uno)\n",
    "print(studente_due)\n",
    "print('\\n')\n",
    "print(studente_uno.scheda_personale())\n",
    "print(studente_due.scheda_personale())\n",
    "print('\\n')\n",
    "print(Studente.scheda_personale(studente_uno))"
   ]
  }
 ],
 "metadata": {
  "kernelspec": {
   "display_name": "Python 3",
   "language": "python",
   "name": "python3"
  },
  "language_info": {
   "codemirror_mode": {
    "name": "ipython",
    "version": 3
   },
   "file_extension": ".py",
   "mimetype": "text/x-python",
   "name": "python",
   "nbconvert_exporter": "python",
   "pygments_lexer": "ipython3",
   "version": "3.7.5"
  }
 },
 "nbformat": 4,
 "nbformat_minor": 4
}

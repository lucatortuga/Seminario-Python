{
 "cells": [
  {
   "cell_type": "markdown",
   "metadata": {},
   "source": [
    "## Gli Operatori ##"
   ]
  },
  {
   "cell_type": "markdown",
   "metadata": {},
   "source": [
    "Gli **operatori** non sono un'esclusiva di Python, in generale tutti i linguaggi di programmazione e sviluppo dispongono di questi costrutti sintattici; è possibile definirli come dei simboli attraverso i quali specificare quale regola dovrà essere applicata a degli operandi per l'ottenimento di uno determinato risultato."
   ]
  },
  {
   "cell_type": "markdown",
   "metadata": {},
   "source": [
    "### Aritmentici ###\n",
    "\n",
    "| **Op**  | **Descrizione** | **Esempio**  |\n",
    "| :------ |:-------------:| :-----:|\n",
    "| **+**  | operatore di **addizione** somma i valori degli operandi.  | 5+4=9 |\n",
    "| **-**  | operatore di **sottrazione** decrementa l'operando alla sinistra del simbolo di un valore pari a quello dell'operando alla destra di quest'ultimo.   | 5-4=1 |\n",
    "| **\\*** | operatore di **moltiplicazione** moltiplica l'operando alla sinistra del simbolo un numero di volte pari al valore dell'operando posto alla sua destra.| 5*4=20 |\n",
    "| **/** | operatore di **divisione** divide l'operando alla sinistra del simbolo sulla base del valore associato all'operando posto alla sua destra. | 20/5=4 |\n",
    "| **%(modulo)** | operatore modulo restituisce il resto di una divisione. | 5%2=1 |\n",
    "| **\\*\\*(esponente)** | operatore **esponente** eleva a potenza l'operando alla sinistra del simbolo un numero di volte pari al valore dell'operando posto alla sua destra. |  2\\*\\*3=8 |\n",
    "| **//(parte intera)** | operatore di **arrotondamento** restituisce il risultato di una divisione arrotondandolo al valore intero più prossimo a quello reale. |  8//3=2 |"
   ]
  },
  {
   "cell_type": "markdown",
   "metadata": {},
   "source": [
    "***"
   ]
  },
  {
   "cell_type": "markdown",
   "metadata": {},
   "source": [
    "### di Confronto ###\n",
    "\n",
    "| **Op** | **Descrizione** | **Esempio**  | **Ritorna** |\n",
    "| :----: | :-------------:|:-----:|:-----:|\n",
    "| **==**  | Se il valore dei due operandi è il medesimo il confronto restituisce TRUE, altrimenti FALSE.  | 3==2 | **False** |\n",
    "| **!=**  | Se il valore dei due operandi non è uguale il confronto restituisce TRUE, altrimenti FALSE.   | 3!=2 | **True** |\n",
    "| **>** | Se il valore alla sinistra del simbolo è maggiore di quello alla sua destra restituisce TRUE, altrimenti FALSE.      | 3>2 | **True** |\n",
    "| **<** | Se il valore alla sinistra del simbolo è inferiore a quello alla sua destra restituisce TRUE, altrimenti FALSE | 3<2 | **False** |\n",
    "| **>=** | Se il valore alla sinistra dei simboli è maggiore o uguale a quello alla sua destra restituisce TRUE, altrimenti FALSE. | 2>=2 | **True** |\n",
    "| **<=** | Se il valore alla sinistra dei simboli è minore o uguale a quello alla sua destra restituisce TRUE, altrimenti FALSE. |  2<=3 | **True** |"
   ]
  },
  {
   "cell_type": "markdown",
   "metadata": {},
   "source": [
    "***"
   ]
  },
  {
   "cell_type": "markdown",
   "metadata": {},
   "source": [
    "### di Assegnazione ###\n",
    "\n",
    "- **=** già visto l'assegnazione di una variabile si effettua con il singolo **=**\n",
    "- **+=** Vediamo un esempio semplice: **x=2 x+=3** il risultato di print(x) sarà **5**\n",
    "        Lo stesso vale per -=  *= /= %= **= //= \n"
   ]
  },
  {
   "cell_type": "code",
   "execution_count": 2,
   "metadata": {},
   "outputs": [
    {
     "name": "stdout",
     "output_type": "stream",
     "text": [
      "Il valore di x: 5\n",
      "Il valore di y: 2\n",
      "Il valore di z: 25\n"
     ]
    }
   ],
   "source": [
    "x = 2\n",
    "x+= 3 #attenzione qui a non inserire spazi fra la variabile ed '='\n",
    "print('Il valore di x:',x)\n",
    "\n",
    "y = 3\n",
    "y-= 1 #attenzione qui a non inserire spazi fra la variabile ed '='\n",
    "print('Il valore di y:',y)\n",
    "\n",
    "z = 5\n",
    "z**= 2\n",
    "print('Il valore di z:',z)"
   ]
  },
  {
   "cell_type": "markdown",
   "metadata": {},
   "source": [
    "***"
   ]
  },
  {
   "cell_type": "markdown",
   "metadata": {},
   "source": [
    "### Logici ###\n",
    "\n",
    "\n",
    "| **Op** | **Descrizione** | **Esempio**  | \n",
    "| :----: | :----: |:---: |\n",
    "| **and**  | a è True e b è True  | 1 == 1 **and** 2 == 2 |\n",
    "| **or**  | a è True, b è True **or** entrambi sono True   | **False or 1 == 1, True or True** |\n",
    "| **not** | inverte il valore logico | **not True** ritorna False |\n"
   ]
  },
  {
   "cell_type": "markdown",
   "metadata": {},
   "source": [
    "***"
   ]
  },
  {
   "cell_type": "markdown",
   "metadata": {},
   "source": [
    "### di Appartenenza (Membership Op.)\n",
    "\"**in**\" ritorna ```True``` se trova una variabile in una sequenza specificata  \n",
    "\"**not in**\"\" ritorna ```True``` se non trova la variabile nella sequenza. VEDI ESEMPIO SOTTO"
   ]
  },
  {
   "cell_type": "code",
   "execution_count": 3,
   "metadata": {},
   "outputs": [
    {
     "name": "stdout",
     "output_type": "stream",
     "text": [
      "True\n"
     ]
    }
   ],
   "source": [
    "x = [\"mela\", \"banana\"]\n",
    "\n",
    "print(\"banana\" in x)\n",
    "\n",
    "# ritorna True perchè \"banana\" è nella lista"
   ]
  },
  {
   "cell_type": "code",
   "execution_count": 4,
   "metadata": {},
   "outputs": [
    {
     "name": "stdout",
     "output_type": "stream",
     "text": [
      "True\n"
     ]
    }
   ],
   "source": [
    "x = [\"mela\", \"banana\"]\n",
    "\n",
    "print(\"ananas\" not in x)\n",
    "# ritorna True perchè \"ananas\" non è nella lista"
   ]
  },
  {
   "cell_type": "markdown",
   "metadata": {},
   "source": [
    "***"
   ]
  },
  {
   "cell_type": "markdown",
   "metadata": {},
   "source": [
    "### di Identità ###\n",
    "\"**is**\" Restituisce ```True``` se gli operandi fanno riferimento al medesimo oggetto.  \n",
    "Se ```x = \"ciao\"``` e ```y = \"ciao\"``` allora ```print(x is y)``` restituisce ```True``` perché uguali per valore e identici per tipo di dato."
   ]
  },
  {
   "cell_type": "code",
   "execution_count": 4,
   "metadata": {},
   "outputs": [
    {
     "name": "stdout",
     "output_type": "stream",
     "text": [
      "True\n"
     ]
    }
   ],
   "source": [
    "x = 'ciao'\n",
    "y = 'ciao'\n",
    "print (x is y)"
   ]
  },
  {
   "cell_type": "markdown",
   "metadata": {},
   "source": [
    "\"**is not**\" Restituisce ```True``` se gli operandi non fanno riferimento al medesimo oggetto."
   ]
  },
  {
   "cell_type": "markdown",
   "metadata": {},
   "source": [
    "****"
   ]
  },
  {
   "cell_type": "markdown",
   "metadata": {
    "slideshow": {
     "slide_type": "skip"
    }
   },
   "source": [
    "ed inoltre ..."
   ]
  },
  {
   "cell_type": "markdown",
   "metadata": {
    "slideshow": {
     "slide_type": "skip"
    },
    "tags": [
     "{",
     "\"tags\":",
     "[",
     "\"hide_input\"",
     "]",
     "}",
     "\"hide_output\""
    ]
   },
   "source": [
    "### Bitwise ###\n",
    "\n",
    "- **&** AND binario\n",
    "- **|** OR binario\n",
    "- **~** Complemento a uno\n",
    "- **<<** shift a sx\n",
    "- **>>** shift a dx\n",
    "          \n",
    "| **Op**  | **Descrizione** | **Esempio**  |\n",
    "| :------ |:-------------:| :-----:|\n",
    "| **& AND binario**  | l'operatore copia un bit al risultato se esiste in entrambi gli operandi  | (a & b) (vale 0000 1100) |\n",
    "| **\\| OR binario** | l'operatore copia un bit al risultato se esiste in uno degli operandi   | (a \\| b) = 61 (vale 0011 1101) |\n",
    "| **˜ Compl. ad uno binario** | l'operatore esegue il complemento ad uno binario | ~a = 61(1100 0011) |"
   ]
  },
  {
   "cell_type": "code",
   "execution_count": 5,
   "metadata": {},
   "outputs": [
    {
     "name": "stdout",
     "output_type": "stream",
     "text": [
      "a= 60 : 0b111100 b= 13 : 0b1101\n",
      "result of AND is  12 : 0b1100\n",
      "result of OR is  61 : 0b111101\n",
      "result of EXOR is  49 : 0b110001\n",
      "result of COMPLEMENT is  -61 : -0b111101\n",
      "result of LEFT SHIFT is  240 : 0b11110000\n",
      "result of RIGHT SHIFT is  15 : 0b1111\n"
     ]
    }
   ],
   "source": [
    "#Esempio op. Bitwise\n",
    "\n",
    "a = 60            # 60 = 0011 1100\n",
    "b = 13            # 13 = 0000 1101\n",
    "print('a=',a,':',bin(a),'b=',b,':',bin(b))\n",
    "c = 0\n",
    "\n",
    "c = a & b;        # 12 = 0000 1100\n",
    "print(\"result of AND is \", c,':',bin(c))\n",
    "\n",
    "c = a | b;        # 61 = 0011 1101 \n",
    "print(\"result of OR is \", c,':',bin(c))\n",
    "\n",
    "c = a ^ b;        # 49 = 0011 0001\n",
    "print(\"result of EXOR is \", c,':',bin(c))\n",
    "\n",
    "c = ~a;           # -61 = 1100 0011\n",
    "print(\"result of COMPLEMENT is \", c,':',bin(c))\n",
    "\n",
    "c = a << 2;       # 240 = 1111 0000\n",
    "print(\"result of LEFT SHIFT is \", c,':',bin(c))\n",
    "\n",
    "c = a >> 2;       # 15 = 0000 1111\n",
    "print(\"result of RIGHT SHIFT is \", c,':',bin(c))"
   ]
  }
 ],
 "metadata": {
  "kernelspec": {
   "display_name": "Python 3",
   "language": "python",
   "name": "python3"
  },
  "language_info": {
   "codemirror_mode": {
    "name": "ipython",
    "version": 3
   },
   "file_extension": ".py",
   "mimetype": "text/x-python",
   "name": "python",
   "nbconvert_exporter": "python",
   "pygments_lexer": "ipython3",
   "version": "3.7.5"
  }
 },
 "nbformat": 4,
 "nbformat_minor": 2
}
